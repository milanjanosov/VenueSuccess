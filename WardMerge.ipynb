{
 "cells": [
  {
   "cell_type": "code",
   "execution_count": 3,
   "metadata": {},
   "outputs": [],
   "source": [
    "import pandas as pd\n",
    "import geopandas as gpd\n",
    "import numpy as np\n",
    "import time \n",
    "import os\n",
    "from ParseJsons import check_box\n",
    "from multiprocessing import Process\n",
    "from geopandas.geoseries import Point\n",
    "\n",
    "city       = 'london'\n",
    "outfolder  = '../ProcessedData/' + city + '/'\n"
   ]
  },
  {
   "cell_type": "code",
   "execution_count": 11,
   "metadata": {},
   "outputs": [],
   "source": [
    "def load_shp(city): \n",
    "    shpfile     = 'wards/London-wards-2014_ESRI/London_Ward.shp'\n",
    "    ward_shp_df = gpd.read_file(shpfile).to_crs({'init': 'epsg:4326'})  \n",
    "    return ward_shp_df\n",
    "\n",
    "\n",
    "def get_venues_coordinates(city, outfolder):\n",
    "    print ('Parsing venue coordinates...')\n",
    "    venues_coordinates = {}\n",
    "    for ind, line in enumerate(open(outfolder + '/user_info/' + city + '_user_venues_full_locals_filtered.dat')):\n",
    "        #if ind % 5000 == 0: print (ind)\n",
    "        venues = [fff.split(',') for fff in line.strip().split('\\t')[1:]]\n",
    "        for v in venues:\n",
    "            venues_coordinates[v[0]] = (float(v[1]), float(v[2]))\n",
    "    return venues_coordinates\n",
    "\n"
   ]
  },
  {
   "cell_type": "code",
   "execution_count": 12,
   "metadata": {},
   "outputs": [
    {
     "name": "stdout",
     "output_type": "stream",
     "text": [
      "Parsing venue coordinates...\n"
     ]
    }
   ],
   "source": [
    "ward_shp_df                 = load_shp(city)\n",
    "venues_coordinates          = get_venues_coordinates(city, outfolder)\n"
   ]
  },
  {
   "cell_type": "code",
   "execution_count": 18,
   "metadata": {},
   "outputs": [
    {
     "name": "stdout",
     "output_type": "stream",
     "text": [
      "E05000649 ['__and__', '__array_interface__', '__class__', '__del__', '__delattr__', '__dict__', '__doc__', '__eq__', '__format__', '__geo_interface__', '__geom__', '__getattribute__', '__hash__', '__init__', '__module__', '__ne__', '__new__', '__or__', '__p__', '__reduce__', '__reduce_ex__', '__repr__', '__setattr__', '__setstate__', '__sizeof__', '__str__', '__sub__', '__subclasshook__', '__weakref__', '__xor__', '_crs', '_ctypes_data', '_exterior', '_geom', '_get_coords', '_interiors', '_is_empty', '_lgeos', '_ndim', '_other_owned', '_repr_svg_', '_set_coords', 'almost_equals', 'area', 'array_interface_base', 'boundary', 'bounds', 'buffer', 'centroid', 'contains', 'convex_hull', 'coords', 'covers', 'crosses', 'ctypes', 'difference', 'disjoint', 'distance', 'empty', 'envelope', 'equals', 'equals_exact', 'exterior', 'from_bounds', 'geom_type', 'geometryType', 'has_z', 'hausdorff_distance', 'impl', 'interiors', 'interpolate', 'intersection', 'intersects', 'is_closed', 'is_empty', 'is_ring', 'is_simple', 'is_valid', 'length', 'minimum_rotated_rectangle', 'overlaps', 'project', 'relate', 'relate_pattern', 'representative_point', 'simplify', 'svg', 'symmetric_difference', 'to_wkb', 'to_wkt', 'touches', 'type', 'union', 'within', 'wkb', 'wkb_hex', 'wkt', 'xy']\n"
     ]
    }
   ],
   "source": [
    "pnt      = Point(-0.1384272283465623,51.51447257088392)        \n",
    "query_df = ward_shp_df[ward_shp_df.contains(pnt)]\n",
    "\n",
    "if query_df.shape[0] == 1:\n",
    "    ward, polygon = (query_df.iloc[0]['GSS_CODE'], query_df.iloc[0]['geometry'])\n",
    "    print ward, dir(polygon)"
   ]
  },
  {
   "cell_type": "code",
   "execution_count": null,
   "metadata": {},
   "outputs": [],
   "source": [
    "lsoa_venues, lsoa_polygons  = get_lsoa_venues(cityshape, venues_coordinates, bbox, city, outfolder)\n",
    "lsoa_users                  = get_users_lsoa(city, outfolder, cityshape)    "
   ]
  }
 ],
 "metadata": {
  "kernelspec": {
   "display_name": "Python 2",
   "language": "python",
   "name": "python2"
  },
  "language_info": {
   "codemirror_mode": {
    "name": "ipython",
    "version": 2
   },
   "file_extension": ".py",
   "mimetype": "text/x-python",
   "name": "python",
   "nbconvert_exporter": "python",
   "pygments_lexer": "ipython2",
   "version": "2.7.12"
  }
 },
 "nbformat": 4,
 "nbformat_minor": 2
}
