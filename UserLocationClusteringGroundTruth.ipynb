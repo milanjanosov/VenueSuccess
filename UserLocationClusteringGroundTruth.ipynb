{
 "cells": [
  {
   "cell_type": "code",
   "execution_count": 2,
   "metadata": {},
   "outputs": [
    {
     "data": {
      "text/plain": [
       "' READ THE OUTPUTS OF THE Centroid, DBSCAN, and home_addresses file and compare, evaluate ! '"
      ]
     },
     "execution_count": 2,
     "metadata": {},
     "output_type": "execute_result"
    }
   ],
   "source": [
    "''' READ THE OUTPUTS OF THE Centroid, DBSCAN, and home_addresses file and compare, evaluate ! '''"
   ]
  },
  {
   "cell_type": "code",
   "execution_count": 52,
   "metadata": {},
   "outputs": [],
   "source": [
    "city = 'budapest'\n",
    "\n",
    "import os\n",
    "import mpu\n",
    "import pandas as pd"
   ]
  },
  {
   "cell_type": "code",
   "execution_count": 53,
   "metadata": {},
   "outputs": [],
   "source": [
    "''' USERS HOME LOCATIONS'''\n",
    "\n",
    "\n",
    "# parse city data\n",
    "city = 'bristol'\n",
    "outfolder =  '../ProcessedData/' + city + '/'\n",
    "\n",
    "\n",
    "def get_users_homes(fn, city, outfolder, num = 3):\n",
    "    \n",
    "    users_coordinates = {}\n",
    "\n",
    "    for line in open(outfolder + fn):\n",
    "        if num == 4:\n",
    "            user, lng, lat, venue = line.strip().split('\\t')\n",
    "        else:\n",
    "            user, lng, lat = line.strip().split('\\t')\n",
    "\n",
    "        users_coordinates[user] = (float(lng), float(lat))\n",
    "        \n",
    "    return users_coordinates\n",
    "\n",
    "\n",
    "def get_groundtruth_homes(city, outfolder):\n",
    "\n",
    "    return get_users_homes( 'user_info/' + city + '_groundtruth_home_locations_unique.dat', city, outfolder, 4)\n"
   ]
  },
  {
   "cell_type": "code",
   "execution_count": 57,
   "metadata": {},
   "outputs": [],
   "source": [
    "def get_homes_from_methods(city, outfolder):\n",
    "    \n",
    "    files = ['/user_homes/' + fff for fff in os.listdir(outfolder + '/user_homes/' ) if '_user_homes_' in fff]\n",
    "\n",
    "    methods_homes = {}\n",
    "    for fn in files:\n",
    "\n",
    "        method      = fn.split('homes_')[1].replace('.dat','')\n",
    "        users_homes = get_users_homes(fn, city, outfolder)\n",
    "\n",
    "        for user, home in users_homes.items():\n",
    "\n",
    "            if user not in methods_homes:\n",
    "                methods_homes[user] = {}\n",
    "\n",
    "            methods_homes[user][method] = home\n",
    "    \n",
    "    return methods_homes\n",
    "    \n",
    "    \n",
    "get_homes_from_methods(city, outfolder)\n",
    "a = 1"
   ]
  },
  {
   "cell_type": "code",
   "execution_count": 58,
   "metadata": {},
   "outputs": [],
   "source": [
    "def get_distance_from_groundtruth(city, outfolder):\n",
    "\n",
    "    homedistances_users_methods = {}\n",
    "\n",
    "    for user, home in groundtruth_homes.items():\n",
    "\n",
    "        for method, home_ in methods_homes[user].items():\n",
    "\n",
    "            if user not in homedistances_users_methods:\n",
    "                homedistances_users_methods[user] = {}\n",
    "\n",
    "            homedistances_users_methods[user][method] =  mpu.haversine_distance((home[1], home[0]), (home_[1], home_[0])) \n",
    "\n",
    "\n",
    "    return pd.DataFrame.from_dict(homedistances_users_methods, orient = 'index')\n",
    "\n",
    "    \n"
   ]
  },
  {
   "cell_type": "code",
   "execution_count": 80,
   "metadata": {},
   "outputs": [
    {
     "name": "stdout",
     "output_type": "stream",
     "text": [
      "centroids_cutoff=2.0\n"
     ]
    }
   ],
   "source": [
    "import matplotlib.pyplot as plt\n",
    "import numpy as np \n",
    "\n",
    "\n",
    "def dummy_viz_goodness_of_dist(distance_from_groundtruth):\n",
    "\n",
    "    def viz_ax(ax, method, distance_from_groundtruth):\n",
    "\n",
    "        ax.set_title(method)\n",
    "        ax.hist(distance_from_groundtruth[method].dropna(), bins = 100, alpha = 0.7)\n",
    "        ax.set_yscale('log')\n",
    "        ax.set_xlim([0,5])\n",
    "        \n",
    "    f, ax   = plt.subplots(2, 2, figsize=(15, 10))\n",
    "    methods = distance_from_groundtruth.keys()\n",
    "\n",
    "    print methods[1]\n",
    "    viz_ax(ax[0,0], methods[5], distance_from_groundtruth)    \n",
    "    viz_ax(ax[0,1], methods[1], distance_from_groundtruth)    \n",
    "    viz_ax(ax[1,0], methods[2], distance_from_groundtruth)    \n",
    "    viz_ax(ax[1,1], methods[3], distance_from_groundtruth)    \n",
    "\n",
    "    plt.savefig(outfolder   + '/user_homes/' + city + '_home_distance_from_groundtruth_' + str(LIMIT) + '.png')\n",
    "    plt.close()\n",
    "    \n",
    "    \n"
   ]
  },
  {
   "cell_type": "code",
   "execution_count": 84,
   "metadata": {},
   "outputs": [
    {
     "name": "stdout",
     "output_type": "stream",
     "text": [
      "centroids_cutoff=2.0\n"
     ]
    }
   ],
   "source": [
    "groundtruth_homes         = get_groundtruth_homes(city, outfolder)\n",
    "methods_homes             = get_homes_from_methods(city, outfolder)\n",
    "distance_from_groundtruth = get_distance_from_groundtruth(city, outfolder)\n",
    "\n",
    "#print distance_from_groundtruth\n",
    "df_res = pd.DataFrame()\n",
    "df_res['Averages'] = distance_from_groundtruth.mean(axis=0)\n",
    "df_res['Stdevs']   = distance_from_groundtruth.std(axis=0)\n",
    "\n",
    "df_res.to_csv(outfolder   + '/user_homes/' + city + '_CENTROID_COMPARISON_RES.csv', sep = '\\t', float_format='%.3f')\n",
    "\n",
    "dummy_viz_goodness_of_dist(distance_from_groundtruth)    \n",
    "  \n",
    "    \n"
   ]
  },
  {
   "cell_type": "code",
   "execution_count": null,
   "metadata": {},
   "outputs": [],
   "source": [
    "\n",
    "    \n",
    "  \n",
    "\n",
    "\n"
   ]
  },
  {
   "cell_type": "code",
   "execution_count": null,
   "metadata": {},
   "outputs": [],
   "source": []
  }
 ],
 "metadata": {
  "kernelspec": {
   "display_name": "py36-test",
   "language": "python",
   "name": "py36-test"
  },
  "language_info": {
   "codemirror_mode": {
    "name": "ipython",
    "version": 2
   },
   "file_extension": ".py",
   "mimetype": "text/x-python",
   "name": "python",
   "nbconvert_exporter": "python",
   "pygments_lexer": "ipython2",
   "version": "2.7.12"
  }
 },
 "nbformat": 4,
 "nbformat_minor": 2
}
