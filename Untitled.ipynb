{
 "cells": [
  {
   "cell_type": "code",
   "execution_count": 3,
   "metadata": {},
   "outputs": [],
   "source": [
    "city      = 'bristol'\n",
    "inroot    = '../Data/fsqdb/'    + city + '/'\n",
    "outfolder = '../ProcessedData/' + city + '/'\n"
   ]
  },
  {
   "cell_type": "code",
   "execution_count": 5,
   "metadata": {},
   "outputs": [],
   "source": [
    "def get_user_venues(city, outfolder, LIMIT_num):\n",
    "\n",
    "    \n",
    "    user_venues       = {}\n",
    "    venues_categories = {}\n",
    "    all_users         = []\n",
    "    \n",
    "    for line in open(outfolder + '/user_info/' + city + '_user_venues_full.dat'):\n",
    "        if 'userid' not in line:\n",
    "            fields = line.strip().split('\\t')\n",
    "            user   = fields[0]\n",
    "            \n",
    "            if len(fields[1:]) > LIMIT_num:\n",
    "            \n",
    "                for field in fields[1:]:\n",
    "                    \n",
    "                    dields = field.split(',')\n",
    "                    venue  = dields[0]\n",
    "                    lng    = float(dields[1])\n",
    "                    lat    = float(dields[2])\n",
    "                    categ  = dields[3]\n",
    "                    \n",
    "                    if venue not in venues_categories:\n",
    "                        venues_categories[venue] = categ\n",
    "                    \n",
    "                \n",
    "                    if user not in user_venues:\n",
    "                        user_venues[user] = [(venue, lng, lat, categ)]\n",
    "                    else:\n",
    "                        user_venues[user].append((venue, lng, lat, categ))\n",
    "                        \n",
    "            \n",
    "    return user_venues, venues_categories\n",
    "\n",
    "user_venues, venues_categories = get_user_venues(city, outfolder, 3)"
   ]
  },
  {
   "cell_type": "code",
   "execution_count": 10,
   "metadata": {},
   "outputs": [
    {
     "name": "stdout",
     "output_type": "stream",
     "text": [
      "('4b7d9031f964a520f9c62fe3', {'4c96d5dc94debfb7c7f1a876': 0.4641320118943037, '4fe755b1e4b0dceaf9402b47': 0.7699795958717295, '4be55d452457a593235dab15': 3.694830862141278}, '\\n')\n",
      "('4b7d9031f964a520f9c62fe3', [('4c96d5dc94debfb7c7f1a876', 0.4641320118943037, 'shops'), ('4fe755b1e4b0dceaf9402b47', 0.7699795958717295, 'building'), ('4be55d452457a593235dab15', 3.694830862141278, 'shops')])\n",
      "('4c96d5dc94debfb7c7f1a876', {'4b7d9031f964a520f9c62fe3': 0.4641320118943037, '4fe755b1e4b0dceaf9402b47': 1.017016064398449, '4be55d452457a593235dab15': 3.602877331897969}, '\\n')\n",
      "('4c96d5dc94debfb7c7f1a876', [('4b7d9031f964a520f9c62fe3', 0.4641320118943037, 'food'), ('4fe755b1e4b0dceaf9402b47', 1.017016064398449, 'building'), ('4be55d452457a593235dab15', 3.602877331897969, 'shops')])\n",
      "('4fe755b1e4b0dceaf9402b47', {'4b7d9031f964a520f9c62fe3': 0.7699795958717295, '4c96d5dc94debfb7c7f1a876': 1.017016064398449, '4be55d452457a593235dab15': 3.0814386648872816}, '\\n')\n",
      "('4fe755b1e4b0dceaf9402b47', [('4b7d9031f964a520f9c62fe3', 0.7699795958717295, 'food'), ('4c96d5dc94debfb7c7f1a876', 1.017016064398449, 'shops'), ('4be55d452457a593235dab15', 3.0814386648872816, 'shops')])\n",
      "('4be55d452457a593235dab15', {'4b7d9031f964a520f9c62fe3': 3.694830862141278, '4c96d5dc94debfb7c7f1a876': 3.602877331897969, '4fe755b1e4b0dceaf9402b47': 3.0814386648872816}, '\\n')\n",
      "('4be55d452457a593235dab15', [('4fe755b1e4b0dceaf9402b47', 3.0814386648872816, 'building'), ('4c96d5dc94debfb7c7f1a876', 3.602877331897969, 'shops'), ('4b7d9031f964a520f9c62fe3', 3.694830862141278, 'food')])\n"
     ]
    },
    {
     "data": {
      "text/plain": [
       "{}"
      ]
     },
     "execution_count": 10,
     "metadata": {},
     "output_type": "execute_result"
    }
   ],
   "source": [
    "def get_venues_distances_sorted(city, outfolder, user_venues, venues_categories):\n",
    "\n",
    "\n",
    "    venues_distances = {}\n",
    "\n",
    "    for index, line in enumerate(open(outfolder + '/venues_info/' + city + '_venues_distance_matrix.dat')):\n",
    "        \n",
    "        if index == 10: break\n",
    "        v1, v2, dist = line.strip().split('\\t')\n",
    "        dist = float(dist)\n",
    "        \n",
    "        \n",
    "        if v1 not in venues_distances:\n",
    "            venues_distances[v1] = {}\n",
    "        \n",
    "        venues_distances[v1][v2] = dist\n",
    "            \n",
    "        \n",
    "        if v2 not in venues_distances:\n",
    "            venues_distances[v2] = {}\n",
    "        \n",
    "        venues_distances[v2][v1] = dist    \n",
    "\n",
    "\n",
    "         \n",
    "    venues_distances_sorted = {}        \n",
    "            \n",
    "    for v, vs in venues_distances.items():\n",
    "        print(v, vs, '\\n')\n",
    "        print(v, sorted([(ke, va, venues_categories[ke]) for ke, va in vs.items()], key=lambda tup: tup[1]))\n",
    "        \n",
    "     #   venues_distances_sorted[v] = sorted([(ke, va, venues_categories[ke]) for ke, va in vs.items()], key=lambda tup: tup[1])\n",
    "\n",
    "    #for ind, (u, v) in enumerate(user_venues.items()):\n",
    "     #   if ind == 10: break\n",
    "     #   print(u, v, '\\n')\n",
    "\n",
    "    return venues_distances_sorted     \n",
    "\n",
    "\n",
    "get_venues_distances_sorted(city, outfolder, user_venues, venues_categories)"
   ]
  },
  {
   "cell_type": "code",
   "execution_count": null,
   "metadata": {},
   "outputs": [],
   "source": []
  }
 ],
 "metadata": {
  "kernelspec": {
   "display_name": "Python 2",
   "language": "python",
   "name": "python2"
  },
  "language_info": {
   "codemirror_mode": {
    "name": "ipython",
    "version": 2
   },
   "file_extension": ".py",
   "mimetype": "text/x-python",
   "name": "python",
   "nbconvert_exporter": "python",
   "pygments_lexer": "ipython2",
   "version": "2.7.12"
  }
 },
 "nbformat": 4,
 "nbformat_minor": 2
}
