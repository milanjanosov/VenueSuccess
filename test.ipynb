{
 "cells": [
  {
   "cell_type": "code",
   "execution_count": 10,
   "metadata": {},
   "outputs": [
    {
     "name": "stdout",
     "output_type": "stream",
     "text": [
      "Index([u'clustering', u'closeness_geo', u'geo_stdev_of_ego', u'pagerank_geo',\n",
      "       u'degree', u'constraint', u'closeness', u'triangle_size',\n",
      "       u'eigenvector_geo', u'geo_size_of_ego', u'betweenness', u'pagerank',\n",
      "       u'strength_geo', u'constraint_geo', u'egosize', u'betweenness_geo',\n",
      "       u'clustering_geo', u'eigenvector', u'social_stretch'],\n",
      "      dtype='object')\n"
     ]
    }
   ],
   "source": [
    "import os\n",
    "import pandas as pd\n",
    "\n",
    "city        = 'bristol'\n",
    "outroot     = '../ProcessedData/' + city \n",
    "\n",
    "users_friend_geo   = outroot + '/networks/' + city + '_users_geo_networkmeasures.csv'\n",
    "users_friend_topo  = outroot + '/networks/' + city + '_users_topo_networkmeasures.csv'\n",
    "users_sim          = outroot + '/networks/' + city + '_users_topo_networkmeasures.csv'\n",
    "venues_sim         = outroot + '/networks/' + city + '_venues_sim_geo_networkmeasures.csv'\n",
    "\n",
    "\n",
    "\n",
    "df_friend_geo  =  pd.read_csv(users_friend_geo,index_col=0) \n",
    "\n",
    "#for line in open(users_friend_geo):\n",
    "#    print line\n",
    "\n",
    "print (df_friend_geo.keys())\n"
   ]
  },
  {
   "cell_type": "code",
   "execution_count": null,
   "metadata": {},
   "outputs": [],
   "source": [
    "'''\n",
    "Created on May 29, 2018\n",
    "CODE COMES WITH NO WARRANTY, I HAVEN'T TESTED IT.\n",
    "But it gives you a hint on what are the packages to use and the overall procedure\n",
    "@author: lajel\n",
    "'''\n",
    "\n",
    "import bz2\n",
    "from rtree import index\n",
    "import shapefile\n",
    "\n",
    "\n",
    "'''\n",
    "Extracts shapes from the shapefile\n",
    "@param shapefile: the name of the shapefile\n",
    "'''\n",
    "def extract_shapes(shpfile):\n",
    "    shp = shapefile.Reader(shpfile) #open the shapefile\n",
    "    all_shapes = shp.shapes() # get all the polygons\n",
    "    all_records = shp.records()\n",
    "    return all_shapes, all_records\n",
    "\n",
    "'''\n",
    "Builds a spatial index out of coordinates\n",
    "@param coords: list of triples (point_id, lat, lon)\n",
    "'''\n",
    "def build_rtree_index(coords):\n",
    "    idx= index.Index()\n",
    "    for coord in coords:\n",
    "        point_id, lat, lon = coord\n",
    "        idx.insert(point_id, (lon, lat, lon, lat))\n",
    "    return idx\n",
    "\n",
    "'''\n",
    "Matches points to areas.\n",
    "@param idx: the spatial index\n",
    "@param all_shapes: the shapes\n",
    "@param all_shapes: the records\n",
    "'''\n",
    "def get_pid2area(idx,all_shapes,all_records,outfile):\n",
    "    point2area = {}\n",
    "    for i in range(0,len(all_shapes)):\n",
    "        area_id = all_records[i][1]\n",
    "        shp = all_shapes[i]\n",
    "        minx, miny, maxx, maxy = shp.bbox\n",
    "        point_ids = list(idx.intersection((minx, miny, maxx, maxy)))\n",
    "        for pid in point_ids:\n",
    "            point2area[pid] = area_id\n",
    "    if outfile is not None:\n",
    "        fout = bz2.open(outfile,'wt',encoding='utf-8')\n",
    "        for pid in point2area:\n",
    "            fout.write('%s,%s\\n'%(pid,point2area[pid]))\n",
    "        fout.close()\n",
    "    return point2area\n",
    "\n",
    "if __name__ == '__main__':\n",
    "    shpfile = 'cb_2017_us_cbsa_500k//cb_2017_us_cbsa_500k.shp'\n",
    "    coordinates = [(2, 42.344859, -94.083647), (3, 43.291242, -85.472008), (4,33.312953, -103.731874)]\n",
    "    all_shapes, all_records = extract_shapes(shpfile)\n",
    "    index = build_rtree_index(coordinates)\n",
    "    print(index)\n",
    "    point2area = get_pid2area(index, all_shapes, all_records, 'output_file')\n",
    "    print (point2area)\n",
    "    \n",
    "    "
   ]
  }
 ],
 "metadata": {
  "kernelspec": {
   "display_name": "Python 2",
   "language": "python",
   "name": "python2"
  },
  "language_info": {
   "codemirror_mode": {
    "name": "ipython",
    "version": 2
   },
   "file_extension": ".py",
   "mimetype": "text/x-python",
   "name": "python",
   "nbconvert_exporter": "python",
   "pygments_lexer": "ipython2",
   "version": "2.7.12"
  }
 },
 "nbformat": 4,
 "nbformat_minor": 2
}
