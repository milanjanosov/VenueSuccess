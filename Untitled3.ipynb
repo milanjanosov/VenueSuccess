{
 "cells": [
  {
   "cell_type": "code",
   "execution_count": 31,
   "metadata": {},
   "outputs": [],
   "source": [
    "\n",
    "import pandas as pd\n",
    "import geopandas as gpd\n",
    "from geopandas.geoseries import Point\n",
    "import numpy as np\n",
    "\n",
    "\n",
    "\n",
    "\n",
    "\n",
    "\n",
    "''' =========================================================== '''\n",
    "'''             load the shapefile of UK                        '''\n",
    "''' =========================================================== '''\n",
    "\n",
    "def load_shp(city):\n",
    "    \n",
    "    print ('Loading the shapefile...')\n",
    "    lsoa_shp_df = gpd.read_file('area_matching/lsoa_shp/lsoa.shp')\n",
    "    #return lsoa_shp_df[lsoa_shp_df['name'].str.contains(city.title())].to_crs({'init': 'epsg:4326'})  \n",
    "    return lsoa_shp_df\n",
    "\n",
    "\n",
    "\n",
    "''' =========================================================== '''\n",
    "'''          parse the coordinates of the 4sqr venues           '''\n",
    "''' =========================================================== '''\n",
    "\n",
    "def get_venues_coordinates(city, outfolder):\n",
    "\n",
    "    print ('Parsing venue coordinates...')\n",
    "\n",
    "    venues_coordinates = {}\n",
    "\n",
    "    for ind, line in enumerate(open(outfolder + '/user_info/' + city + '_user_venues_full_locals_filtered.dat')):\n",
    "        if ind % 5000 == 0:\n",
    "                print ind\n",
    "        fields = line.strip().split('\\t')\n",
    "        venues = [fff.split(',') for fff in fields[1:]]\n",
    "\n",
    "        for v in venues:\n",
    "            venues_coordinates[v[0]] = (float(v[1]), float(v[2]))\n",
    "\n",
    "    return venues_coordinates\n",
    "\n",
    "\n",
    "\n",
    "''' ========================================================================== '''\n",
    "''' get the LSOA id and the polygon of each coordinate (if its within the city '''\n",
    "''' ========================================================================== '''\n",
    "\n",
    "def coordinates_to_lsoa(lats, lons, cityshape):\n",
    "    \n",
    "    poly = (0,0)\n",
    "    \n",
    "    try:\n",
    "        pnt = Point(lons, lats)\n",
    "        query_df = cityshape[cityshape.contains(pnt)]\n",
    "        if query_df.shape[0] == 1:\n",
    "            poly = (query_df.iloc[0]['lsoa11cd'], query_df.iloc[0]['geometry'])\n",
    "    except Exception as exception:\n",
    "        pass\n",
    "    \n",
    "    return poly\n",
    "\n",
    "\n",
    "\n",
    "''' =========================================================== '''\n",
    "'''              get the venues within lsoa-s                   '''\n",
    "''' =========================================================== '''\n",
    "\n",
    "def get_lsoa_venues(cityshape, venues_coordinates):\n",
    "\n",
    "    print ('Converting (lat, long) to LSOA-s...')\n",
    "    \n",
    "    lsoa_venues  = {}\n",
    "    lsoa_polygons = {}\n",
    "\n",
    "    for ind, (v, c) in enumerate(venues_coordinates.items()):\n",
    "#        if ind == 50: break\n",
    "        \n",
    "        lsoa, polygon = coordinates_to_lsoa( c[1], c[0], cityshape )\n",
    "\n",
    "        if lsoa != 0:          \n",
    "                   \n",
    "            if lsoa not in lsoa_polygons:\n",
    "                lsoa_polygons[lsoa] = polygon    \n",
    "            \n",
    "            if lsoa not in lsoa_venues:\n",
    "                lsoa_venues[lsoa] = [v]\n",
    "            else:\n",
    "                lsoa_venues[lsoa].append(v)\n",
    "        \n",
    "    return lsoa_venues, lsoa_polygons\n",
    "\n",
    "\n",
    "\n",
    "#v\n",
    "#lsoa_venues, lsoa_polygons  = get_lsoa_venues(cityshape, venues_coordinates)"
   ]
  },
  {
   "cell_type": "code",
   "execution_count": 29,
   "metadata": {},
   "outputs": [
    {
     "name": "stdout",
     "output_type": "stream",
     "text": [
      "Loading the shapefile...\n"
     ]
    }
   ],
   "source": [
    "city        = 'bristol'\n",
    "outfolder   = '../ProcessedData/' + city + '/'\n",
    "cityshape                   = load_shp(city)\n"
   ]
  },
  {
   "cell_type": "code",
   "execution_count": 9,
   "metadata": {},
   "outputs": [
    {
     "name": "stdout",
     "output_type": "stream",
     "text": [
      "Parsing venue coordinates...\n"
     ]
    }
   ],
   "source": [
    "venues_coordinates          = get_venues_coordinates(city, outfolder)"
   ]
  },
  {
   "cell_type": "code",
   "execution_count": 32,
   "metadata": {},
   "outputs": [
    {
     "name": "stdout",
     "output_type": "stream",
     "text": [
      "Converting (lat, long) to LSOA-s...\n"
     ]
    }
   ],
   "source": [
    "lsoa_venues, lsoa_polygons  = get_lsoa_venues(cityshape, venues_coordinates)"
   ]
  },
  {
   "cell_type": "code",
   "execution_count": 33,
   "metadata": {},
   "outputs": [
    {
     "data": {
      "text/plain": [
       "1486"
      ]
     },
     "execution_count": 33,
     "metadata": {},
     "output_type": "execute_result"
    }
   ],
   "source": [
    "len(lsoa_venues)"
   ]
  },
  {
   "cell_type": "code",
   "execution_count": null,
   "metadata": {},
   "outputs": [],
   "source": []
  }
 ],
 "metadata": {
  "kernelspec": {
   "display_name": "Python 2",
   "language": "python",
   "name": "python2"
  },
  "language_info": {
   "codemirror_mode": {
    "name": "ipython",
    "version": 2
   },
   "file_extension": ".py",
   "mimetype": "text/x-python",
   "name": "python",
   "nbconvert_exporter": "python",
   "pygments_lexer": "ipython2",
   "version": "2.7.12"
  }
 },
 "nbformat": 4,
 "nbformat_minor": 2
}
