{
 "cells": [
  {
   "cell_type": "code",
   "execution_count": 1,
   "metadata": {},
   "outputs": [
    {
     "name": "stderr",
     "output_type": "stream",
     "text": [
      "/home/milan/.local/lib/python2.7/site-packages/sklearn/cross_validation.py:41: DeprecationWarning: This module was deprecated in version 0.18 in favor of the model_selection module into which all the refactored classes and functions are moved. Also note that the interface of the new CV iterators are different from that of this module. This module will be removed in 0.20.\n",
      "  \"This module will be removed in 0.20.\", DeprecationWarning)\n"
     ]
    }
   ],
   "source": [
    "import numpy as np\n",
    "import random\n",
    "import pandas as pd\n",
    "import math\n",
    "import os\n",
    "import matplotlib.pyplot as plt\n",
    "from sklearn import preprocessing\n",
    "from sklearn.ensemble import RandomForestClassifier\n",
    "from sklearn.cross_validation import cross_val_score\n",
    "from scipy.cluster.hierarchy import dendrogram, linkage\n",
    "from sklearn.metrics import classification_report\n",
    "from sklearn.naive_bayes import GaussianNB\n",
    "from sklearn.model_selection import train_test_split\n",
    "from sklearn.svm import SVC\n",
    "from collections import Counter"
   ]
  },
  {
   "cell_type": "markdown",
   "metadata": {},
   "source": [
    "# CLASSIFICATION"
   ]
  },
  {
   "cell_type": "code",
   "execution_count": 151,
   "metadata": {},
   "outputs": [],
   "source": [
    "features = pd.read_csv('FINAL_FEATURES_UNCORR_BALANCED_ALL.csv', sep = '\\t', index_col = 0)"
   ]
  },
  {
   "cell_type": "markdown",
   "metadata": {},
   "source": [
    "# Filter features"
   ]
  },
  {
   "cell_type": "code",
   "execution_count": 152,
   "metadata": {},
   "outputs": [
    {
     "data": {
      "text/plain": [
       "13"
      ]
     },
     "execution_count": 152,
     "metadata": {},
     "output_type": "execute_result"
    }
   ],
   "source": [
    "#demo_off  = ['WHERE_' +  w for w in ['PercLev4Qu', 'z_PercLev4Qu',  'zt_MedHPrice', 'IncomeScor', 'z_IncomeScor', 'GiniSimpso', 'zt_GiniSimpso', 'NotBornUK', 'z_NotBornUK_ratio', 'zt_PopDen', 'LivingEnSc', 'z_LivingEnSc', 'NoFlats', 'PTALScore', 'zt_PTALScore', 'EntireAirb', 'zt_ArtsEmploy_ratio', 'NoHotels', 'NoEmployee',  'No4sqCheck', 'NoOSPOIs', 'zt_NoOSPOIs', 'zt_NoEmployee_ratio','NoOwndDwel', 'z_NoOwndDwel_ratio', 'NoHouses', 'z_NoHouses_ratio','z_distCent1', 'zt_GrenSpace',  'zt_NoPropsSld',  'zt_NoCTFtoH']]\n",
    "#user_nw   = [u for u in features.keys() if 'WHO_u' in u]\n",
    "#user_succ = [u for u in features.keys() if 'tipCount' in u or 'checkinsCount' in u or 'usersCount' in u or 'Llikecount' in u or 'lLondon' in u]\n",
    "#features  =ű\n",
    "#features.drop(columns = demo_off + user_nw + user_succ)\n",
    "#len(features.keys())\n",
    "len(features.keys())"
   ]
  },
  {
   "cell_type": "markdown",
   "metadata": {},
   "source": [
    "# Split features "
   ]
  },
  {
   "cell_type": "code",
   "execution_count": 153,
   "metadata": {},
   "outputs": [],
   "source": [
    "X = features#.drop(columns = ['LABEL_category'])\n",
    "y = np.asarray(features['LABEL_category'])"
   ]
  },
  {
   "cell_type": "code",
   "execution_count": 14,
   "metadata": {},
   "outputs": [],
   "source": [
    "#def classifiers(XX, yy, randomized):     \n",
    "    #print XX.LABEL_category\n",
    "    #m = [mm for mm in XX.keys() if 'distance_f' in mm]  \n",
    "#    XX_ = XX.drop(columns = [c for c in XX.keys() if 'label' in c.lower()])\n",
    "#    y_  = yy   \n",
    "    #if randomized: random.shuffle(y_)     \n",
    "#    classifier = RandomForestClassifier(max_depth=5, n_estimators=1000, max_features='auto') \n",
    "    #classifier = GaussianNB()\n",
    "    #classifier = SVC()#SVC(C=1.0, kernel=’rbf’, degree=3, gamma=’auto’, coef0=0.0, shrinking=True, probability=False, tol=0.001, cache_size=200, class_weight=None, verbose=False, max_iter=-1, decision_function_shape=’ovr’, random_state=None)[source]¶\n",
    "#    X_train, X_test, y_train, y_test =  train_test_split(XX_, y_, test_size=.33, random_state=42)#, stratify = y_)    \n",
    "#    classifier.fit(X_train, y_train)\n",
    "#    score = classifier.score(X_test, y_test)\n",
    "#    preds = classifier.predict(X_test)\n",
    "#    print 'Randomized: ', randomized, '\\tAccuracy: ', score, '\\n'\n",
    "#    print classification_report(y_test, preds), '\\n\\n'  \n",
    "#classifiers(X, y, False)\n",
    "#classifiers(X, y, True)"
   ]
  },
  {
   "cell_type": "markdown",
   "metadata": {},
   "source": [
    "# PROBABILITY STUFF"
   ]
  },
  {
   "cell_type": "markdown",
   "metadata": {},
   "source": [
    "### Success stuff"
   ]
  },
  {
   "cell_type": "code",
   "execution_count": 154,
   "metadata": {},
   "outputs": [],
   "source": [
    "def get_quantiles(success):\n",
    " \n",
    "    success['quartile'] = pd.qcut(success['Llikecount'], 4, ['q1', 'q2', 'q3', 'q4'])\n",
    "    success             = pd.DataFrame(success[['Llikecount', 'quartile']])\n",
    "    \n",
    "    Qs = {}\n",
    "    for q in ['q1', 'q2', 'q3', 'q4']:\n",
    "        Qs[q] = list(success[success['quartile'] == q].index)\n",
    "\n",
    "    return Qs\n",
    "\n",
    "\n",
    "city        = 'london'\n",
    "datafile    = 'FINAL_DATA'\n",
    "successdata = datafile + '/london_venues_success_measures.csv'\n",
    "venues      = [line.strip() for line in open(datafile + '/senior_venues_lists.dat')]\n",
    "\n",
    "success  = pd.read_csv(successdata, sep = '\\t', index_col = 0)\n",
    "success  = success[~success.index.duplicated(keep='first')]   \n",
    "success  = success[success.index.isin(venues)]\n",
    "\n",
    "\n",
    "successdata_L = datafile + '/london_venues_success_measures_local_like.csv'\n",
    "success_L     = pd.read_csv(successdata_L, sep = '\\t', index_col = 0)\n",
    "success_L     = success_L[~success_L.index.duplicated(keep='first')]   \n",
    "success       = success.join(success_L)\n",
    "\n",
    "success['quartile'] = pd.qcut(success['Llikecount'], 4, ['q1', 'q2', 'q3', 'q4'])\n",
    "\n",
    "Qs = get_quantiles(success)"
   ]
  },
  {
   "cell_type": "markdown",
   "metadata": {},
   "source": [
    "### Features"
   ]
  },
  {
   "cell_type": "code",
   "execution_count": 155,
   "metadata": {},
   "outputs": [
    {
     "data": {
      "text/html": [
       "<div>\n",
       "<style scoped>\n",
       "    .dataframe tbody tr th:only-of-type {\n",
       "        vertical-align: middle;\n",
       "    }\n",
       "\n",
       "    .dataframe tbody tr th {\n",
       "        vertical-align: top;\n",
       "    }\n",
       "\n",
       "    .dataframe thead th {\n",
       "        text-align: right;\n",
       "    }\n",
       "</style>\n",
       "<table border=\"1\" class=\"dataframe\">\n",
       "  <thead>\n",
       "    <tr style=\"text-align: right;\">\n",
       "      <th></th>\n",
       "      <th>WHAT_pricerange</th>\n",
       "      <th>WHO_m_avg</th>\n",
       "      <th>WHO_fraction_of_regulars</th>\n",
       "      <th>WHERE_DistCentre</th>\n",
       "      <th>WHERE_IMDScore</th>\n",
       "      <th>WHERE_emb_own_cat</th>\n",
       "      <th>WHO_v_wa_clustering</th>\n",
       "      <th>WHO_v_wa_constraint</th>\n",
       "      <th>LABEL_category</th>\n",
       "      <th>WHEN_firsttime</th>\n",
       "      <th>WHEN_hour_most</th>\n",
       "      <th>WHEN_day_most</th>\n",
       "      <th>WHO_female_fraction</th>\n",
       "    </tr>\n",
       "    <tr>\n",
       "      <th>venue</th>\n",
       "      <th></th>\n",
       "      <th></th>\n",
       "      <th></th>\n",
       "      <th></th>\n",
       "      <th></th>\n",
       "      <th></th>\n",
       "      <th></th>\n",
       "      <th></th>\n",
       "      <th></th>\n",
       "      <th></th>\n",
       "      <th></th>\n",
       "      <th></th>\n",
       "      <th></th>\n",
       "    </tr>\n",
       "  </thead>\n",
       "  <tbody>\n",
       "    <tr>\n",
       "      <th>4a5f9446f964a520e0bf1fe3</th>\n",
       "      <td>2.0</td>\n",
       "      <td>1.836947</td>\n",
       "      <td>0.131579</td>\n",
       "      <td>0.000000</td>\n",
       "      <td>0.00</td>\n",
       "      <td>2.831711</td>\n",
       "      <td>0.0</td>\n",
       "      <td>1.0</td>\n",
       "      <td>1</td>\n",
       "      <td>1.342290e+09</td>\n",
       "      <td>19</td>\n",
       "      <td>1</td>\n",
       "      <td>0.302632</td>\n",
       "    </tr>\n",
       "    <tr>\n",
       "      <th>4abcec53f964a520b98720e3</th>\n",
       "      <td>0.0</td>\n",
       "      <td>1.997953</td>\n",
       "      <td>0.166667</td>\n",
       "      <td>79.164364</td>\n",
       "      <td>24.73</td>\n",
       "      <td>12.863672</td>\n",
       "      <td>0.0</td>\n",
       "      <td>0.0</td>\n",
       "      <td>1</td>\n",
       "      <td>1.340045e+09</td>\n",
       "      <td>10</td>\n",
       "      <td>0</td>\n",
       "      <td>0.303030</td>\n",
       "    </tr>\n",
       "    <tr>\n",
       "      <th>4abdc1c7f964a5206d8b20e3</th>\n",
       "      <td>2.0</td>\n",
       "      <td>1.809184</td>\n",
       "      <td>0.196721</td>\n",
       "      <td>875.514177</td>\n",
       "      <td>29.91</td>\n",
       "      <td>14.821463</td>\n",
       "      <td>0.0</td>\n",
       "      <td>0.0</td>\n",
       "      <td>1</td>\n",
       "      <td>1.343146e+09</td>\n",
       "      <td>18</td>\n",
       "      <td>0</td>\n",
       "      <td>0.277419</td>\n",
       "    </tr>\n",
       "    <tr>\n",
       "      <th>4abe4502f964a520558c20e3</th>\n",
       "      <td>0.0</td>\n",
       "      <td>1.797899</td>\n",
       "      <td>0.112536</td>\n",
       "      <td>79.164364</td>\n",
       "      <td>24.73</td>\n",
       "      <td>18.232509</td>\n",
       "      <td>0.0</td>\n",
       "      <td>0.0</td>\n",
       "      <td>5</td>\n",
       "      <td>1.346061e+09</td>\n",
       "      <td>21</td>\n",
       "      <td>1</td>\n",
       "      <td>0.439033</td>\n",
       "    </tr>\n",
       "    <tr>\n",
       "      <th>4abe5714f964a520d68c20e3</th>\n",
       "      <td>3.0</td>\n",
       "      <td>2.008383</td>\n",
       "      <td>0.225806</td>\n",
       "      <td>115.947206</td>\n",
       "      <td>20.48</td>\n",
       "      <td>3.733880</td>\n",
       "      <td>0.0</td>\n",
       "      <td>0.0</td>\n",
       "      <td>1</td>\n",
       "      <td>1.342808e+09</td>\n",
       "      <td>18</td>\n",
       "      <td>6</td>\n",
       "      <td>0.517241</td>\n",
       "    </tr>\n",
       "  </tbody>\n",
       "</table>\n",
       "</div>"
      ],
      "text/plain": [
       "                          WHAT_pricerange  WHO_m_avg  \\\n",
       "venue                                                  \n",
       "4a5f9446f964a520e0bf1fe3              2.0   1.836947   \n",
       "4abcec53f964a520b98720e3              0.0   1.997953   \n",
       "4abdc1c7f964a5206d8b20e3              2.0   1.809184   \n",
       "4abe4502f964a520558c20e3              0.0   1.797899   \n",
       "4abe5714f964a520d68c20e3              3.0   2.008383   \n",
       "\n",
       "                          WHO_fraction_of_regulars  WHERE_DistCentre  \\\n",
       "venue                                                                  \n",
       "4a5f9446f964a520e0bf1fe3                  0.131579          0.000000   \n",
       "4abcec53f964a520b98720e3                  0.166667         79.164364   \n",
       "4abdc1c7f964a5206d8b20e3                  0.196721        875.514177   \n",
       "4abe4502f964a520558c20e3                  0.112536         79.164364   \n",
       "4abe5714f964a520d68c20e3                  0.225806        115.947206   \n",
       "\n",
       "                          WHERE_IMDScore  WHERE_emb_own_cat  \\\n",
       "venue                                                         \n",
       "4a5f9446f964a520e0bf1fe3            0.00           2.831711   \n",
       "4abcec53f964a520b98720e3           24.73          12.863672   \n",
       "4abdc1c7f964a5206d8b20e3           29.91          14.821463   \n",
       "4abe4502f964a520558c20e3           24.73          18.232509   \n",
       "4abe5714f964a520d68c20e3           20.48           3.733880   \n",
       "\n",
       "                          WHO_v_wa_clustering  WHO_v_wa_constraint  \\\n",
       "venue                                                                \n",
       "4a5f9446f964a520e0bf1fe3                  0.0                  1.0   \n",
       "4abcec53f964a520b98720e3                  0.0                  0.0   \n",
       "4abdc1c7f964a5206d8b20e3                  0.0                  0.0   \n",
       "4abe4502f964a520558c20e3                  0.0                  0.0   \n",
       "4abe5714f964a520d68c20e3                  0.0                  0.0   \n",
       "\n",
       "                          LABEL_category  WHEN_firsttime  WHEN_hour_most  \\\n",
       "venue                                                                      \n",
       "4a5f9446f964a520e0bf1fe3               1    1.342290e+09              19   \n",
       "4abcec53f964a520b98720e3               1    1.340045e+09              10   \n",
       "4abdc1c7f964a5206d8b20e3               1    1.343146e+09              18   \n",
       "4abe4502f964a520558c20e3               5    1.346061e+09              21   \n",
       "4abe5714f964a520d68c20e3               1    1.342808e+09              18   \n",
       "\n",
       "                          WHEN_day_most  WHO_female_fraction  \n",
       "venue                                                         \n",
       "4a5f9446f964a520e0bf1fe3              1             0.302632  \n",
       "4abcec53f964a520b98720e3              0             0.303030  \n",
       "4abdc1c7f964a5206d8b20e3              0             0.277419  \n",
       "4abe4502f964a520558c20e3              1             0.439033  \n",
       "4abe5714f964a520d68c20e3              6             0.517241  "
      ]
     },
     "execution_count": 155,
     "metadata": {},
     "output_type": "execute_result"
    }
   ],
   "source": [
    "#features  = pd.read_csv('senior_venues_features_labels_clusternames.csv', sep = '\\t', index_col = 0)\n",
    "#demo_off  = ['WHERE_' +  w for w in ['PercLev4Qu', 'z_PercLev4Qu',  'zt_MedHPrice', 'IncomeScor', 'z_IncomeScor', 'GiniSimpso', 'zt_GiniSimpso', 'NotBornUK', 'z_NotBornUK_ratio', 'zt_PopDen', 'LivingEnSc', 'z_LivingEnSc', 'NoFlats', 'PTALScore', 'zt_PTALScore', 'EntireAirb', 'zt_ArtsEmploy_ratio', 'NoHotels', 'NoEmployee',  'No4sqCheck', 'NoOSPOIs', 'zt_NoOSPOIs', 'zt_NoEmployee_ratio','NoOwndDwel', 'z_NoOwndDwel_ratio', 'NoHouses', 'z_NoHouses_ratio','z_distCent1', 'zt_GrenSpace',  'zt_NoPropsSld',  'zt_NoCTFtoH']]\n",
    "#user_nw   = [u for u in features.keys() if 'WHO_u' in u]\n",
    "#user_succ = [u for u in features.keys() if 'tipCount' in u or 'checkinsCount' in u or 'usersCount' in u or 'Llikecount' in u or 'lLondon' in u]\n",
    "\n",
    "#features  = features.drop(columns = demo_off + user_nw + user_succ)\n",
    "#features  = features.drop(columns = [c for c in features.keys() if '_inv_' in c])\n",
    "#features  = features.drop(columns = [c for c in features.keys() if '_grav_' in c])\n",
    "\n",
    "#print len(features.keys()), len(features)\n",
    "#features = features.dropna()\n",
    "#print len(features.keys()), len(features)\n",
    "#features = features.drop(columns = ['WHO_v_wa_eigenvector_grav_distances'])\n",
    "#features = features.drop(columns = ['LABEL_category'])\n",
    "\n",
    "features.head()"
   ]
  },
  {
   "cell_type": "markdown",
   "metadata": {},
   "source": [
    "# Correlations"
   ]
  },
  {
   "cell_type": "code",
   "execution_count": 26,
   "metadata": {},
   "outputs": [],
   "source": [
    "corrmtx = features.corr()"
   ]
  },
  {
   "cell_type": "code",
   "execution_count": 27,
   "metadata": {},
   "outputs": [
    {
     "name": "stdout",
     "output_type": "stream",
     "text": [
      "13 13\n"
     ]
    },
    {
     "data": {
      "text/html": [
       "<div>\n",
       "<style scoped>\n",
       "    .dataframe tbody tr th:only-of-type {\n",
       "        vertical-align: middle;\n",
       "    }\n",
       "\n",
       "    .dataframe tbody tr th {\n",
       "        vertical-align: top;\n",
       "    }\n",
       "\n",
       "    .dataframe thead th {\n",
       "        text-align: right;\n",
       "    }\n",
       "</style>\n",
       "<table border=\"1\" class=\"dataframe\">\n",
       "  <thead>\n",
       "    <tr style=\"text-align: right;\">\n",
       "      <th></th>\n",
       "      <th>WHAT_pricerange</th>\n",
       "      <th>WHO_m_avg</th>\n",
       "      <th>WHO_fraction_of_regulars</th>\n",
       "      <th>WHERE_DistCentre</th>\n",
       "      <th>WHERE_IMDScore</th>\n",
       "      <th>WHERE_emb_own_cat</th>\n",
       "      <th>WHO_v_wa_clustering</th>\n",
       "      <th>WHO_v_wa_constraint</th>\n",
       "      <th>LABEL_category</th>\n",
       "      <th>WHEN_firsttime</th>\n",
       "      <th>WHEN_hour_most</th>\n",
       "      <th>WHEN_day_most</th>\n",
       "      <th>WHO_female_fraction</th>\n",
       "    </tr>\n",
       "  </thead>\n",
       "  <tbody>\n",
       "    <tr>\n",
       "      <th>WHAT_pricerange</th>\n",
       "      <td>1.000000</td>\n",
       "      <td>0.353668</td>\n",
       "      <td>-0.013325</td>\n",
       "      <td>-0.089685</td>\n",
       "      <td>-0.027019</td>\n",
       "      <td>-0.282288</td>\n",
       "      <td>-0.028656</td>\n",
       "      <td>-0.039505</td>\n",
       "      <td>0.064046</td>\n",
       "      <td>-0.036888</td>\n",
       "      <td>0.059310</td>\n",
       "      <td>0.132401</td>\n",
       "      <td>0.016285</td>\n",
       "    </tr>\n",
       "    <tr>\n",
       "      <th>WHO_m_avg</th>\n",
       "      <td>0.353668</td>\n",
       "      <td>1.000000</td>\n",
       "      <td>0.029316</td>\n",
       "      <td>-0.309368</td>\n",
       "      <td>-0.123983</td>\n",
       "      <td>-0.133580</td>\n",
       "      <td>-0.024744</td>\n",
       "      <td>-0.115481</td>\n",
       "      <td>0.058305</td>\n",
       "      <td>-0.048663</td>\n",
       "      <td>0.062693</td>\n",
       "      <td>0.069736</td>\n",
       "      <td>0.194150</td>\n",
       "    </tr>\n",
       "    <tr>\n",
       "      <th>WHO_fraction_of_regulars</th>\n",
       "      <td>-0.013325</td>\n",
       "      <td>0.029316</td>\n",
       "      <td>1.000000</td>\n",
       "      <td>0.124586</td>\n",
       "      <td>0.038755</td>\n",
       "      <td>0.026067</td>\n",
       "      <td>0.016614</td>\n",
       "      <td>0.013312</td>\n",
       "      <td>0.025205</td>\n",
       "      <td>0.009568</td>\n",
       "      <td>0.005479</td>\n",
       "      <td>0.000205</td>\n",
       "      <td>0.022350</td>\n",
       "    </tr>\n",
       "    <tr>\n",
       "      <th>WHERE_DistCentre</th>\n",
       "      <td>-0.089685</td>\n",
       "      <td>-0.309368</td>\n",
       "      <td>0.124586</td>\n",
       "      <td>1.000000</td>\n",
       "      <td>0.219418</td>\n",
       "      <td>0.166647</td>\n",
       "      <td>0.131181</td>\n",
       "      <td>0.127775</td>\n",
       "      <td>-0.047782</td>\n",
       "      <td>-0.011367</td>\n",
       "      <td>0.016257</td>\n",
       "      <td>-0.035495</td>\n",
       "      <td>0.055596</td>\n",
       "    </tr>\n",
       "    <tr>\n",
       "      <th>WHERE_IMDScore</th>\n",
       "      <td>-0.027019</td>\n",
       "      <td>-0.123983</td>\n",
       "      <td>0.038755</td>\n",
       "      <td>0.219418</td>\n",
       "      <td>1.000000</td>\n",
       "      <td>0.072610</td>\n",
       "      <td>0.040690</td>\n",
       "      <td>0.055513</td>\n",
       "      <td>-0.056700</td>\n",
       "      <td>0.050079</td>\n",
       "      <td>0.016904</td>\n",
       "      <td>-0.071389</td>\n",
       "      <td>-0.037102</td>\n",
       "    </tr>\n",
       "    <tr>\n",
       "      <th>WHERE_emb_own_cat</th>\n",
       "      <td>-0.282288</td>\n",
       "      <td>-0.133580</td>\n",
       "      <td>0.026067</td>\n",
       "      <td>0.166647</td>\n",
       "      <td>0.072610</td>\n",
       "      <td>1.000000</td>\n",
       "      <td>-0.003381</td>\n",
       "      <td>-0.022458</td>\n",
       "      <td>0.007154</td>\n",
       "      <td>-0.063017</td>\n",
       "      <td>0.012159</td>\n",
       "      <td>-0.072776</td>\n",
       "      <td>-0.126068</td>\n",
       "    </tr>\n",
       "    <tr>\n",
       "      <th>WHO_v_wa_clustering</th>\n",
       "      <td>-0.028656</td>\n",
       "      <td>-0.024744</td>\n",
       "      <td>0.016614</td>\n",
       "      <td>0.131181</td>\n",
       "      <td>0.040690</td>\n",
       "      <td>-0.003381</td>\n",
       "      <td>1.000000</td>\n",
       "      <td>0.172943</td>\n",
       "      <td>-0.021757</td>\n",
       "      <td>0.048086</td>\n",
       "      <td>0.001164</td>\n",
       "      <td>-0.045953</td>\n",
       "      <td>-0.027866</td>\n",
       "    </tr>\n",
       "    <tr>\n",
       "      <th>WHO_v_wa_constraint</th>\n",
       "      <td>-0.039505</td>\n",
       "      <td>-0.115481</td>\n",
       "      <td>0.013312</td>\n",
       "      <td>0.127775</td>\n",
       "      <td>0.055513</td>\n",
       "      <td>-0.022458</td>\n",
       "      <td>0.172943</td>\n",
       "      <td>1.000000</td>\n",
       "      <td>-0.113019</td>\n",
       "      <td>-0.059803</td>\n",
       "      <td>-0.009420</td>\n",
       "      <td>-0.051343</td>\n",
       "      <td>-0.013083</td>\n",
       "    </tr>\n",
       "    <tr>\n",
       "      <th>LABEL_category</th>\n",
       "      <td>0.064046</td>\n",
       "      <td>0.058305</td>\n",
       "      <td>0.025205</td>\n",
       "      <td>-0.047782</td>\n",
       "      <td>-0.056700</td>\n",
       "      <td>0.007154</td>\n",
       "      <td>-0.021757</td>\n",
       "      <td>-0.113019</td>\n",
       "      <td>1.000000</td>\n",
       "      <td>0.269653</td>\n",
       "      <td>0.011390</td>\n",
       "      <td>-0.008708</td>\n",
       "      <td>-0.032077</td>\n",
       "    </tr>\n",
       "    <tr>\n",
       "      <th>WHEN_firsttime</th>\n",
       "      <td>-0.036888</td>\n",
       "      <td>-0.048663</td>\n",
       "      <td>0.009568</td>\n",
       "      <td>-0.011367</td>\n",
       "      <td>0.050079</td>\n",
       "      <td>-0.063017</td>\n",
       "      <td>0.048086</td>\n",
       "      <td>-0.059803</td>\n",
       "      <td>0.269653</td>\n",
       "      <td>1.000000</td>\n",
       "      <td>-0.077433</td>\n",
       "      <td>-0.047693</td>\n",
       "      <td>0.033870</td>\n",
       "    </tr>\n",
       "    <tr>\n",
       "      <th>WHEN_hour_most</th>\n",
       "      <td>0.059310</td>\n",
       "      <td>0.062693</td>\n",
       "      <td>0.005479</td>\n",
       "      <td>0.016257</td>\n",
       "      <td>0.016904</td>\n",
       "      <td>0.012159</td>\n",
       "      <td>0.001164</td>\n",
       "      <td>-0.009420</td>\n",
       "      <td>0.011390</td>\n",
       "      <td>-0.077433</td>\n",
       "      <td>1.000000</td>\n",
       "      <td>0.021354</td>\n",
       "      <td>-0.041720</td>\n",
       "    </tr>\n",
       "    <tr>\n",
       "      <th>WHEN_day_most</th>\n",
       "      <td>0.132401</td>\n",
       "      <td>0.069736</td>\n",
       "      <td>0.000205</td>\n",
       "      <td>-0.035495</td>\n",
       "      <td>-0.071389</td>\n",
       "      <td>-0.072776</td>\n",
       "      <td>-0.045953</td>\n",
       "      <td>-0.051343</td>\n",
       "      <td>-0.008708</td>\n",
       "      <td>-0.047693</td>\n",
       "      <td>0.021354</td>\n",
       "      <td>1.000000</td>\n",
       "      <td>0.012665</td>\n",
       "    </tr>\n",
       "    <tr>\n",
       "      <th>WHO_female_fraction</th>\n",
       "      <td>0.016285</td>\n",
       "      <td>0.194150</td>\n",
       "      <td>0.022350</td>\n",
       "      <td>0.055596</td>\n",
       "      <td>-0.037102</td>\n",
       "      <td>-0.126068</td>\n",
       "      <td>-0.027866</td>\n",
       "      <td>-0.013083</td>\n",
       "      <td>-0.032077</td>\n",
       "      <td>0.033870</td>\n",
       "      <td>-0.041720</td>\n",
       "      <td>0.012665</td>\n",
       "      <td>1.000000</td>\n",
       "    </tr>\n",
       "  </tbody>\n",
       "</table>\n",
       "</div>"
      ],
      "text/plain": [
       "                          WHAT_pricerange  WHO_m_avg  \\\n",
       "WHAT_pricerange                  1.000000   0.353668   \n",
       "WHO_m_avg                        0.353668   1.000000   \n",
       "WHO_fraction_of_regulars        -0.013325   0.029316   \n",
       "WHERE_DistCentre                -0.089685  -0.309368   \n",
       "WHERE_IMDScore                  -0.027019  -0.123983   \n",
       "WHERE_emb_own_cat               -0.282288  -0.133580   \n",
       "WHO_v_wa_clustering             -0.028656  -0.024744   \n",
       "WHO_v_wa_constraint             -0.039505  -0.115481   \n",
       "LABEL_category                   0.064046   0.058305   \n",
       "WHEN_firsttime                  -0.036888  -0.048663   \n",
       "WHEN_hour_most                   0.059310   0.062693   \n",
       "WHEN_day_most                    0.132401   0.069736   \n",
       "WHO_female_fraction              0.016285   0.194150   \n",
       "\n",
       "                          WHO_fraction_of_regulars  WHERE_DistCentre  \\\n",
       "WHAT_pricerange                          -0.013325         -0.089685   \n",
       "WHO_m_avg                                 0.029316         -0.309368   \n",
       "WHO_fraction_of_regulars                  1.000000          0.124586   \n",
       "WHERE_DistCentre                          0.124586          1.000000   \n",
       "WHERE_IMDScore                            0.038755          0.219418   \n",
       "WHERE_emb_own_cat                         0.026067          0.166647   \n",
       "WHO_v_wa_clustering                       0.016614          0.131181   \n",
       "WHO_v_wa_constraint                       0.013312          0.127775   \n",
       "LABEL_category                            0.025205         -0.047782   \n",
       "WHEN_firsttime                            0.009568         -0.011367   \n",
       "WHEN_hour_most                            0.005479          0.016257   \n",
       "WHEN_day_most                             0.000205         -0.035495   \n",
       "WHO_female_fraction                       0.022350          0.055596   \n",
       "\n",
       "                          WHERE_IMDScore  WHERE_emb_own_cat  \\\n",
       "WHAT_pricerange                -0.027019          -0.282288   \n",
       "WHO_m_avg                      -0.123983          -0.133580   \n",
       "WHO_fraction_of_regulars        0.038755           0.026067   \n",
       "WHERE_DistCentre                0.219418           0.166647   \n",
       "WHERE_IMDScore                  1.000000           0.072610   \n",
       "WHERE_emb_own_cat               0.072610           1.000000   \n",
       "WHO_v_wa_clustering             0.040690          -0.003381   \n",
       "WHO_v_wa_constraint             0.055513          -0.022458   \n",
       "LABEL_category                 -0.056700           0.007154   \n",
       "WHEN_firsttime                  0.050079          -0.063017   \n",
       "WHEN_hour_most                  0.016904           0.012159   \n",
       "WHEN_day_most                  -0.071389          -0.072776   \n",
       "WHO_female_fraction            -0.037102          -0.126068   \n",
       "\n",
       "                          WHO_v_wa_clustering  WHO_v_wa_constraint  \\\n",
       "WHAT_pricerange                     -0.028656            -0.039505   \n",
       "WHO_m_avg                           -0.024744            -0.115481   \n",
       "WHO_fraction_of_regulars             0.016614             0.013312   \n",
       "WHERE_DistCentre                     0.131181             0.127775   \n",
       "WHERE_IMDScore                       0.040690             0.055513   \n",
       "WHERE_emb_own_cat                   -0.003381            -0.022458   \n",
       "WHO_v_wa_clustering                  1.000000             0.172943   \n",
       "WHO_v_wa_constraint                  0.172943             1.000000   \n",
       "LABEL_category                      -0.021757            -0.113019   \n",
       "WHEN_firsttime                       0.048086            -0.059803   \n",
       "WHEN_hour_most                       0.001164            -0.009420   \n",
       "WHEN_day_most                       -0.045953            -0.051343   \n",
       "WHO_female_fraction                 -0.027866            -0.013083   \n",
       "\n",
       "                          LABEL_category  WHEN_firsttime  WHEN_hour_most  \\\n",
       "WHAT_pricerange                 0.064046       -0.036888        0.059310   \n",
       "WHO_m_avg                       0.058305       -0.048663        0.062693   \n",
       "WHO_fraction_of_regulars        0.025205        0.009568        0.005479   \n",
       "WHERE_DistCentre               -0.047782       -0.011367        0.016257   \n",
       "WHERE_IMDScore                 -0.056700        0.050079        0.016904   \n",
       "WHERE_emb_own_cat               0.007154       -0.063017        0.012159   \n",
       "WHO_v_wa_clustering            -0.021757        0.048086        0.001164   \n",
       "WHO_v_wa_constraint            -0.113019       -0.059803       -0.009420   \n",
       "LABEL_category                  1.000000        0.269653        0.011390   \n",
       "WHEN_firsttime                  0.269653        1.000000       -0.077433   \n",
       "WHEN_hour_most                  0.011390       -0.077433        1.000000   \n",
       "WHEN_day_most                  -0.008708       -0.047693        0.021354   \n",
       "WHO_female_fraction            -0.032077        0.033870       -0.041720   \n",
       "\n",
       "                          WHEN_day_most  WHO_female_fraction  \n",
       "WHAT_pricerange                0.132401             0.016285  \n",
       "WHO_m_avg                      0.069736             0.194150  \n",
       "WHO_fraction_of_regulars       0.000205             0.022350  \n",
       "WHERE_DistCentre              -0.035495             0.055596  \n",
       "WHERE_IMDScore                -0.071389            -0.037102  \n",
       "WHERE_emb_own_cat             -0.072776            -0.126068  \n",
       "WHO_v_wa_clustering           -0.045953            -0.027866  \n",
       "WHO_v_wa_constraint           -0.051343            -0.013083  \n",
       "LABEL_category                -0.008708            -0.032077  \n",
       "WHEN_firsttime                -0.047693             0.033870  \n",
       "WHEN_hour_most                 0.021354            -0.041720  \n",
       "WHEN_day_most                  1.000000             0.012665  \n",
       "WHO_female_fraction            0.012665             1.000000  "
      ]
     },
     "execution_count": 27,
     "metadata": {},
     "output_type": "execute_result"
    }
   ],
   "source": [
    "print len(corrmtx), len(corrmtx.keys())\n",
    "corrmtx"
   ]
  },
  {
   "cell_type": "code",
   "execution_count": 28,
   "metadata": {},
   "outputs": [
    {
     "data": {
      "image/png": "[encoded data removed]",
      "text/plain": [
       "<Figure size 720x720 with 1 Axes>"
      ]
     },
     "metadata": {},
     "output_type": "display_data"
    }
   ],
   "source": [
    "f, ax = plt.subplots(1,1,figsize=(10,10))\n",
    "ax.matshow(corrmtx)\n",
    "ax.set_xticks(range(len(features.keys())))\n",
    "ax.set_xticklabels(features.keys(), rotation = 90)\n",
    "a = 0"
   ]
  },
  {
   "cell_type": "code",
   "execution_count": 29,
   "metadata": {},
   "outputs": [
    {
     "data": {
      "image/png": "[encoded data removed]",
      "text/plain": [
       "<Figure size 1440x936 with 1 Axes>"
      ]
     },
     "metadata": {},
     "output_type": "display_data"
    }
   ],
   "source": [
    "f, ax = plt.subplots(1,1,figsize=(20,13))\n",
    "\n",
    "linkage_matrix = linkage(corrmtx, \"single\")\n",
    "\n",
    "d = dendrogram(linkage_matrix, color_threshold=1, ax = ax)\n",
    "ax.set_xticklabels([ features.keys()[i] for i in d['leaves']   ], fontsize = 12)\n",
    "\n",
    "plt.tight_layout()\n",
    "plt.savefig('variables.png')\n",
    "plt.show()"
   ]
  },
  {
   "cell_type": "code",
   "execution_count": 30,
   "metadata": {},
   "outputs": [
    {
     "data": {
      "text/plain": [
       "[0, 1, 2, 3, 4, 5]"
      ]
     },
     "execution_count": 30,
     "metadata": {},
     "output_type": "execute_result"
    }
   ],
   "source": [
    "clusters    = list(set(features.LABEL_category))\n",
    "df_clusters = [features[features.LABEL_category == c] for c in clusters ]\n",
    "clusters"
   ]
  },
  {
   "cell_type": "code",
   "execution_count": 192,
   "metadata": {},
   "outputs": [
    {
     "data": {
      "text/plain": [
       "(0.8584083044982699, 0.9134486735870818, 0.9645674740484429)"
      ]
     },
     "execution_count": 192,
     "metadata": {},
     "output_type": "execute_result"
    }
   ],
   "source": []
  },
  {
   "cell_type": "code",
   "execution_count": 31,
   "metadata": {},
   "outputs": [
    {
     "data": {
      "text/plain": [
       "12"
      ]
     },
     "execution_count": 31,
     "metadata": {},
     "output_type": "execute_result"
    }
   ],
   "source": [
    "measures = [k for k in features.keys() if 'LABEL' not in k]\n",
    "len(measures)"
   ]
  },
  {
   "cell_type": "code",
   "execution_count": 32,
   "metadata": {},
   "outputs": [],
   "source": [
    "def getBinnedDistribution(x, y, nbins):\n",
    "\n",
    "    n, bins   = np.histogram(x, bins=nbins)\n",
    "    sy, _  = np.histogram(x, bins=nbins, weights=y)\n",
    "    sy2, _ = np.histogram(x, bins=nbins, weights=y*y)\n",
    "    mean = sy/n\n",
    "     \n",
    "    std = np.sqrt(sy2/n - mean*mean) \n",
    "\n",
    "    return _, mean, std"
   ]
  },
  {
   "cell_type": "code",
   "execution_count": 207,
   "metadata": {},
   "outputs": [
    {
     "name": "stdout",
     "output_type": "stream",
     "text": [
      "6\n",
      "11 WHEN_day_most\n"
     ]
    },
    {
     "data": {
      "image/png": "[encoded data removed]",
      "text/plain": [
       "<Figure size 1080x504 with 6 Axes>"
      ]
     },
     "metadata": {},
     "output_type": "display_data"
    }
   ],
   "source": [
    "import seaborn as sns\n",
    "\n",
    "indicies  = [(i,j) for i in range(2) for j in range(3)]\n",
    "nbins     = 12\n",
    "measures  = [k for k in features.keys() if 'LABEL' not in k and 'WHO' not in k]\n",
    "outfolder = 'PROBPLOTS'\n",
    "\n",
    "if not os.path.exists(outfolder): os.makedirs(outfolder)  \n",
    "venue_prob_features = {}\n",
    "\n",
    "\n",
    "cluster_names_size = {  1316 : 'Ephemeral',\n",
    "                        3375 : 'Fall',\n",
    "                        269  : 'Fall & Rise',\n",
    "                        160  : 'Rise',\n",
    "                        944  : 'Rise & Fall',\n",
    "                        2119 : 'Underdogs'  }\n",
    "\n",
    "colors = sns.color_palette(\"Blues\")\n",
    "print len(colors)\n",
    "\n",
    "for jind, measure in enumerate(features.keys()):\n",
    "\n",
    "    \n",
    "    '''   JIND == 11  ---> DAY   '''\n",
    "    \n",
    "    if jind == 11: \n",
    "        \n",
    "        print jind, measure\n",
    "        \n",
    "        f, ax     = plt.subplots(2, 3, figsize = (15,7))\n",
    "        #plt.suptitle(measure, fontsize = 16)\n",
    "        for ind, cluster in enumerate(clusters):\n",
    "            bx          = ax[indicies[ind]]\n",
    "            df_meas_all = pd.DataFrame(features[[measure, 'LABEL_category']]).fillna(0)\n",
    "            df_meas     = df_meas_all\n",
    "            df_cluster  = df_meas[df_meas.LABEL_category == cluster]\n",
    "\n",
    "            \n",
    "            ctitle = cluster_names_size[len(df_cluster)]\n",
    "            \n",
    "            if len(set(df_meas_all[measure])) > nbins:\n",
    "\n",
    "               \n",
    "                n,  bins      = np.histogram(df_cluster[measure],  bins=nbins)\n",
    "                Nn, Nbins     = np.histogram(df_meas[measure],     bins)\n",
    "                #probabilities = np.nan_to_num(np.asarray(n, dtype=np.float64)/np.asarray(Nn, dtype=np.float64))\n",
    "                #bins[0]       = -0.00000001\n",
    "                  \n",
    "                    \n",
    "                probabilities = np.asarray(n, dtype=np.float64)/np.asarray(Nn, dtype=np.float64)\n",
    "    \n",
    "    \n",
    "                probabilities2 = []\n",
    "                for ind, p in enumerate(list(probabilities)):\n",
    "                    if np.isnan(p):\n",
    "                        print p\n",
    "        \n",
    "      \n",
    "                    \n",
    "                #df_cluster['binned'] =  pd.cut(df_cluster[measure], bins=bins)#, labels=probabilities)\n",
    "                #df_meas['binned']    =  pd.cut(df_cluster[measure], bins=bins, labels=probabilities)\n",
    "                   \n",
    "                bins = ( bins[1:] + bins[:-1] ) / 2.0                 \n",
    "    \n",
    "                bx.plot(bins, probabilities)    \n",
    "            \n",
    "            \n",
    "            else:\n",
    "\n",
    "                d_all     = dict(Counter(df_meas[measure]))\n",
    "                d_cluster = dict(Counter(df_cluster[measure]))\n",
    "\n",
    "                for kkk in list(set(d_all.keys()).difference(set(d_cluster.keys()))):\n",
    "                    d_cluster[kkk] = 0\n",
    "\n",
    "                xx, yy = zip(*[(k, v) for k, v in d_all.items()])\n",
    "                x,   y = zip(*[(k, v) for k, v in d_cluster.items()])\n",
    "\n",
    "                y = np.asarray(y, dtype=np.float64) / np.asarray(yy, dtype=np.float64)\n",
    "\n",
    "\n",
    "                bx.bar(x,y,  alpha = 0.85, width = 0.5, color = colors[cluster])\n",
    "                bx.set_ylim([0, 1.2*max(y)])\n",
    "                \n",
    "                days = ['Mon', 'Tu', 'Wed', 'Th', 'Fri', 'Sat', 'Sun']\n",
    "                bx.set_xticks(x)\n",
    "                bx.set_xticklabels(days, fontsize = 12)\n",
    "                bx.spines['right'].set_visible(False)\n",
    "                bx.spines['top'].set_visible(False)\n",
    "\n",
    "                \n",
    "                bx.yaxis.grid(linewidth = 0.125) \n",
    "                bx.xaxis.grid(linewidth = 0.0) \n",
    "                \n",
    "                for pos in ['bottom', 'right', 'top', 'left']:\n",
    "                    bx.spines[pos].set_edgecolor('white')\n",
    "\n",
    "\n",
    "                bx.tick_params(axis='x', length=0, width=1.5, colors='k')\n",
    "                bx.tick_params(axis='y', length=5, width=1.5, colors='k')\n",
    "                \n",
    "                \n",
    "                \n",
    "                best    = max(y)\n",
    "                bestind = list(x)[list(y).index(best)]\n",
    "                \n",
    "                \n",
    "                bx.bar([bestind], [best],  alpha = 1.0, width = 0.5, color = colors[cluster], edgecolor = 'gold', linewidth = 2.5)\n",
    "\n",
    "                \n",
    "            bx.set_title(ctitle, fontsize = 15)\n",
    "            \n",
    "            \n",
    "plt.subplots_adjust(top = 0.95, bottom=0.05, hspace=0.5, wspace=0.4)\n",
    "plt.savefig('FINAL_FIGURES/days.png')\n",
    "#plt.tight_layout()          "
   ]
  },
  {
   "cell_type": "code",
   "execution_count": 187,
   "metadata": {},
   "outputs": [
    {
     "data": {
      "text/plain": [
       "6"
      ]
     },
     "execution_count": 187,
     "metadata": {},
     "output_type": "execute_result"
    }
   ],
   "source": []
  },
  {
   "cell_type": "code",
   "execution_count": null,
   "metadata": {},
   "outputs": [],
   "source": [
    "\n",
    "                '''else:\n",
    "\n",
    "                    d_all     = dict(Counter(df_meas[measure]))\n",
    "                    d_cluster = dict(Counter(df_cluster[measure]))\n",
    "\n",
    "                    for kkk in list(set(d_all.keys()).difference(set(d_cluster.keys()))):\n",
    "                        d_cluster[kkk] = 0\n",
    "\n",
    "                    xx, yy = zip(*[(k, v) for k, v in d_all.items()])\n",
    "                    x,   y = zip(*[(k, v) for k, v in d_cluster.items()])\n",
    "\n",
    "                    y = np.asarray(y, dtype=np.float64) / np.asarray(yy, dtype=np.float64)\n",
    "\n",
    "\n",
    "\n",
    "                    bx.bar(x,y)\n",
    "                \n",
    "\n",
    "                bx.set_title(cluster)# + ', #venues: ' + str(sss))\n",
    "\n",
    "                '''\n",
    "        #lt.savefig(outfolder + '/' + str(jind) + '_' + measure + '.png')\n",
    "        #t.close()\n"
   ]
  },
  {
   "cell_type": "code",
   "execution_count": 106,
   "metadata": {},
   "outputs": [
    {
     "data": {
      "text/plain": [
       "\"cluster_dfs = []\\n\\nfor jind, measure in enumerate(features.keys()):\\n\\n    if 'distance_f' in measure:\\n    \\n        df_meas_all = pd.DataFrame(features[[measure, 'LABEL_category']])\\n    \\n        for ind, cluster in enumerate(clusters):\\n\\n            df_meas     = df_meas_all   \\n            df_cluster  = df_meas[df_meas.LABEL_category == cluster]\\n\\n            if len(set(df_meas_all[measure])) > nbins:\\n\\n                n,  bins      = np.histogram(df_cluster[measure],  bins=nbins)\\n                Nn, Nbins     = np.histogram(df_meas[measure],     bins)\\ni                probabilities = np.asarray(n, dtype=np.float64)/np.asarray(Nn, dtype=np.float64)\\n\\n                \\n                df_cluster['prob'] =  pd.cut(df_cluster['WHERE_distance_from_center'], bins=bins, labels=probabilities)\\n                #f_meas_all['binned'] =  pd.cut(df_cluster['WHERE_distance_from_center'], bins=bins, labels=probabilities)\\n                \\n                df_cluster['binneda'] = pd.cut(df_cluster['WHERE_distance_from_center'], nbins)\\n                df_cluster['binned']  = [q.mid for q in list(df_cluster['binneda'])]\\n                \\n                \\n                \\n                cluster_dfs.append(df_cluster)\\n                \\n                print probabilities\\n\\n                \\ndf_conct =  pd.concat(cluster_dfs, axis=0)\\nprint len(df_conct)\\ndf_conct = df_conct.dropna()\\nprint len(df_conct)\\ndf_conct.head()\\n\""
      ]
     },
     "execution_count": 106,
     "metadata": {},
     "output_type": "execute_result"
    }
   ],
   "source": [
    "'''cluster_dfs = []\n",
    "\n",
    "for jind, measure in enumerate(features.keys()):\n",
    "\n",
    "    if 'distance_f' in measure:\n",
    "    \n",
    "        df_meas_all = pd.DataFrame(features[[measure, 'LABEL_category']])\n",
    "    \n",
    "        for ind, cluster in enumerate(clusters):\n",
    "\n",
    "            df_meas     = df_meas_all   \n",
    "            df_cluster  = df_meas[df_meas.LABEL_category == cluster]\n",
    "\n",
    "            if len(set(df_meas_all[measure])) > nbins:\n",
    "\n",
    "                n,  bins      = np.histogram(df_cluster[measure],  bins=nbins)\n",
    "                Nn, Nbins     = np.histogram(df_meas[measure],     bins)\n",
    "i                probabilities = np.asarray(n, dtype=np.float64)/np.asarray(Nn, dtype=np.float64)\n",
    "\n",
    "                \n",
    "                df_cluster['prob'] =  pd.cut(df_cluster['WHERE_distance_from_center'], bins=bins, labels=probabilities)\n",
    "                #f_meas_all['binned'] =  pd.cut(df_cluster['WHERE_distance_from_center'], bins=bins, labels=probabilities)\n",
    "                \n",
    "                df_cluster['binneda'] = pd.cut(df_cluster['WHERE_distance_from_center'], nbins)\n",
    "                df_cluster['binned']  = [q.mid for q in list(df_cluster['binneda'])]\n",
    "                \n",
    "                \n",
    "                \n",
    "                cluster_dfs.append(df_cluster)\n",
    "                \n",
    "                print probabilities\n",
    "\n",
    "                \n",
    "df_conct =  pd.concat(cluster_dfs, axis=0)\n",
    "print len(df_conct)\n",
    "df_conct = df_conct.dropna()\n",
    "print len(df_conct)\n",
    "df_conct.head()\n",
    "'''"
   ]
  },
  {
   "cell_type": "code",
   "execution_count": 105,
   "metadata": {},
   "outputs": [
    {
     "data": {
      "text/plain": [
       "\"def classifiers(XX, yy, randomized):\\n      \\n    #print XX.LABEL_category\\n    #m = [mm for mm in XX.keys() if 'distance_f' in mm]\\n    \\n    \\n    classifiers = {'RandomForect' : RandomForestClassifier(max_depth=3, n_estimators=1000, max_features='auto'), \\n                   'Gaussian'     : GaussianNB(),\\n                   'SVC'          : SVC(),\\n                  }\\n    \\n    XX_ = XX.drop(columns = [c for c in XX.keys() if 'label' in c.lower()])\\n    y_  = yy\\n    \\n    if randomized: random.shuffle(y_) \\n    \\n   # classifier = RandomForestClassifier(max_depth=3, n_estimators=1000, max_features='auto') \\n\\n   # classifier = GaussianNB()\\n   # classifier = SVC()#SVC(C=1.0, kernel=\\xe2\\x80\\x99rbf\\xe2\\x80\\x99, degree=3, gamma=\\xe2\\x80\\x99auto\\xe2\\x80\\x99, coef0=0.0, shrinking=True, probability=False, tol=0.001, cache_size=200, class_weight=None, verbose=False, max_iter=-1, decision_function_shape=\\xe2\\x80\\x99ovr\\xe2\\x80\\x99, random_state=None)[source]\\xc2\\xb6\\n\\n    for cl, classifier in classifiers.items():\\n\\n        X_train, X_test, y_train, y_test =  train_test_split(XX_, y_, test_size=.33, random_state=42, stratify = y_)\\n\\n\\n        classifier.fit(X_train, y_train)\\n        score = classifier.score(X_test, y_test)\\n        preds = classifier.predict(X_test)\\n        \\n        if len(cl) < 5: tt = '\\t\\t'\\n        else: tt = '\\t'\\n        print  cl,  tt, score\\n        #print classification_report(y_test, preds), '\\n\\n'\\n    \\n \\nX = df_conct.drop(columns = ['LABEL_category', 'binneda', 'prob', 'WHERE_distance_from_center'])\\ny = np.asarray(df_conct.LABEL_category)\\n    \\nprint X.keys()    \\nclassifiers(X, y, False)\\n#classifiers(X, y, True)\\nprint 'Random\\t\\t~ 0.4'\\n\""
      ]
     },
     "execution_count": 105,
     "metadata": {},
     "output_type": "execute_result"
    }
   ],
   "source": [
    "'''def classifiers(XX, yy, randomized):\n",
    "      \n",
    "    #print XX.LABEL_category\n",
    "    #m = [mm for mm in XX.keys() if 'distance_f' in mm]\n",
    "    \n",
    "    \n",
    "    classifiers = {'RandomForect' : RandomForestClassifier(max_depth=3, n_estimators=1000, max_features='auto'), \n",
    "                   'Gaussian'     : GaussianNB(),\n",
    "                   'SVC'          : SVC(),\n",
    "                  }\n",
    "    \n",
    "    XX_ = XX.drop(columns = [c for c in XX.keys() if 'label' in c.lower()])\n",
    "    y_  = yy\n",
    "    \n",
    "    if randomized: random.shuffle(y_) \n",
    "    \n",
    "   # classifier = RandomForestClassifier(max_depth=3, n_estimators=1000, max_features='auto') \n",
    "\n",
    "   # classifier = GaussianNB()\n",
    "   # classifier = SVC()#SVC(C=1.0, kernel=’rbf’, degree=3, gamma=’auto’, coef0=0.0, shrinking=True, probability=False, tol=0.001, cache_size=200, class_weight=None, verbose=False, max_iter=-1, decision_function_shape=’ovr’, random_state=None)[source]¶\n",
    "\n",
    "    for cl, classifier in classifiers.items():\n",
    "\n",
    "        X_train, X_test, y_train, y_test =  train_test_split(XX_, y_, test_size=.33, random_state=42, stratify = y_)\n",
    "\n",
    "\n",
    "        classifier.fit(X_train, y_train)\n",
    "        score = classifier.score(X_test, y_test)\n",
    "        preds = classifier.predict(X_test)\n",
    "        \n",
    "        if len(cl) < 5: tt = '\\t\\t'\n",
    "        else: tt = '\\t'\n",
    "        print  cl,  tt, score\n",
    "        #print classification_report(y_test, preds), '\\n\\n'\n",
    "    \n",
    " \n",
    "X = df_conct.drop(columns = ['LABEL_category', 'binneda', 'prob', 'WHERE_distance_from_center'])\n",
    "y = np.asarray(df_conct.LABEL_category)\n",
    "    \n",
    "print X.keys()    \n",
    "classifiers(X, y, False)\n",
    "#classifiers(X, y, True)\n",
    "print 'Random\\t\\t~ 0.4'\n",
    "'''"
   ]
  },
  {
   "cell_type": "code",
   "execution_count": 104,
   "metadata": {},
   "outputs": [
    {
     "data": {
      "text/plain": [
       "\"X = df_conct.drop(columns = ['LABEL_category', 'binneda', 'binned', 'WHERE_distance_from_center'])\\ny = np.asarray(df_conct.LABEL_category)\\n    \\nclassifiers(X, y, False)\\n#classifiers(X, y, True)\\nprint 'Random\\t\\t~ 0.4'\\n\""
      ]
     },
     "execution_count": 104,
     "metadata": {},
     "output_type": "execute_result"
    }
   ],
   "source": [
    "'''X = df_conct.drop(columns = ['LABEL_category', 'binneda', 'binned', 'WHERE_distance_from_center'])\n",
    "y = np.asarray(df_conct.LABEL_category)\n",
    "    \n",
    "classifiers(X, y, False)\n",
    "#classifiers(X, y, True)\n",
    "print 'Random\\t\\t~ 0.4'\n",
    "'''"
   ]
  },
  {
   "cell_type": "code",
   "execution_count": 103,
   "metadata": {},
   "outputs": [
    {
     "data": {
      "text/plain": [
       "\"X = df_conct.drop(columns = ['LABEL_category', 'binneda', 'binned', 'prob'])\\nX = X.round(1)\\ny = np.asarray(list(df_conct.LABEL_category))\\n    \\nclassifiers(X, y, False)\\n#classifiers(X, y, True)\\n\""
      ]
     },
     "execution_count": 103,
     "metadata": {},
     "output_type": "execute_result"
    }
   ],
   "source": [
    "'''X = df_conct.drop(columns = ['LABEL_category', 'binneda', 'binned', 'prob'])\n",
    "X = X.round(1)\n",
    "y = np.asarray(list(df_conct.LABEL_category))\n",
    "    \n",
    "classifiers(X, y, False)\n",
    "#classifiers(X, y, True)\n",
    "'''\n"
   ]
  },
  {
   "cell_type": "code",
   "execution_count": 102,
   "metadata": {},
   "outputs": [
    {
     "data": {
      "text/plain": [
       "\"f, ax = plt.subplots(1,1,figsize = (15,6))\\n\\nfor dfcl in cluster_dfs:\\n    \\n    \\n    x = [xx for xx in list(dfcl.WHERE_distance_from_center) if 'nan' != str(xx)]\\n    counts, bins, bars = ax.hist(x, normed = True, bins = 10 ** np.linspace(np.log10(min(x)), np.log10(max(x)), 12), log=False,alpha=0.0, cumulative=0)\\n    #counts, bins, bars = ax.hist(x, normed = True, bins =  np.linspace(min(x), max(x), 12), log=False,alpha=0.0, cumulative=0)\\n\\n    ax.plot((bins[1:] + bins[:-1])/2,counts,  '-', markersize = 0, linewidth = 3)\\n    ax.legend(loc = 'best', fontsize = 14)\\n    ax.set_xlabel('Distance from the center')\\n    ax.set_xlabel('P(Distance from the center)')\\n   \\n  #  ax.set_yscale('log')\\n   # ax.set_xscale('log')\\n\\n\""
      ]
     },
     "execution_count": 102,
     "metadata": {},
     "output_type": "execute_result"
    }
   ],
   "source": [
    "'''f, ax = plt.subplots(1,1,figsize = (15,6))\n",
    "\n",
    "for dfcl in cluster_dfs:\n",
    "    \n",
    "    \n",
    "    x = [xx for xx in list(dfcl.WHERE_distance_from_center) if 'nan' != str(xx)]\n",
    "    counts, bins, bars = ax.hist(x, normed = True, bins = 10 ** np.linspace(np.log10(min(x)), np.log10(max(x)), 12), log=False,alpha=0.0, cumulative=0)\n",
    "    #counts, bins, bars = ax.hist(x, normed = True, bins =  np.linspace(min(x), max(x), 12), log=False,alpha=0.0, cumulative=0)\n",
    "\n",
    "    ax.plot((bins[1:] + bins[:-1])/2,counts,  '-', markersize = 0, linewidth = 3)\n",
    "    ax.legend(loc = 'best', fontsize = 14)\n",
    "    ax.set_xlabel('Distance from the center')\n",
    "    ax.set_xlabel('P(Distance from the center)')\n",
    "   \n",
    "  #  ax.set_yscale('log')\n",
    "   # ax.set_xscale('log')\n",
    "\n",
    "'''  \n"
   ]
  },
  {
   "cell_type": "code",
   "execution_count": null,
   "metadata": {},
   "outputs": [],
   "source": []
  },
  {
   "cell_type": "code",
   "execution_count": null,
   "metadata": {},
   "outputs": [],
   "source": []
  },
  {
   "cell_type": "code",
   "execution_count": null,
   "metadata": {},
   "outputs": [],
   "source": []
  }
 ],
 "metadata": {
  "kernelspec": {
   "display_name": "Python 2",
   "language": "python",
   "name": "python2"
  },
  "language_info": {
   "codemirror_mode": {
    "name": "ipython",
    "version": 2
   },
   "file_extension": ".py",
   "mimetype": "text/x-python",
   "name": "python",
   "nbconvert_exporter": "python",
   "pygments_lexer": "ipython2",
   "version": "2.7.12"
  }
 },
 "nbformat": 4,
 "nbformat_minor": 2
}
