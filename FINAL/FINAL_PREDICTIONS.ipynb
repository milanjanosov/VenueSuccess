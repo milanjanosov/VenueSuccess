{
 "cells": [
  {
   "cell_type": "code",
   "execution_count": 15,
   "metadata": {},
   "outputs": [],
   "source": [
    "import numpy as np\n",
    "import random\n",
    "import pandas as pd\n",
    "import math\n",
    "import os\n",
    "from mpl_toolkits.axes_grid1 import make_axes_locatable\n",
    "import seaborn as sns\n",
    "import geopandas as gdp\n",
    "from itertools import combinations\n",
    "import matplotlib.pyplot as plt\n",
    "from xgboost import plot_importance\n",
    "from sklearn import preprocessing\n",
    "import scipy.stats as stats\n",
    "from sklearn.ensemble import RandomForestClassifier\n",
    "from sklearn.model_selection import cross_val_score\n",
    "from scipy.cluster.hierarchy import dendrogram, linkage\n",
    "from sklearn.metrics import classification_report\n",
    "from sklearn.naive_bayes import GaussianNB\n",
    "from sklearn.preprocessing import StandardScaler\n",
    "from sklearn.model_selection import train_test_split\n",
    "from sklearn.svm import SVC\n",
    "from collections import Counter\n",
    "from sklearn.ensemble import GradientBoostingClassifier, RandomForestClassifier\n",
    "import xgboost as xgb\n",
    "import sklearn\n",
    "from sklearn.metrics import classification_report\n",
    "from sklearn.metrics import accuracy_score\n",
    "from scipy.cluster.hierarchy import dendrogram, linkage\n",
    "import geopandas as gpd\n",
    "from geopandas.geoseries import Point\n",
    "\n",
    "% matplotlib inline\n",
    "import warnings\n",
    "warnings.filterwarnings('ignore')"
   ]
  },
  {
   "cell_type": "markdown",
   "metadata": {},
   "source": [
    "# HELPERS"
   ]
  },
  {
   "cell_type": "code",
   "execution_count": 2,
   "metadata": {},
   "outputs": [],
   "source": [
    "def getDistribution(keys, normalized = True):\n",
    "    \n",
    "    uniq_keys = np.unique(keys)\n",
    "    bins = uniq_keys.searchsorted(keys)\n",
    "    distr = np.bincount(bins) \n",
    "\n",
    "    if normalized == 1: distr = distr/float(np.sum(distr)) \n",
    "\n",
    "    return np.asarray(uniq_keys.tolist()), np.asarray(distr.tolist())\n",
    "\n",
    "\n",
    "def getBinnedDistribution(x, y, nbins):\n",
    "\n",
    "    n, bins = np.histogram(x, bins=nbins)\n",
    "    sy, _   = np.histogram(x, bins=nbins, weights=y)\n",
    "    mean    = sy/n\n",
    "\n",
    "    return _, mean"
   ]
  },
  {
   "cell_type": "markdown",
   "metadata": {},
   "source": [
    "# FEATURES"
   ]
  },
  {
   "cell_type": "code",
   "execution_count": 3,
   "metadata": {},
   "outputs": [
    {
     "name": "stdout",
     "output_type": "stream",
     "text": [
      "109 8183\n",
      "8183\n",
      "25763\n",
      "25239\n",
      "0.0\n",
      "0.0\n",
      "0.04\n",
      "0.96\n"
     ]
    }
   ],
   "source": [
    "features = pd.read_csv('senior_venues_features_labels.csv', sep = '\\t', index_col = 0)\n",
    "\n",
    "user_nw   = [u for u in features.keys() if 'WHO_u' in u]\n",
    "user_succ = [u for u in features.keys() if 'tipCount' in u or 'checkinsCount' in u or 'usersCount' in u or 'Llikecount' in u or 'lLondon' in u]\n",
    "features  = features.drop(columns = user_nw + user_succ)\n",
    "features  = features.drop(columns = [c for c in features.keys() if '_inv_' in c])\n",
    "features  = features.drop(columns = [c for c in features.keys() if '_grav_' in c])\n",
    "features  = features.dropna()\n",
    "\n",
    "features  = features.drop(columns = ['WHO_v_social_stretch', 'WHO_v_social_std'])\n",
    "features2 = features\n",
    "\n",
    "firstimes = pd.read_csv('venues_firstime.csv', sep = '\\t', header = None, index_col = 0)\n",
    "firstimes.index.name = 'venue'\n",
    "firstimes = firstimes.rename(columns = {1: 'WHEN_firsttime', 2 :'WHEN_hour_most', 3 : 'WHEN_day_most'})\n",
    "firstimes = firstimes.drop(columns = [4])\n",
    "\n",
    "genders = pd.read_csv('venues_genders.csv', sep = '\\t',  index_col = 0)\n",
    "genders = genders.rename(columns = {'female': 'WHO_female_fraction'})\n",
    "genders = genders.drop(columns = ['LABEL_category'])\n",
    "\n",
    "genders.head()\n",
    "\n",
    "features2 = features2.join(firstimes)\n",
    "features2 = features2.join(genders)\n",
    "\n",
    "print len(features2.keys()), len(features2)\n",
    "features2.head()\n",
    "features2.head()\n",
    "firstimes.head()\n",
    "\n",
    "\n",
    "\n",
    "\n",
    "venues_clussified = set(features2.index)\n",
    "\n",
    "\n",
    "city        = 'london'\n",
    "outfolder   = '../../ProcessedData/' + city + '/'\n",
    "successdata = outfolder + 'venues_info/' + city + '_venues_success_measures.csv'\n",
    "success     = pd.read_csv(successdata, sep = '\\t', index_col = 0)\n",
    "success     = success[~success.index.duplicated(keep='first')]   \n",
    "success['quartile'] = pd.qcut(success['checkinsCount'], 4, ['q1','q2','q3','q4'])\n",
    "Q1 = set(list(success[success['quartile'] == 'q1'].index))\n",
    "Q2 = set(list(success[success['quartile'] == 'q2'].index))\n",
    "Q3 = set(list(success[success['quartile'] == 'q3'].index))\n",
    "Q4 = set(list(success[success['quartile'] == 'q4'].index))\n",
    "\n",
    "\n",
    "\n",
    "print len(venues_clussified)\n",
    "print len(Q1)\n",
    "print len(Q4)\n",
    "\n",
    "print round(len(venues_clussified.intersection(Q1))/float(len(venues_clussified)), 2)\n",
    "print round(len(venues_clussified.intersection(Q2))/float(len(venues_clussified)), 2)\n",
    "print round(len(venues_clussified.intersection(Q3))/float(len(venues_clussified)), 2)\n",
    "print round(len(venues_clussified.intersection(Q4))/float(len(venues_clussified)), 2)"
   ]
  },
  {
   "cell_type": "markdown",
   "metadata": {},
   "source": [
    "# BALANCE SAMPLES"
   ]
  },
  {
   "cell_type": "code",
   "execution_count": 4,
   "metadata": {},
   "outputs": [
    {
     "name": "stdout",
     "output_type": "stream",
     "text": [
      "['fallandrise', 'rise', 'ephemeral', 'riseandfall', 'fall', 'underdogs']\n",
      "8183 8183 109 960\n"
     ]
    }
   ],
   "source": [
    "outfolder  = 'Figures/datafiles/'\n",
    "files      = [outfolder + f for f in os.listdir(outfolder) if 'clusters_data_all_' in f]\n",
    "indicies   = [(i,j) for i in range(2) for j in range(3)]\n",
    "clusters   = [fn.split('_')[3].replace('.dat', '') for fn in files] \n",
    "N          = 160\n",
    "\n",
    "clusters_venues = {}\n",
    "for cluster in clusters:\n",
    "    clusters_venues[cluster] = []\n",
    "    for ind, line in enumerate(open(outfolder + '/sorted_dist/sorted_dist_venues_in_' + cluster + '.dat')):\n",
    "        if ind == N: break\n",
    "        clusters_venues[cluster].append(line.strip().split('\\t')[0])\n",
    "\n",
    "\n",
    "top100venues = []\n",
    "for c, vens in clusters_venues.items():\n",
    "    \n",
    "    top100venues += vens\n",
    "    \n",
    "\n",
    "print clusters_venues.keys()\n",
    "features3 = features2[features2.index.isin(top100venues)]    \n",
    "print len(features), len(features2), len(features3.keys()), len(features3)\n",
    "\n",
    "features3 = features3.dropna()\n",
    "features2.to_csv('FINAL_FEATURES_UNCORR_BALANCED_ALL.csv', '\\t')\n",
    "features3.to_csv('FINAL_FEATURES_UNCORR_BALANCED_160.csv', '\\t')\n",
    "\n",
    "features3.head()\n",
    "\n",
    "\n",
    "pd.DataFrame(features3.drop_duplicates(subset=['LABEL_category'], keep='last').LABEL_category)\n",
    "\n",
    "\n",
    "\n",
    "clustersids =  {3: 'rise',\n",
    "                2: 'fallandrise ',\n",
    "                0: 'ephemeral',\n",
    "                1: 'fall',\n",
    "                4: 'riseandfall',\n",
    "                5: 'underdogs'}\n",
    "\n",
    "\n",
    "X = features3.drop(columns = ['LABEL_category'])\n",
    "y = np.asarray(features3.LABEL_category)"
   ]
  },
  {
   "cell_type": "markdown",
   "metadata": {},
   "source": [
    "# FEATURE SELECTION"
   ]
  },
  {
   "cell_type": "markdown",
   "metadata": {},
   "source": [
    "# First use the feature selection algo to pic those which rel importance is above 2%, 10 features per group a top"
   ]
  },
  {
   "cell_type": "code",
   "execution_count": 5,
   "metadata": {},
   "outputs": [
    {
     "name": "stdout",
     "output_type": "stream",
     "text": [
      "\n"
     ]
    }
   ],
   "source": [
    "'''def xgb_get_top_10_features(X, y, max_depth_ ,learning_rate_, subsample_, tipus = ''):\n",
    "              \n",
    "    X_ = X.drop(columns = [c for c in X.keys() if tipus not in c] )  \n",
    "     http://localhost:8888/notebooks/FINAL_PREDICTIONS.ipynb#  \n",
    "    train_data, test_data, train_label, test_label =  train_test_split(X_, y, test_size=.33, random_state=42)    \n",
    "          \n",
    "    model2       = xgb.XGBClassifier(n_estimators=100, max_depth=max_depth_, learning_rate=learning_rate_, subsample=subsample_)\n",
    "    train_model2 = model2.fit(train_data, train_label)\n",
    "          \n",
    "    featurenames, importances = zip(*sorted(zip(train_data.keys(), model2.feature_importances_), key=lambda tup: tup[1], reverse = True))\n",
    "    featurenames, importances = zip(*[(featurenames[i], importances[i]) for i in range(len(featurenames)) if importances[i] > 0.02])\n",
    "\n",
    "    if len(featurenames) > 9:\n",
    "       featurenames, importances = zip(*sorted(zip(train_data.keys(), model2.feature_importances_), key=lambda tup: tup[1], reverse = True)[0:10])\n",
    " \n",
    "    \n",
    "    print tipus, len(featurenames)\n",
    "    \n",
    "    return featurenames, importances\n",
    " \n",
    "\n",
    "depth  = 6\n",
    "rate   = 0.01\n",
    "sample = 0.8\n",
    "    \n",
    "    \n",
    "featurenames_all,   importances_all   = xgb_get_top_10_features(X, y, depth, rate, sample, '')  \n",
    "featurenames_where, importances_where = xgb_get_top_10_features(X, y, depth, rate, sample, 'WHERE')  \n",
    "featurenames_who,   importances_who   = xgb_get_top_10_features(X, y, depth, rate, sample, 'WHO')  \n",
    "featurenames_when,  importances_when  = xgb_get_top_10_features(X, y, depth, rate, sample, 'WHEN')  \n",
    "featurenames_what,  importances_what  = xgb_get_top_10_features(X, y, depth, rate, sample, 'WHAT')\n",
    "'''\n",
    "print ''"
   ]
  },
  {
   "cell_type": "markdown",
   "metadata": {},
   "source": [
    "#### Feature selection algo  "
   ]
  },
  {
   "cell_type": "code",
   "execution_count": 6,
   "metadata": {},
   "outputs": [
    {
     "name": "stdout",
     "output_type": "stream",
     "text": [
      "\n"
     ]
    }
   ],
   "source": [
    "'''def xgb_get_given_features(X, y, features, max_depth_ ,learning_rate_, subsample_, tipus = ''):\n",
    "     \n",
    "    X_ = X.drop(columns = [c for c in X.keys() if c not in list(features)] )  \n",
    "      \n",
    "    train_data, test_data, train_label, test_label =  train_test_split(X_, y, test_size=.33, random_state=42)    \n",
    "          \n",
    "    model2       = xgb.XGBClassifier(n_estimators=100, max_depth=max_depth_, learning_rate=learning_rate_, subsample=subsample_)\n",
    "    train_model2 = model2.fit(train_data, train_label)\n",
    "    accuracies   = list(cross_val_score(train_model2, train_data, train_label, cv=5))\n",
    "\n",
    "    return np.mean(accuracies), np.std(accuracies)\n",
    "  \n",
    "\n",
    "def get_accuracy_ts(featurenames_type, tipus):\n",
    "    \n",
    "    f, ax = plt.subplots(1,1, figsize = (10,4))\n",
    "\n",
    "    \n",
    "    accurate_features = {}\n",
    "    folderout         = 'Featureselection'\n",
    "\n",
    "    if not os.path.exists(folderout): os.makedirs(folderout)\n",
    "    \n",
    "    nnn = len(featurenames_type)\n",
    "    \n",
    "    \n",
    "    for i in range(1,len(featurenames_type)+1):\n",
    "\n",
    "        print tipus, '\\t', i, '/', nnn\n",
    "        \n",
    "        feats = list(combinations(featurenames_type, i))\n",
    "        maxA  = 0\n",
    "        maxR  = 0  \n",
    "        \n",
    "        for feat in feats:\n",
    "\n",
    "            acc, accerr = xgb_get_given_features(X, y, feat, depth ,rate, sample, tipus = '')\n",
    "\n",
    "            if acc > maxA:\n",
    "                maxA = acc\n",
    "                maxR = (acc, accerr, feat)\n",
    "            \n",
    "        accurate_features[i] = maxR\n",
    "        \n",
    "        \n",
    "    ax.errorbar(accurate_features.keys(), [i[0] for i in accurate_features.values()], yerr =  [i[1] for i in accurate_features.values()])    \n",
    "    ax.set_title(tipus, fontsize = 15)\n",
    "    ax.set_ylabel('accuracy', fontsize = 11)\n",
    "    ax.set_xlabel('best N features', fontsize = 11)\n",
    "    plt.savefig(folderout + '/features_combinations_' + tipus + '.png')\n",
    "    \n",
    "    fout = open(folderout + '/features_combinations_' + tipus + '.dat', 'w')\n",
    "    fout.write('Number of features\\tAccuracy\\tAccError\\tFeatures\\n')\n",
    "    for i, feats in accurate_features.items():\n",
    "        fout.write(str(i) + '\\t' + str(feats[0]) + '\\t' + str(feats[1]) + '\\t' + '\\t'.join(feats[2]) + '\\n')\n",
    "    fout.close()\n",
    "        \n",
    "      \n",
    " \n",
    "get_accuracy_ts(featurenames_who, 'who')\n",
    "get_accuracy_ts(featurenames_where, 'where')\n",
    "\n",
    "get_accuracy_ts(featurenames_when, 'when')\n",
    "get_accuracy_ts(featurenames_what, 'what')\n",
    "\n",
    "get_accuracy_ts(featurenames_all, 'all')\n",
    "\n",
    "'''  \n",
    "print ''"
   ]
  },
  {
   "cell_type": "code",
   "execution_count": 7,
   "metadata": {},
   "outputs": [],
   "source": [
    "features_most_pred = ['WHEN_firsttime', \n",
    "                      'WHEN_hour_most',\n",
    "                      'WHAT_venue_cat', \n",
    "                      'WHAT_pricerange',\n",
    "                    'WHEN_firsttime',\n",
    "                    'WHO_m_entropy',\n",
    "                    'WHERE_emb_own_cat',\n",
    "                    'WHO_fraction_of_regulars',\n",
    "                    'WHERE_emb_na',\n",
    "                    'WHO_m_std',\n",
    "                    'WHO_m_avg',\n",
    "                    'WHERE_emb_own_cat',\n",
    "                    'WHERE_emb_na',\n",
    "                    'WHERE_distance_from_center',\n",
    "                    'WHERE_emb_building',\n",
    "                    'WHERE_emb_travel',\n",
    "                    'WHERE_emb_event',\n",
    "                    'WHO_m_entropy',\n",
    "                    'WHO_female_fraction',\n",
    "                    'WHO_fraction_of_regulars',\n",
    "                    'WHO_m_std',\n",
    "                    'WHO_m_3_fraction',\n",
    "                    'WHO_m_avg']\n",
    "\n",
    "features_most_pred = list(set(features_most_pred))"
   ]
  },
  {
   "cell_type": "code",
   "execution_count": 8,
   "metadata": {},
   "outputs": [
    {
     "name": "stdout",
     "output_type": "stream",
     "text": [
      "10 ['WHO_fraction_of_regulars', 'WHEN_hour_most', 'WHERE_distance_from_center', 'WHEN_firsttime', 'WHAT_pricerange', 'WHO_m_entropy', 'WHAT_venue_cat', 'WHERE_emb_own_cat', 'WHO_female_fraction', 'WHERE_emb_building']\n"
     ]
    },
    {
     "data": {
      "image/png": "[encoded data removed]",
      "text/plain": [
       "<Figure size 1080x324 with 3 Axes>"
      ]
     },
     "metadata": {},
     "output_type": "display_data"
    }
   ],
   "source": [
    "f, ax = plt.subplots(1,3, figsize = (15,4.5))\n",
    "\n",
    "ax[0].matshow(X.corr())\n",
    "X_pred = X.drop(columns = [c for c in X.keys() if c not in features_most_pred])\n",
    "ax[1].matshow(X_pred.corr())\n",
    "\n",
    "\n",
    "redundant_features = ['WHERE_emb_na', 'WHO_m_3_fraction', 'WHO_m_avg', 'WHO_m_std','WHERE_emb_event', 'WHERE_emb_travel']\n",
    "X\n",
    "features_most_pred_uncorr = [f for f in features_most_pred if f not in redundant_features]\n",
    "X_pred_uncorr = X.drop(columns = [c for c in X.keys() if c not in features_most_pred_uncorr])\n",
    "ax[2].matshow(X_pred_uncorr.corr())\n",
    "\n",
    "ax[0].set_title('All features',       fontsize = 13)\n",
    "ax[1].set_title('Most predictive',    fontsize = 13)\n",
    "ax[2].set_title('Most pred. & ortho', fontsize = 13)\n",
    "\n",
    "print len(features_most_pred_uncorr), features_most_pred_uncorr\n",
    "\n",
    "plt.savefig('../../../../Dropbox/interns18_venues_success/paper/template-1col/figures/correlations.png')"
   ]
  },
  {
   "cell_type": "code",
   "execution_count": null,
   "metadata": {},
   "outputs": [],
   "source": []
  },
  {
   "cell_type": "markdown",
   "metadata": {},
   "source": [
    "# Renaming features - REQUEST 1"
   ]
  },
  {
   "cell_type": "code",
   "execution_count": null,
   "metadata": {},
   "outputs": [],
   "source": []
  },
  {
   "cell_type": "code",
   "execution_count": 9,
   "metadata": {},
   "outputs": [
    {
     "data": {
      "text/html": [
       "<div>\n",
       "<style scoped>\n",
       "    .dataframe tbody tr th:only-of-type {\n",
       "        vertical-align: middle;\n",
       "    }\n",
       "\n",
       "    .dataframe tbody tr th {\n",
       "        vertical-align: top;\n",
       "    }\n",
       "\n",
       "    .dataframe thead th {\n",
       "        text-align: right;\n",
       "    }\n",
       "</style>\n",
       "<table border=\"1\" class=\"dataframe\">\n",
       "  <thead>\n",
       "    <tr style=\"text-align: right;\">\n",
       "      <th></th>\n",
       "      <th>u_pagerank_avg</th>\n",
       "    </tr>\n",
       "  </thead>\n",
       "  <tbody>\n",
       "    <tr>\n",
       "      <th>4a5f9446f964a520e0bf1fe3</th>\n",
       "      <td>1.539840e-06</td>\n",
       "    </tr>\n",
       "    <tr>\n",
       "      <th>4abcec53f964a520b98720e3</th>\n",
       "      <td>3.379230e-06</td>\n",
       "    </tr>\n",
       "    <tr>\n",
       "      <th>4abdc1c7f964a5206d8b20e3</th>\n",
       "      <td>6.256018e-07</td>\n",
       "    </tr>\n",
       "    <tr>\n",
       "      <th>4abe4502f964a520558c20e3</th>\n",
       "      <td>6.512054e-08</td>\n",
       "    </tr>\n",
       "    <tr>\n",
       "      <th>4abe5714f964a520d68c20e3</th>\n",
       "      <td>1.049486e-06</td>\n",
       "    </tr>\n",
       "  </tbody>\n",
       "</table>\n",
       "</div>"
      ],
      "text/plain": [
       "                          u_pagerank_avg\n",
       "4a5f9446f964a520e0bf1fe3    1.539840e-06\n",
       "4abcec53f964a520b98720e3    3.379230e-06\n",
       "4abdc1c7f964a5206d8b20e3    6.256018e-07\n",
       "4abe4502f964a520558c20e3    6.512054e-08\n",
       "4abe5714f964a520d68c20e3    1.049486e-06"
      ]
     },
     "execution_count": 9,
     "metadata": {},
     "output_type": "execute_result"
    }
   ],
   "source": [
    "network_users = pd.DataFrame.from_csv('FINAL_DATA/london_COMBINED_networkmeasures_2000.csv')\n",
    "network_users = network_users.drop(columns = [c for c in network_users.keys() if c != 'u_pagerank_avg'])\n",
    "network_users.head()\n"
   ]
  },
  {
   "cell_type": "code",
   "execution_count": 10,
   "metadata": {},
   "outputs": [
    {
     "name": "stdout",
     "output_type": "stream",
     "text": [
      "101177\n",
      "923\n",
      "[3 2 3 0 5 3 4 0 0 0]\n"
     ]
    }
   ],
   "source": [
    "category_distances = pd.DataFrame.from_csv('../../ProcessedData/london/venues_info/CATEGORY_embeddedness.dat', sep = '\\t')\n",
    "print len(category_distances)\n",
    "category_distances = category_distances[category_distances.index.isin(X_pred_uncorr.index)]\n",
    "print len(category_distances)\n",
    "category_distances.head()\n",
    "print y[0:10]"
   ]
  },
  {
   "cell_type": "code",
   "execution_count": 12,
   "metadata": {},
   "outputs": [
    {
     "data": {
      "text/html": [
       "<div>\n",
       "<style scoped>\n",
       "    .dataframe tbody tr th:only-of-type {\n",
       "        vertical-align: middle;\n",
       "    }\n",
       "\n",
       "    .dataframe tbody tr th {\n",
       "        vertical-align: top;\n",
       "    }\n",
       "\n",
       "    .dataframe thead th {\n",
       "        text-align: right;\n",
       "    }\n",
       "</style>\n",
       "<table border=\"1\" class=\"dataframe\">\n",
       "  <thead>\n",
       "    <tr style=\"text-align: right;\">\n",
       "      <th></th>\n",
       "      <th>WHERE - Bohemian score</th>\n",
       "      <th>WHERE - IMD score</th>\n",
       "      <th>WHERE - Population density</th>\n",
       "      <th>WHERE - Residential neighbourhood</th>\n",
       "      <th>WHAT - Unique in neighbourhood</th>\n",
       "      <th>WHAT - Venue category</th>\n",
       "      <th>WHAT - Price category</th>\n",
       "      <th>WHO - Regulars score</th>\n",
       "      <th>WHO - Diversity in purchasing power</th>\n",
       "      <th>WHO - Average Pagerank of customers from Contact Network</th>\n",
       "      <th>WHO - Gender balance score</th>\n",
       "    </tr>\n",
       "  </thead>\n",
       "  <tbody>\n",
       "    <tr>\n",
       "      <th>4ac51183f964a52049a020e3</th>\n",
       "      <td>700.0</td>\n",
       "      <td>22.33</td>\n",
       "      <td>14285.7</td>\n",
       "      <td>0.569905</td>\n",
       "      <td>1.367268</td>\n",
       "      <td>1.339332e+09</td>\n",
       "      <td>17</td>\n",
       "      <td>0.216110</td>\n",
       "      <td>0.992990</td>\n",
       "      <td>9.940441e-08</td>\n",
       "      <td>0.147287</td>\n",
       "    </tr>\n",
       "    <tr>\n",
       "      <th>4ac518b4f964a52067a020e3</th>\n",
       "      <td>8200.0</td>\n",
       "      <td>24.73</td>\n",
       "      <td>3085.7</td>\n",
       "      <td>0.401649</td>\n",
       "      <td>1.004700</td>\n",
       "      <td>1.360076e+09</td>\n",
       "      <td>0</td>\n",
       "      <td>0.100000</td>\n",
       "      <td>0.989458</td>\n",
       "      <td>7.536223e-06</td>\n",
       "      <td>-0.200000</td>\n",
       "    </tr>\n",
       "    <tr>\n",
       "      <th>4ac518b4f964a52072a020e3</th>\n",
       "      <td>4600.0</td>\n",
       "      <td>20.48</td>\n",
       "      <td>5300.0</td>\n",
       "      <td>0.321283</td>\n",
       "      <td>1.190251</td>\n",
       "      <td>1.339444e+09</td>\n",
       "      <td>19</td>\n",
       "      <td>0.160000</td>\n",
       "      <td>0.991121</td>\n",
       "      <td>4.362998e-07</td>\n",
       "      <td>0.207143</td>\n",
       "    </tr>\n",
       "    <tr>\n",
       "      <th>4ac518b4f964a52073a020e3</th>\n",
       "      <td>700.0</td>\n",
       "      <td>11.65</td>\n",
       "      <td>2583.3</td>\n",
       "      <td>0.381227</td>\n",
       "      <td>1.356662</td>\n",
       "      <td>1.346148e+09</td>\n",
       "      <td>2</td>\n",
       "      <td>0.200000</td>\n",
       "      <td>0.989679</td>\n",
       "      <td>4.321611e-06</td>\n",
       "      <td>0.263158</td>\n",
       "    </tr>\n",
       "    <tr>\n",
       "      <th>4ac518b4f964a5207aa020e3</th>\n",
       "      <td>200.0</td>\n",
       "      <td>31.54</td>\n",
       "      <td>10384.6</td>\n",
       "      <td>0.606283</td>\n",
       "      <td>1.177433</td>\n",
       "      <td>1.372147e+09</td>\n",
       "      <td>0</td>\n",
       "      <td>0.071429</td>\n",
       "      <td>0.987350</td>\n",
       "      <td>4.836148e-06</td>\n",
       "      <td>0.307692</td>\n",
       "    </tr>\n",
       "  </tbody>\n",
       "</table>\n",
       "</div>"
      ],
      "text/plain": [
       "                          WHERE - Bohemian score  WHERE - IMD score  \\\n",
       "4ac51183f964a52049a020e3                   700.0              22.33   \n",
       "4ac518b4f964a52067a020e3                  8200.0              24.73   \n",
       "4ac518b4f964a52072a020e3                  4600.0              20.48   \n",
       "4ac518b4f964a52073a020e3                   700.0              11.65   \n",
       "4ac518b4f964a5207aa020e3                   200.0              31.54   \n",
       "\n",
       "                          WHERE - Population density  \\\n",
       "4ac51183f964a52049a020e3                     14285.7   \n",
       "4ac518b4f964a52067a020e3                      3085.7   \n",
       "4ac518b4f964a52072a020e3                      5300.0   \n",
       "4ac518b4f964a52073a020e3                      2583.3   \n",
       "4ac518b4f964a5207aa020e3                     10384.6   \n",
       "\n",
       "                          WHERE - Residential neighbourhood  \\\n",
       "4ac51183f964a52049a020e3                           0.569905   \n",
       "4ac518b4f964a52067a020e3                           0.401649   \n",
       "4ac518b4f964a52072a020e3                           0.321283   \n",
       "4ac518b4f964a52073a020e3                           0.381227   \n",
       "4ac518b4f964a5207aa020e3                           0.606283   \n",
       "\n",
       "                          WHAT - Unique in neighbourhood  \\\n",
       "4ac51183f964a52049a020e3                        1.367268   \n",
       "4ac518b4f964a52067a020e3                        1.004700   \n",
       "4ac518b4f964a52072a020e3                        1.190251   \n",
       "4ac518b4f964a52073a020e3                        1.356662   \n",
       "4ac518b4f964a5207aa020e3                        1.177433   \n",
       "\n",
       "                          WHAT - Venue category  WHAT - Price category  \\\n",
       "4ac51183f964a52049a020e3           1.339332e+09                     17   \n",
       "4ac518b4f964a52067a020e3           1.360076e+09                      0   \n",
       "4ac518b4f964a52072a020e3           1.339444e+09                     19   \n",
       "4ac518b4f964a52073a020e3           1.346148e+09                      2   \n",
       "4ac518b4f964a5207aa020e3           1.372147e+09                      0   \n",
       "\n",
       "                          WHO - Regulars score  \\\n",
       "4ac51183f964a52049a020e3              0.216110   \n",
       "4ac518b4f964a52067a020e3              0.100000   \n",
       "4ac518b4f964a52072a020e3              0.160000   \n",
       "4ac518b4f964a52073a020e3              0.200000   \n",
       "4ac518b4f964a5207aa020e3              0.071429   \n",
       "\n",
       "                          WHO - Diversity in purchasing power  \\\n",
       "4ac51183f964a52049a020e3                             0.992990   \n",
       "4ac518b4f964a52067a020e3                             0.989458   \n",
       "4ac518b4f964a52072a020e3                             0.991121   \n",
       "4ac518b4f964a52073a020e3                             0.989679   \n",
       "4ac518b4f964a5207aa020e3                             0.987350   \n",
       "\n",
       "                          WHO - Average Pagerank of customers from Contact Network  \\\n",
       "4ac51183f964a52049a020e3                                       9.940441e-08          \n",
       "4ac518b4f964a52067a020e3                                       7.536223e-06          \n",
       "4ac518b4f964a52072a020e3                                       4.362998e-07          \n",
       "4ac518b4f964a52073a020e3                                       4.321611e-06          \n",
       "4ac518b4f964a5207aa020e3                                       4.836148e-06          \n",
       "\n",
       "                          WHO - Gender balance score  \n",
       "4ac51183f964a52049a020e3                    0.147287  \n",
       "4ac518b4f964a52067a020e3                   -0.200000  \n",
       "4ac518b4f964a52072a020e3                    0.207143  \n",
       "4ac518b4f964a52073a020e3                    0.263158  \n",
       "4ac518b4f964a5207aa020e3                    0.307692  "
      ]
     },
     "execution_count": 12,
     "metadata": {},
     "output_type": "execute_result"
    }
   ],
   "source": [
    "X_pred_uncorr_renamed = pd.DataFrame()\n",
    "\n",
    "\n",
    "X_pred_uncorr_renamed['WHERE - Bohemian score']         = X['WHERE_ArtsEmploy']\n",
    "X_pred_uncorr_renamed['WHERE - IMD score']              = X['WHERE_IMDScore']\n",
    "X_pred_uncorr_renamed['WHERE - Population density']     = X['WHERE_PopDen']\n",
    "#X_pred_uncorr_renamed['WHERE - Central neighbourhood']  =  X_pred_uncorr['WHERE_distance_from_center'].apply(rec)\n",
    "\n",
    "X_pred_uncorr_renamed['WHERE - Residential neighbourhood']   = category_distances['building']\n",
    "#X_pred_uncorr_renamed['WHERE - Residential neighbourhood_2'] = X_pred_uncorr['WHERE_emb_building']\n",
    "\n",
    "X_pred_uncorr_renamed['WHAT - Unique in neighbourhood']    = category_distances['own_cat']\n",
    "#X_pred_ncorr_renamed['WHAT - Unique in neighbourhood_2']  = X_pred_uncorr['WHERE_emb_own_cat']\n",
    "X_pred_uncorr_renamed['WHAT - Venue category']             = X_pred_uncorr['WHEN_firsttime']\n",
    "X_pred_uncorr_renamed['WHAT - Price category']             = X_pred_uncorr['WHEN_hour_most']\n",
    "\n",
    "#X_pred_uncorr_renamed['WHEN - Time of the first occurance']    = X_pred_uncorr['WHEN_firsttime']\n",
    "#X_pred_uncorr_renamed['WHEN - Most popular hour of the day']   = X_pred_uncorr['WHEN_hour_most']\n",
    "X_pred_uncorr_renamed['WHO - Regulars score']                  = X_pred_uncorr['WHO_fraction_of_regulars']\n",
    "X_pred_uncorr_renamed['WHO - Diversity in purchasing power']   = X_pred_uncorr['WHO_m_entropy']\n",
    "\n",
    "\n",
    "#X_pred_uncorr_renamed = X_pred_uncorr_renamed.drop(columns = [ 'WHEN - Most popular hour of the day'])\n",
    "\n",
    "aa = pd.read_csv('venues_genders.csv', sep = '\\t', index_col = 0)\n",
    "aa = aa.rename(columns = {'female' : 'WHO - Gender balance score'})\n",
    "\n",
    "X_pred_uncorr_renamed = X_pred_uncorr_renamed.merge(network_users, right_index = True, left_index = True)\n",
    "X_pred_uncorr_renamed = X_pred_uncorr_renamed.merge(aa, right_index = True, left_index = True)\n",
    "X_pred_uncorr_renamed = X_pred_uncorr_renamed.rename(columns = {'LABEL_category' : 'Cluster'})\n",
    "X_pred_uncorr_renamed = X_pred_uncorr_renamed.rename(columns = {'u_pagerank_avg' : 'WHO - Average Pagerank of customers from Contact Network' })\n",
    "\n",
    "X_pred_uncorr_renamed_Labeled = X_pred_uncorr_renamed\n",
    "X_pred_uncorr_renamed = X_pred_uncorr_renamed.drop(columns = ['Cluster'])\n",
    "\n",
    "X_pred_uncorr_renamed.head()"
   ]
  },
  {
   "cell_type": "markdown",
   "metadata": {},
   "source": [
    "# CORRELATIONS - REQUEST 2"
   ]
  },
  {
   "cell_type": "code",
   "execution_count": 21,
   "metadata": {},
   "outputs": [],
   "source": [
    "distances = pd.read_csv('distance_correlation.csv', sep = '\\t', index_col = 0)\n",
    "distances_filtered = distances[distances.index.isin(list(X_pred_uncorr_renamed.index))]"
   ]
  },
  {
   "cell_type": "code",
   "execution_count": 23,
   "metadata": {},
   "outputs": [],
   "source": [
    "corr  = np.zeros((len(X_pred_uncorr_renamed.keys()), len(distances_filtered.keys())))\n",
    "pval  = np.zeros((len(X_pred_uncorr_renamed.keys()), len(distances_filtered.keys())))\n",
    "cls   = []\n",
    "feats = []\n",
    "\n",
    "for ind, cl in enumerate(distances_filtered.keys()):\n",
    "\n",
    "    cls.append(cl)\n",
    "    \n",
    "    for jind, feat in enumerate(X_pred_uncorr_renamed.keys()):\n",
    "\n",
    "        feats.append(feat)\n",
    "  \n",
    "        d1 = dict(distances_filtered[cl])\n",
    "        d2 = dict(X_pred_uncorr_renamed[feat])\n",
    "        \n",
    "        xxx, yyy = zip(*[(dist, d2[ven]) for ven, dist in d1.items()])\n",
    "        \n",
    "        C = stats.spearmanr(xxx,yyy)\n",
    "          \n",
    "        corr[jind, ind] = C[0]\n",
    "        pval[jind, ind] = C[1]"
   ]
  },
  {
   "cell_type": "code",
   "execution_count": 14,
   "metadata": {},
   "outputs": [
    {
     "ename": "NameError",
     "evalue": "name 'feats' is not defined",
     "output_type": "error",
     "traceback": [
      "\u001b[0;31m---------------------------------------------------------------------------\u001b[0m",
      "\u001b[0;31mNameError\u001b[0m                                 Traceback (most recent call last)",
      "\u001b[0;32m<ipython-input-14-a10f07e765ee>\u001b[0m in \u001b[0;36m<module>\u001b[0;34m()\u001b[0m\n\u001b[1;32m      5\u001b[0m \u001b[0max\u001b[0m\u001b[0;34m.\u001b[0m\u001b[0mset_xticks\u001b[0m\u001b[0;34m(\u001b[0m\u001b[0mnp\u001b[0m\u001b[0;34m.\u001b[0m\u001b[0marange\u001b[0m\u001b[0;34m(\u001b[0m\u001b[0mlen\u001b[0m\u001b[0;34m(\u001b[0m\u001b[0mX_pred_uncorr_renamed\u001b[0m\u001b[0;34m.\u001b[0m\u001b[0mkeys\u001b[0m\u001b[0;34m(\u001b[0m\u001b[0;34m)\u001b[0m\u001b[0;34m)\u001b[0m\u001b[0;34m)\u001b[0m\u001b[0;34m)\u001b[0m\u001b[0;34m\u001b[0m\u001b[0m\n\u001b[1;32m      6\u001b[0m \u001b[0max\u001b[0m\u001b[0;34m.\u001b[0m\u001b[0mset_yticks\u001b[0m\u001b[0;34m(\u001b[0m\u001b[0mnp\u001b[0m\u001b[0;34m.\u001b[0m\u001b[0marange\u001b[0m\u001b[0;34m(\u001b[0m\u001b[0mlen\u001b[0m\u001b[0;34m(\u001b[0m\u001b[0mX_pred_uncorr_renamed\u001b[0m\u001b[0;34m.\u001b[0m\u001b[0mkeys\u001b[0m\u001b[0;34m(\u001b[0m\u001b[0;34m)\u001b[0m\u001b[0;34m)\u001b[0m\u001b[0;34m)\u001b[0m\u001b[0;34m)\u001b[0m\u001b[0;34m\u001b[0m\u001b[0m\n\u001b[0;32m----> 7\u001b[0;31m \u001b[0max\u001b[0m\u001b[0;34m.\u001b[0m\u001b[0mset_xticklabels\u001b[0m\u001b[0;34m(\u001b[0m\u001b[0mfeats\u001b[0m\u001b[0;34m[\u001b[0m\u001b[0;36m0\u001b[0m\u001b[0;34m:\u001b[0m\u001b[0mlen\u001b[0m\u001b[0;34m(\u001b[0m\u001b[0mX_pred_uncorr_renamed\u001b[0m\u001b[0;34m.\u001b[0m\u001b[0mkeys\u001b[0m\u001b[0;34m(\u001b[0m\u001b[0;34m)\u001b[0m\u001b[0;34m)\u001b[0m\u001b[0;34m]\u001b[0m\u001b[0;34m,\u001b[0m \u001b[0mrotation\u001b[0m \u001b[0;34m=\u001b[0m \u001b[0;36m90\u001b[0m\u001b[0;34m,\u001b[0m \u001b[0mha\u001b[0m \u001b[0;34m=\u001b[0m \u001b[0;34m'center'\u001b[0m\u001b[0;34m,\u001b[0m \u001b[0mfontsize\u001b[0m \u001b[0;34m=\u001b[0m \u001b[0;36m15\u001b[0m\u001b[0;34m)\u001b[0m\u001b[0;34m\u001b[0m\u001b[0m\n\u001b[0m\u001b[1;32m      8\u001b[0m \u001b[0max\u001b[0m\u001b[0;34m.\u001b[0m\u001b[0mset_yticklabels\u001b[0m\u001b[0;34m(\u001b[0m\u001b[0mfeats\u001b[0m\u001b[0;34m[\u001b[0m\u001b[0;36m0\u001b[0m\u001b[0;34m:\u001b[0m\u001b[0mlen\u001b[0m\u001b[0;34m(\u001b[0m\u001b[0mX_pred_uncorr_renamed\u001b[0m\u001b[0;34m.\u001b[0m\u001b[0mkeys\u001b[0m\u001b[0;34m(\u001b[0m\u001b[0;34m)\u001b[0m\u001b[0;34m)\u001b[0m\u001b[0;34m]\u001b[0m\u001b[0;34m,\u001b[0m \u001b[0mfontsize\u001b[0m \u001b[0;34m=\u001b[0m \u001b[0;36m15\u001b[0m\u001b[0;34m)\u001b[0m\u001b[0;34m\u001b[0m\u001b[0m\n\u001b[1;32m      9\u001b[0m \u001b[0;34m\u001b[0m\u001b[0m\n",
      "\u001b[0;31mNameError\u001b[0m: name 'feats' is not defined"
     ]
    },
    {
     "data": {
      "image/png": "[encoded data removed]",
      "text/plain": [
       "<Figure size 1080x576 with 1 Axes>"
      ]
     },
     "metadata": {},
     "output_type": "display_data"
    }
   ],
   "source": [
    "f, ax = plt.subplots(1,1,figsize=(15,8))\n",
    "im1 = ax.matshow(X_pred_uncorr_renamed.corr(), cmap=plt.get_cmap('RdGy'))\n",
    "\n",
    "\n",
    "ax.set_xticks(np.arange(len(X_pred_uncorr_renamed.keys())))\n",
    "ax.set_yticks(np.arange(len(X_pred_uncorr_renamed.keys())))  \n",
    "ax.set_xticklabels(feats[0:len(X_pred_uncorr_renamed.keys())], rotation = 90, ha = 'center', fontsize = 15)\n",
    "ax.set_yticklabels(feats[0:len(X_pred_uncorr_renamed.keys())], fontsize = 15)\n",
    "\n",
    "\n",
    "divider = make_axes_locatable(ax)\n",
    "cax = divider.append_axes('right', size='5%', pad=0.05)\n",
    "f.colorbar(im1, cax=cax, orientation='vertical')\n",
    "\n",
    "\n",
    "plt.savefig('../../../../Dropbox/interns18_venues_success/paper/template-1col/figures/Featured_cross_correlation.png', bbox_inches=\"tight\")"
   ]
  },
  {
   "cell_type": "code",
   "execution_count": null,
   "metadata": {},
   "outputs": [],
   "source": []
  },
  {
   "cell_type": "code",
   "execution_count": null,
   "metadata": {},
   "outputs": [],
   "source": []
  },
  {
   "cell_type": "code",
   "execution_count": null,
   "metadata": {},
   "outputs": [],
   "source": []
  },
  {
   "cell_type": "code",
   "execution_count": 16,
   "metadata": {},
   "outputs": [
    {
     "ename": "NameError",
     "evalue": "name 'distances_filtered' is not defined",
     "output_type": "error",
     "traceback": [
      "\u001b[0;31m---------------------------------------------------------------------------\u001b[0m",
      "\u001b[0;31mNameError\u001b[0m                                 Traceback (most recent call last)",
      "\u001b[0;32m<ipython-input-16-342e1b5f8a30>\u001b[0m in \u001b[0;36m<module>\u001b[0;34m()\u001b[0m\n\u001b[1;32m      3\u001b[0m \u001b[0;34m\u001b[0m\u001b[0m\n\u001b[1;32m      4\u001b[0m \u001b[0;32mfor\u001b[0m \u001b[0mi\u001b[0m \u001b[0;32min\u001b[0m \u001b[0mrange\u001b[0m\u001b[0;34m(\u001b[0m\u001b[0;36m2\u001b[0m\u001b[0;34m)\u001b[0m\u001b[0;34m:\u001b[0m\u001b[0;34m\u001b[0m\u001b[0m\n\u001b[0;32m----> 5\u001b[0;31m     \u001b[0max\u001b[0m\u001b[0;34m[\u001b[0m\u001b[0mi\u001b[0m\u001b[0;34m]\u001b[0m\u001b[0;34m.\u001b[0m\u001b[0mset_xticks\u001b[0m\u001b[0;34m(\u001b[0m\u001b[0mnp\u001b[0m\u001b[0;34m.\u001b[0m\u001b[0marange\u001b[0m\u001b[0;34m(\u001b[0m\u001b[0mlen\u001b[0m\u001b[0;34m(\u001b[0m\u001b[0mdistances_filtered\u001b[0m\u001b[0;34m.\u001b[0m\u001b[0mkeys\u001b[0m\u001b[0;34m(\u001b[0m\u001b[0;34m)\u001b[0m\u001b[0;34m)\u001b[0m\u001b[0;34m)\u001b[0m\u001b[0;34m)\u001b[0m\u001b[0;34m\u001b[0m\u001b[0m\n\u001b[0m\u001b[1;32m      6\u001b[0m     \u001b[0max\u001b[0m\u001b[0;34m[\u001b[0m\u001b[0mi\u001b[0m\u001b[0;34m]\u001b[0m\u001b[0;34m.\u001b[0m\u001b[0mset_yticks\u001b[0m\u001b[0;34m(\u001b[0m\u001b[0mnp\u001b[0m\u001b[0;34m.\u001b[0m\u001b[0marange\u001b[0m\u001b[0;34m(\u001b[0m\u001b[0mlen\u001b[0m\u001b[0;34m(\u001b[0m\u001b[0mX_pred_uncorr_renamed\u001b[0m\u001b[0;34m.\u001b[0m\u001b[0mkeys\u001b[0m\u001b[0;34m(\u001b[0m\u001b[0;34m)\u001b[0m\u001b[0;34m)\u001b[0m\u001b[0;34m)\u001b[0m\u001b[0;34m)\u001b[0m\u001b[0;34m\u001b[0m\u001b[0m\n\u001b[1;32m      7\u001b[0m     \u001b[0max\u001b[0m\u001b[0;34m[\u001b[0m\u001b[0mi\u001b[0m\u001b[0;34m]\u001b[0m\u001b[0;34m.\u001b[0m\u001b[0mset_xticklabels\u001b[0m\u001b[0;34m(\u001b[0m\u001b[0mcls\u001b[0m\u001b[0;34m[\u001b[0m\u001b[0;36m0\u001b[0m\u001b[0;34m:\u001b[0m\u001b[0mlen\u001b[0m\u001b[0;34m(\u001b[0m\u001b[0mdistances_filtered\u001b[0m\u001b[0;34m.\u001b[0m\u001b[0mkeys\u001b[0m\u001b[0;34m(\u001b[0m\u001b[0;34m)\u001b[0m\u001b[0;34m)\u001b[0m\u001b[0;34m]\u001b[0m\u001b[0;34m,\u001b[0m \u001b[0mrotation\u001b[0m \u001b[0;34m=\u001b[0m \u001b[0;36m90\u001b[0m\u001b[0;34m,\u001b[0m \u001b[0mha\u001b[0m \u001b[0;34m=\u001b[0m \u001b[0;34m'center'\u001b[0m\u001b[0;34m,\u001b[0m \u001b[0mfontsize\u001b[0m \u001b[0;34m=\u001b[0m \u001b[0;36m15\u001b[0m\u001b[0;34m)\u001b[0m\u001b[0;34m\u001b[0m\u001b[0m\n",
      "\u001b[0;31mNameError\u001b[0m: name 'distances_filtered' is not defined"
     ]
    },
    {
     "data": {
      "image/png": "[encoded data removed]",
      "text/plain": [
       "<Figure size 720x1080 with 2 Axes>"
      ]
     },
     "metadata": {},
     "output_type": "display_data"
    }
   ],
   "source": [
    "f, ax = plt.subplots(2,1, figsize = (10,15))\n",
    "\n",
    "\n",
    "for i in range(2):\n",
    "    ax[i].set_xticks(np.arange(len(distances_filtered.keys())))\n",
    "    ax[i].set_yticks(np.arange(len(X_pred_uncorr_renamed.keys())))  \n",
    "    ax[i].set_xticklabels(cls[0:len(distances_filtered.keys())], rotation = 90, ha = 'center', fontsize = 15)\n",
    "    ax[i].set_yticklabels(feats[0:len(X_pred_uncorr_renamed.keys())], fontsize = 15)\n",
    "\n",
    "im1 = ax[0].imshow(corr, cmap=plt.get_cmap('RdGy'))\n",
    "im2 = ax[1].imshow(pval, cmap=plt.get_cmap('Reds'))\n",
    "\n",
    "print corr\n",
    "\n",
    "\n",
    "ax[0].set_title('$c_{\\\\rm spearmanr}$', fontsize = 22)\n",
    "ax[1].set_title('$p$ value', fontsize = 22)\n",
    "\n",
    "\n",
    "divider = make_axes_locatable(ax[0])\n",
    "cax = divider.append_axes('right', size='5%', pad=0.05)\n",
    "f.colorbar(im1, cax=cax, orientation='vertical')\n",
    "\n",
    "divider = make_axes_locatable(ax[1])\n",
    "dax = divider.append_axes('right', size='5%', pad=0.05)\n",
    "f.colorbar(im2, cax=dax, orientation='vertical');\n",
    "\n",
    "\n",
    "plt.subplots_adjust(left=None, bottom=None, right=None, top=None, wspace=1.3, hspace=2.5)\n",
    "plt.tight_layout()\n",
    "plt.savefig('../../../../Dropbox/interns18_venues_success/paper/template-1col/figures/Distance_feature_correlation.png', bbox_inches=\"tight\")"
   ]
  },
  {
   "cell_type": "markdown",
   "metadata": {},
   "source": [
    "# 6 SHAPES SLECTED FEATURES"
   ]
  },
  {
   "cell_type": "code",
   "execution_count": 81,
   "metadata": {},
   "outputs": [
    {
     "name": "stdout",
     "output_type": "stream",
     "text": [
      "923\n",
      "25763\n",
      "25239\n",
      "0.0\n",
      "0.0\n",
      "0.06\n",
      "0.94\n"
     ]
    }
   ],
   "source": [
    "venues_clussified = set(XNEW.index)\n",
    "\n",
    "\n",
    "city        = 'london'\n",
    "outfolder   = '../../ProcessedData/' + city + '/'\n",
    "successdata = outfolder + 'venues_info/' + city + '_venues_success_measures.csv'\n",
    "success     = pd.read_csv(successdata, sep = '\\t', index_col = 0)\n",
    "success     = success[~success.index.duplicated(keep='first')]   \n",
    "success['quartile'] = pd.qcut(success['checkinsCount'], 4, ['q1','q2','q3','q4'])\n",
    "Q1 = set(list(success[success['quartile'] == 'q1'].index))\n",
    "Q2 = set(list(success[success['quartile'] == 'q2'].index))\n",
    "Q3 = set(list(success[success['quartile'] == 'q3'].index))\n",
    "Q4 = set(list(success[success['quartile'] == 'q4'].index))\n",
    "\n",
    "\n",
    "print len(venues_clussified)\n",
    "print len(Q1)\n",
    "print len(Q4)\n",
    "\n",
    "print round(len(venues_clussified.intersection(Q1))/float(len(venues_clussified)), 2)\n",
    "print round(len(venues_clussified.intersection(Q2))/float(len(venues_clussified)), 2)\n",
    "print round(len(venues_clussified.intersection(Q3))/float(len(venues_clussified)), 2)\n",
    "print round(len(venues_clussified.intersection(Q4))/float(len(venues_clussified)), 2)\n"
   ]
  },
  {
   "cell_type": "code",
   "execution_count": 56,
   "metadata": {},
   "outputs": [
    {
     "name": "stdout",
     "output_type": "stream",
     "text": [
      "0.32370879960465826 6 0.01 0.9\n",
      "0.32370879960465826\n",
      "0.2312090940157602 4 0.15 0.95\n",
      "0.2312090940157602\n",
      "0.2849946995680491 6 0.05 0.85\n",
      "0.2849946995680491\n",
      "0.20714292939098028 5 0.2 0.9\n",
      "0.20714292939098028\n"
     ]
    },
    {
     "data": {
      "image/png": "[encoded data removed]",
      "text/plain": [
       "<Figure size 720x432 with 1 Axes>"
      ]
     },
     "metadata": {},
     "output_type": "display_data"
    }
   ],
   "source": [
    "XNEW = X_pred_uncorr_renamed_Labeled.drop(columns = ['Cluster'])\n",
    "yNEW = np.asarray(X_pred_uncorr_renamed_Labeled.Cluster)\n",
    "\n",
    "\n",
    "\n",
    "def xgb_model_params_types_given_features(X, y, tipus = ''):\n",
    "      \n",
    "        \n",
    "     \n",
    "    acc, depth, rate, sample = [line.replace(',','').strip().split('\\t') for line in open('FINAL_OPT_RES/' + tipus + '_best.dat' )][0]\n",
    "       \n",
    "    print acc, depth, rate, sample    \n",
    "        \n",
    "    max_depth_     = int(float(depth))\n",
    "    learning_rate_ = float(rate)\n",
    "    subsample_     = float(sample)\n",
    "\n",
    "    \n",
    "        \n",
    "    X_ = X.drop(columns = [c for c in X.keys() if tipus not in c])  \n",
    "     \n",
    "    #print X_.keys()\n",
    "        \n",
    "    #print len(X_.keys())\n",
    "    train_data, test_data, train_label, test_label =  train_test_split(X_, y, test_size=.33, random_state=42)    \n",
    "          \n",
    "    model2       = xgb.XGBClassifier(n_estimators=100, max_depth=max_depth_, learning_rate=learning_rate_, subsample=subsample_)\n",
    "    train_model2 = model2.fit(train_data, train_label)\n",
    "    pred2        = train_model2.predict(test_data)\n",
    "            \n",
    "    accuracies = list(cross_val_score(train_model2, train_data, train_label, cv=5))       \n",
    "    print  np.mean(accuracies)   \n",
    "      \n",
    "        \n",
    "    return np.mean(accuracies), np.std(accuracies)\n",
    "     \n",
    "    \n",
    "depth  = 6\n",
    "rate   = 0.02\n",
    "sample = 0.95\n",
    "                           \n",
    "All,    Aerrall   = xgb_model_params_types_given_features(XNEW, yNEW, tipus = '' )\n",
    "Awhat,  Aerrwhat  = xgb_model_params_types_given_features(XNEW, yNEW, tipus = 'WHAT' )\n",
    "Awho,   Aerrwho   = xgb_model_params_types_given_features(XNEW, yNEW, tipus = 'WHO'  )\n",
    "Awhere, Aerrwhere = xgb_model_params_types_given_features(XNEW, yNEW, tipus = 'WHERE')\n",
    "\n",
    "\n",
    "\n",
    "f, ax = plt.subplots(1,1,figsize=(10,6))\n",
    "\n",
    "names    = ['all', 'where', 'who',  'what']\n",
    "results  = [All,      Awhat,    Awho,    Awhere]\n",
    "errors   = [Aerrall,  Aerrwhat, Aerrwho, Aerrwhere]\n",
    "\n",
    "results2 = [100*r / (1.0/6.0) - 100 for r in results]\n",
    "errors2  = [results2[i] * errors[i]/results[i]  for i in range(len(results)) ]\n",
    "\n",
    "\n",
    "ax.set_yticklabels(['0', '20', '40', '60', '80', '100'], fontsize = 18)\n",
    "\n",
    "\n",
    "names, results2, errors2 = zip(*sorted([(names[i], results2[i], errors2[i]) for i in range(len(names))] , key=lambda tup: tup[1], reverse = True))\n",
    "\n",
    "#ax.set_title('All features', fontsize = 20)\n",
    "ax.set_xticklabels(names, fontsize = 18)\n",
    "\n",
    "ax.bar(names, results2, yerr = errors2, width = 0.4)\n",
    "ax.set_ylim(0,100)\n",
    "\n",
    "plt.tight_layout( rect=[0, 0.05, 1, 0.9])\n",
    "plt.suptitle('6 shape prediction -- relative accuracies with different feature sets', fontsize = 20)\n",
    "plt.savefig('../../../../Dropbox/interns18_venues_success/paper/template-1col/figures/6shapespred1.png')\n",
    "\n"
   ]
  },
  {
   "cell_type": "code",
   "execution_count": 70,
   "metadata": {},
   "outputs": [
    {
     "name": "stdout",
     "output_type": "stream",
     "text": [
      "WHERE - Bohemian score 22.515575405211365 22.515575405211365\n",
      "WHERE - IMD score 27.396698859398256 27.396698859398256\n",
      "WHERE - Population density 24.517841312777307 24.517841312777307\n",
      "WHERE - Residential neighbourhood 15.55133729727821 15.55133729727821\n",
      "WHAT - Unique in neighbourhood 19.656512812224136 19.656512812224136\n",
      "WHAT - Venue category 56.97313391612798 56.97313391612798\n",
      "WHAT - Price category 14.685143195264075 14.685143195264075\n",
      "WHO - Regulars score -6.798626831528637 0\n",
      "WHO - Diversity in purchasing power 61.125937458102555 61.125937458102555\n",
      "WHO - Average Pagerank of customers from Contact Network 68.86343897144266 68.86343897144266\n",
      "WHO - Gender balance score 26.227189590325253 26.227189590325253\n"
     ]
    },
    {
     "data": {
      "image/png": "[encoded data removed]",
      "text/plain": [
       "<Figure size 720x648 with 1 Axes>"
      ]
     },
     "metadata": {},
     "output_type": "display_data"
    }
   ],
   "source": [
    "XNEW = X_pred_uncorr_renamed_Labeled.drop(columns = ['Cluster'])\n",
    "yNEW = np.asarray(X_pred_uncorr_renamed_Labeled.Cluster)\n",
    "\n",
    "\n",
    "\n",
    "def xgb_model_params_types_given_feature(X, y, NAMEDFEAT):\n",
    "              \n",
    "    X_ = X.drop(columns = [c for c in X.keys() if c != NAMEDFEAT])  \n",
    "     \n",
    "\n",
    "    acc, depth, rate, sample = [line.replace(',','').strip().split('\\t') for line in open('FINAL_OPT_RES/' + NAMEDFEAT + '_best.dat' )][0]\n",
    "       \n",
    "   # print acc, depth, rate, sample    \n",
    "        \n",
    "    max_depth_     = int(float(depth))\n",
    "    learning_rate_ = float(rate)\n",
    "    subsample_     = float(sample)\n",
    "        \n",
    "        \n",
    "    \n",
    "    train_data, test_data, train_label, test_label =  train_test_split(X_, y, test_size=.33, random_state=42)    \n",
    "          \n",
    "    model2       = xgb.XGBClassifier(n_estimators=100, max_depth=max_depth_, learning_rate=learning_rate_, subsample=subsample_)\n",
    "    train_model2 = model2.fit(train_data, train_label)\n",
    "    pred2        = train_model2.predict(test_data)\n",
    "            \n",
    "    accuracies = list(cross_val_score(train_model2, train_data, train_label, cv=5))     \n",
    "    \n",
    "    \n",
    "    relacc = 100*np.mean(accuracies)  / (1.0/6.0) - 100 \n",
    "    relerr = 100*np.std(accuracies) / (1.0/6.0) - 100 \n",
    "    \n",
    "    print  NAMEDFEAT, relacc, acc\n",
    "        \n",
    "    return relacc, relerr#(np.mean(accuracies), np.std(accuracies))\n",
    "     \n",
    "    \n",
    "depth  = 5\n",
    "rate   = 0.2\n",
    "sample = 0.75\n",
    "   \n",
    "names   = []\n",
    "results = []\n",
    "errors  = []\n",
    "    \n",
    "    \n",
    "    \n",
    "for NAMEDFEAT in XNEW.keys() :\n",
    "\n",
    "    acc, err = xgb_model_params_types_given_feature(XNEW, yNEW,  NAMEDFEAT )\n",
    "    names.append(NAMEDFEAT)\n",
    "    results.append(acc)\n",
    "    errors.append(err)\n",
    "\n",
    "\n",
    "\n",
    "\n",
    "f, ax = plt.subplots(1,1,figsize=(10,9))\n",
    "\n",
    "\n",
    "#ax.set_yticklabels(['0', '20', '40', '60', '80', '100'], fontsize = 18)\n",
    "\n",
    "\n",
    "names, results, errors = zip(*sorted([(names[i], results[i], errors[i]) for i in range(len(names))] , key=lambda tup: tup[1], reverse = True))\n",
    "\n",
    "ax.bar(names, results, width = 0.4)\n",
    "#ax.set_ylim(0,100)\n",
    "ax.set_xticklabels(names, fontsize = 14, rotation = 30, ha = 'right')\n",
    "\n",
    "plt.tight_layout( rect=[0, 0.05, 1, 0.9])\n",
    "plt.suptitle('6 shape prediction -- relative accuracies with different features', fontsize = 20)\n",
    "plt.savefig('../../../../Dropbox/interns18_venues_success/paper/template-1col/figures/6shapespred2.png')\n",
    "\n",
    "\n",
    "\n"
   ]
  },
  {
   "cell_type": "markdown",
   "metadata": {},
   "source": [
    "# 6 SHAPES CLASS"
   ]
  },
  {
   "cell_type": "code",
   "execution_count": null,
   "metadata": {},
   "outputs": [],
   "source": [
    "from sklearn.model_selection import cross_val_score\n",
    "\n",
    "\n",
    "def xgb_model_params_types_given_features(X, y, max_depth_ ,learning_rate_, subsample_, tipus = ''):\n",
    "              \n",
    "    X_ = X.drop(columns = [c for c in X.keys() if tipus not in c])  \n",
    "     \n",
    "    #print X_.keys()\n",
    "        \n",
    "    #print len(X_.keys())\n",
    "    train_data, test_data, train_label, test_label =  train_test_split(X_, y, test_size=.33, random_state=42)    \n",
    "          \n",
    "    model2       = xgb.XGBClassifier(n_estimators=100, max_depth=max_depth_, learning_rate=learning_rate_, subsample=subsample_)\n",
    "    train_model2 = model2.fit(train_data, train_label)\n",
    "    pred2        = train_model2.predict(test_data)\n",
    "            \n",
    "    accuracies = list(cross_val_score(train_model2, train_data, train_label, cv=5))       \n",
    "    print  np.mean(accuracies)   \n",
    "        \n",
    "    return (np.mean(accuracies), np.std(accuracies))\n",
    "     \n",
    "    \n",
    "depth  = 6\n",
    "rate   = 0.015\n",
    "sample = 0.8\n",
    "                           \n",
    "All,    Aerrall   = xgb_model_params_types_given_features(X, y, depth, rate, sample, tipus = '' )\n",
    "Awhat,  Aerrwhat  = xgb_model_params_types_given_features(X, y, depth, rate, sample, tipus = 'WHAT' )\n",
    "Awho,   Aerrwho   = xgb_model_params_types_given_features(X, y, depth, rate, sample, tipus = 'WHO'  )\n",
    "Awhere, Aerrwhere = xgb_model_params_types_given_features(X, y, depth, rate, sample, tipus = 'WHERE')\n",
    "\n"
   ]
  },
  {
   "cell_type": "code",
   "execution_count": 150,
   "metadata": {},
   "outputs": [
    {
     "name": "stdout",
     "output_type": "stream",
     "text": [
      "0.3316322203097112\n",
      "0.241157516080626\n",
      "0.29945455247293457\n",
      "0.21044426609479183\n",
      "0.29928975450397377\n",
      "0.241157516080626\n",
      "0.2347759683751387\n",
      "0.17339679608472972\n"
     ]
    }
   ],
   "source": [
    "def xgb_model_params_types_given_features(X, y,features_most_pred_uncorr,  max_depth_ ,learning_rate_, subsample_, tipus = ''):\n",
    "              \n",
    "    X_ = X.drop(columns = [c for c in X.keys()  if tipus not in c]) \n",
    "    X_ = X_.drop(columns = [c for c in X_.keys() if c not in features_most_pred_uncorr])\n",
    "  \n",
    "    train_data, test_data, train_label, test_label =  train_test_split(X_, y, test_size=.33, random_state=42)    \n",
    "          \n",
    "    model2       = xgb.XGBClassifier(n_estimators=100, max_depth=max_depth_, learning_rate=learning_rate_, subsample=subsample_)\n",
    "    train_model2 = model2.fit(train_data, train_label)\n",
    "    pred2        = train_model2.predict(test_data)\n",
    "            \n",
    "    accuracies = list(cross_val_score(train_model2, train_data, train_label, cv=5))       \n",
    "        \n",
    "    print np.mean(accuracies)    \n",
    "    return (np.mean(accuracies), np.std(accuracies))\n",
    "\n",
    "\n",
    "\n",
    "\n",
    "AallS,   AerrallS   = xgb_model_params_types_given_features(X, y, features_most_pred, depth, rate, sample, tipus = '')                       \n",
    "#AwhenS,  AerrwhenS  = xgb_model_params_types_given_features(X, y, features_most_pred, depth, rate, sample, tipus = 'WHEN')\n",
    "AwhatS,  AerrwhatS  = xgb_model_params_types_given_features(X, y, features_most_pred, depth, rate, sample, tipus = 'WHAT')\n",
    "AwhoS,   AerrwhoS   = xgb_model_params_types_given_features(X, y, features_most_pred, depth, rate, sample, tipus = 'WHO')\n",
    "AwhereS, AerrwhereS = xgb_model_params_types_given_features(X, y, features_most_pred, depth, rate, sample, tipus = 'WHERE')\n",
    "\n",
    "AallSc,   AerrallSc   = xgb_model_params_types_given_features(X, y, features_most_pred_uncorr, depth, rate, sample, tipus = '')                       \n",
    "#AwhenSc,  AerrwhenSc  = xgb_model_params_types_given_features(X, y, features_most_pred_uncorr, depth, rate, sample, tipus = 'WHEN')\n",
    "AwhatSc,  AerrwhatSc  = xgb_model_params_types_given_features(X, y, features_most_pred_uncorr, depth, rate, sample, tipus = 'WHAT')\n",
    "AwhoSc,   AerrwhoSc   = xgb_model_params_types_given_features(X, y, features_most_pred_uncorr, depth, rate, sample, tipus = 'WHO')\n",
    "AwhereSc, AerrwhereSc = xgb_model_params_types_given_features(X, y, features_most_pred_uncorr, depth, rate, sample, tipus = 'WHERE')\n"
   ]
  },
  {
   "cell_type": "code",
   "execution_count": 159,
   "metadata": {},
   "outputs": [
    {
     "name": "stdout",
     "output_type": "stream",
     "text": [
      "[0.3039160288963593, 0.24606374162915184, 0.280010446046495, 0.22177265311518943]\n"
     ]
    },
    {
     "data": {
      "image/png": "[encoded data removed]",
      "text/plain": [
       "<Figure size 1080x396 with 3 Axes>"
      ]
     },
     "metadata": {},
     "output_type": "display_data"
    }
   ],
   "source": [
    "f, ax = plt.subplots(1,3,figsize=(15,5.5))\n",
    "\n",
    "names    = ['all', 'where', 'who',  'what']\n",
    "results  = [All,  Awhat, Awho, Awhere]\n",
    "errors   = [Aerrall,  Aerrwhat, Aerrwho, Aerrwhere]\n",
    "\n",
    "results2 = [100*r / (1.0/6.0) - 100 for r in results]\n",
    "errors2  = [results2[i] * errors[i]/results[i]  for i in range(len(results)) ]\n",
    "\n",
    "\n",
    "names, results2, errors2 = zip(*sorted([(names[i], results2[i], errors2[i]) for i in range(len(names))] , key=lambda tup: tup[1], reverse = True))\n",
    "\n",
    "ax[0].set_title('All features', fontsize = 15)\n",
    "ax[0].bar(names, results2, yerr = errors2, width = 0.4)\n",
    "ax[0].set_ylim(0,100)\n",
    "\n",
    "\n",
    "\n",
    "\n",
    "\n",
    "namesS    = ['all', 'where', 'who', 'what']\n",
    "resultsS  = [AallS,  AwhatS, AwhoS, AwhereS]\n",
    "errorsS   = [AerrallS, AerrwhatS, AerrwhoS, AerrwhereS]\n",
    "\n",
    "print results\n",
    "\n",
    "results2S = [100*r / (1.0/6.0) - 100 for r in resultsS]\n",
    "errors2S  = [results2S[i] * errorsS[i]/resultsS[i]  for i in range(len(resultsS)) ]\n",
    "\n",
    "namesS, results2S, errors2S = zip(*sorted([(namesS[i], results2S[i], errors2S[i]) for i in range(len(names))] , key=lambda tup: tup[1], reverse = True))\n",
    "\n",
    "ax[1].set_title('Top features, correlated', fontsize = 15)\n",
    "ax[1].bar(namesS, results2S, yerr = errors2S, width = 0.4)\n",
    "ax[1].set_ylim(0,100)\n",
    "\n",
    "\n",
    "\n",
    "\n",
    "\n",
    "#namesSc    = ['all', 'where', 'who', 'when', 'what']\n",
    "#resultsSc  = [AallSc, AwhenSc, AwhatSc, AwhoSc, AwhereSc]\n",
    "#errorsSc   = [AerrallSc, AerrwhenSc, AerrwhatSc, AerrwhoSc, AerrwhereSc]\n",
    "\n",
    "\n",
    "\n",
    "namesSc    = ['all', 'where', 'who', 'what']\n",
    "resultsSc  = [AallSc,  AwhatSc, AwhoSc, AwhereSc]\n",
    "errorsSc   = [AerrallSc,  AerrwhatSc, AerrwhoSc, AerrwhereSc]\n",
    "\n",
    "\n",
    "results2Sc = [100*r / (1.0/6.0) - 100 for r in resultsSc]\n",
    "errors2Sc  = [results2S[i] * errorsS[i]/resultsS[i]  for i in range(len(resultsSc)) ]\n",
    "\n",
    "namesSc, results2Sc, errors2Sc = zip(*sorted([(namesSc[i], results2Sc[i], errors2Sc[i]) for i in range(len(names))] , key=lambda tup: tup[1], reverse = True))\n",
    "\n",
    "ax[2].set_title('Top features, uncorrelated', fontsize = 15)\n",
    "ax[2].bar(namesSc, results2Sc, yerr = errors2Sc, width = 0.4)\n",
    "ax[2].set_ylim(0,100)\n",
    "plt.tight_layout( rect=[0, 0.05, 1, 0.9])\n",
    "\n",
    "plt.suptitle('6 shape prediction -- relative accuracies with different feature sets', fontsize = 20)\n",
    "plt.savefig('../../../../Dropbox/interns18_venues_success/paper/template-1col/figures/6shapespred1.png')"
   ]
  },
  {
   "cell_type": "code",
   "execution_count": 153,
   "metadata": {},
   "outputs": [
    {
     "name": "stdout",
     "output_type": "stream",
     "text": [
      "('all', 'who', 'where', 'what')\n"
     ]
    },
    {
     "data": {
      "image/png": "[encoded data removed]",
      "text/plain": [
       "<Figure size 1080x324 with 1 Axes>"
      ]
     },
     "metadata": {},
     "output_type": "display_data"
    }
   ],
   "source": [
    "f, ax = plt.subplots(1,1,figsize=(15,4.5))\n",
    "\n",
    "ax.bar(np.arange(len(names)),      results2,   yerr = errors2,   width = 0.2, label = 'all features')\n",
    "ax.bar(np.arange(len(names))+0.2,  results2S,  yerr = errors2S,  width = 0.2, label = 'top predictive, correlated')\n",
    "ax.bar(np.arange(len(names))+0.4,  results2Sc, yerr = errors2Sc, width = 0.2, label = 'top predictive, uncorrelated')\n",
    "ax.legend(loc = 'best')\n",
    "\n",
    "#ax.bar(namesSc+0.8, results2Sc, yerr = errors2Sc, width = 0.4)\n",
    "ax.set_xticklabels(np.arange(len(names))+0.2)\n",
    "ax.set_xticklabels([''] + list(names))\n",
    "plt.suptitle('6 shape prediction accuracies with different feature sets', fontsize = 17)\n",
    "plt.savefig('../../../../Dropbox/interns18_venues_success/paper/template-1col/figures/6shapespred2.png')\n",
    "print names\n",
    "\n",
    "\n"
   ]
  },
  {
   "cell_type": "code",
   "execution_count": 120,
   "metadata": {},
   "outputs": [
    {
     "name": "stdout",
     "output_type": "stream",
     "text": [
      "90.07288184242626 13.207712080273211\n",
      "77.73876172703152 7.057721394318692\n",
      "48.427244024125514 5.01547708457545\n",
      "45.7590062704146 3.9341230780048098\n",
      "39.95851822402142 5.280032341020652\n"
     ]
    }
   ],
   "source": [
    "for i in range(5):\n",
    "    print results2S[i], errors2S[i]"
   ]
  },
  {
   "cell_type": "markdown",
   "metadata": {},
   "source": [
    "# BINARY CLASS"
   ]
  },
  {
   "cell_type": "code",
   "execution_count": 85,
   "metadata": {},
   "outputs": [
    {
     "data": {
      "text/html": [
       "<div>\n",
       "<style scoped>\n",
       "    .dataframe tbody tr th:only-of-type {\n",
       "        vertical-align: middle;\n",
       "    }\n",
       "\n",
       "    .dataframe tbody tr th {\n",
       "        vertical-align: top;\n",
       "    }\n",
       "\n",
       "    .dataframe thead th {\n",
       "        text-align: right;\n",
       "    }\n",
       "</style>\n",
       "<table border=\"1\" class=\"dataframe\">\n",
       "  <thead>\n",
       "    <tr style=\"text-align: right;\">\n",
       "      <th></th>\n",
       "      <th>tipCount</th>\n",
       "      <th>checkinsCount</th>\n",
       "      <th>usersCount</th>\n",
       "      <th>Llikecount</th>\n",
       "    </tr>\n",
       "    <tr>\n",
       "      <th>venue</th>\n",
       "      <th></th>\n",
       "      <th></th>\n",
       "      <th></th>\n",
       "      <th></th>\n",
       "    </tr>\n",
       "  </thead>\n",
       "  <tbody>\n",
       "    <tr>\n",
       "      <th>4a5f9446f964a520e0bf1fe3</th>\n",
       "      <td>75.0</td>\n",
       "      <td>2500.0</td>\n",
       "      <td>1831.0</td>\n",
       "      <td>33.195062</td>\n",
       "    </tr>\n",
       "    <tr>\n",
       "      <th>4abcec53f964a520b98720e3</th>\n",
       "      <td>17.0</td>\n",
       "      <td>1550.0</td>\n",
       "      <td>913.0</td>\n",
       "      <td>16.468388</td>\n",
       "    </tr>\n",
       "    <tr>\n",
       "      <th>4abdc1c7f964a5206d8b20e3</th>\n",
       "      <td>47.0</td>\n",
       "      <td>5573.0</td>\n",
       "      <td>2777.0</td>\n",
       "      <td>91.575568</td>\n",
       "    </tr>\n",
       "    <tr>\n",
       "      <th>4abe4502f964a520558c20e3</th>\n",
       "      <td>575.0</td>\n",
       "      <td>97190.0</td>\n",
       "      <td>80793.0</td>\n",
       "      <td>445.616354</td>\n",
       "    </tr>\n",
       "    <tr>\n",
       "      <th>4abe5714f964a520d68c20e3</th>\n",
       "      <td>54.0</td>\n",
       "      <td>1507.0</td>\n",
       "      <td>1256.0</td>\n",
       "      <td>49.789535</td>\n",
       "    </tr>\n",
       "  </tbody>\n",
       "</table>\n",
       "</div>"
      ],
      "text/plain": [
       "                          tipCount  checkinsCount  usersCount  Llikecount\n",
       "venue                                                                    \n",
       "4a5f9446f964a520e0bf1fe3      75.0         2500.0      1831.0   33.195062\n",
       "4abcec53f964a520b98720e3      17.0         1550.0       913.0   16.468388\n",
       "4abdc1c7f964a5206d8b20e3      47.0         5573.0      2777.0   91.575568\n",
       "4abe4502f964a520558c20e3     575.0        97190.0     80793.0  445.616354\n",
       "4abe5714f964a520d68c20e3      54.0         1507.0      1256.0   49.789535"
      ]
     },
     "execution_count": 85,
     "metadata": {},
     "output_type": "execute_result"
    }
   ],
   "source": [
    "city        = 'london'\n",
    "datafile    = 'FINAL_DATA'\n",
    "successdata = datafile + '/london_venues_success_measures.csv'\n",
    "venues      = [line.strip() for line in open(datafile + '/senior_venues_lists.dat')]\n",
    "\n",
    "success  = pd.read_csv(successdata, sep = '\\t', index_col = 0)\n",
    "success  = success[~success.index.duplicated(keep='first')]   \n",
    "success  = success[success.index.isin(venues)]\n",
    "\n",
    "successdata_L = datafile + '/london_venues_success_measures_local_like.csv'\n",
    "success_L     = pd.read_csv(successdata_L, sep = '\\t', index_col = 0)\n",
    "success_L     = success_L[~success_L.index.duplicated(keep='first')]   \n",
    "success       = success.join(success_L)\n",
    "\n",
    "success.index.name = 'venue'\n",
    "\n",
    "success.head()   "
   ]
  },
  {
   "cell_type": "code",
   "execution_count": 86,
   "metadata": {},
   "outputs": [],
   "source": [
    "def get_success_Qs(segments, success, measure, randomized = False):\n",
    "\n",
    "    if randomized: \n",
    "        np.random.shuffle(success[measure])\n",
    "        \n",
    "    labels = ['q' + str(i+1) for i in range(segments)]    \n",
    "        \n",
    "    success['quartile'] = pd.qcut(success[measure], segments, labels)\n",
    "    Q1 = list(success[success['quartile'] == labels[0]].index)\n",
    "    Q4 = list(success[success['quartile'] == labels[-1]].index)\n",
    "\n",
    "    \n",
    "    return Q4, Q1, success\n",
    "\n",
    "VenuesTop, VenuesBottom, success = get_success_Qs(4, success, 'Llikecount', randomized = False)\n",
    "\n"
   ]
  },
  {
   "cell_type": "code",
   "execution_count": 87,
   "metadata": {},
   "outputs": [],
   "source": [
    "features_VenuesTop    = features3[features3.index.isin(VenuesTop)]\n",
    "features_VenuesBottom = features3[features3.index.isin(VenuesBottom)]\n",
    "\n",
    "features_VenuesTop['success']    = 1\n",
    "features_VenuesBottom['success'] = 0\n",
    "\n",
    "X = features_VenuesTop.append(features_VenuesBottom)\n",
    "y = np.asarray(X.success)\n",
    "X = X.drop(columns = ['success'])\n",
    "\n",
    "X = X.round(3)\n"
   ]
  },
  {
   "cell_type": "code",
   "execution_count": 92,
   "metadata": {},
   "outputs": [
    {
     "name": "stdout",
     "output_type": "stream",
     "text": [
      "109\n",
      "[0.93421053 0.92       0.89333333 0.93333333 0.93243243]\n"
     ]
    }
   ],
   "source": [
    "def classifiers_types(X, y, tipus = '', randomize = False):\n",
    "   \n",
    "    X_ = X.drop(columns = [c for c in X.keys() if tipus not in c])\n",
    "\n",
    "    print len(X_.keys())\n",
    "    classifier = RandomForestClassifier(max_depth=5, n_estimators=100, max_features='auto') \n",
    "    X_train, X_test, y_train, y_test =  train_test_split(X_, y, test_size=.33, random_state=42)\n",
    "\n",
    "    classifier.fit(X_train, y_train)\n",
    "    score      = classifier.score(X_test, y_test)\n",
    "    accuracies = cross_val_score(classifier, X_train, y_train, cv=5)\n",
    "    \n",
    "    if tipus == '':\n",
    "        tipus = 'ALL'\n",
    "\n",
    "\n",
    "    \n",
    "    return  np.mean(accuracies), np.std(accuracies)\n",
    "        \n",
    "\n",
    "allf,  allf_err   = classifiers_types(XNEW, yNEW, tipus = '',      randomize = False)    \n",
    "#when,  when_err   = classifiers_types(XNEW, yNEW, tipus = 'WHEN',  randomize = False)\n",
    "#who,   who_err    = classifiers_types(XNEW, yNEW, tipus = 'WHO',   randomize = False)\n",
    "#where, where_err  = classifiers_types(XNEW, yNEW, tipus = 'WHERE', randomize = False)\n",
    "#what,  what_err   = classifiers_types(XNEW, yNEW, tipus = 'WHAT',  randomize = False)\n",
    "#\n",
    "results = [allf,     when,     who,     where,     what]\n",
    "errors  = [allf_err, when_err, who_err, where_err, what_err]"
   ]
  },
  {
   "cell_type": "code",
   "execution_count": 89,
   "metadata": {},
   "outputs": [
    {
     "name": "stdout",
     "output_type": "stream",
     "text": [
      "16\n",
      "ALL 0.010085178681818819\n",
      "2\n",
      "WHEN 0.03386061130335582\n",
      "6\n",
      "WHO 0.02585385304394113\n",
      "6\n",
      "WHERE 0.07620481689625966\n",
      "2\n",
      "WHAT 0.04856998497257255\n"
     ]
    }
   ],
   "source": [
    "def classifiers_types(X, y, features, tipus = '', randomize = False):\n",
    "   \n",
    "    X_ = X.drop(columns = [c for c in X.keys() if tipus not in c])\n",
    "    X_ = X_.drop(columns = [c for c in X_.keys() if c not in features])\n",
    "    \n",
    "    print len(X_.keys())\n",
    "    classifier = RandomForestClassifier(max_depth=5, n_estimators=100, max_features='auto') \n",
    "    X_train, X_test, y_train, y_test =  train_test_split(X_, y, test_size=.33, random_state=42)\n",
    "\n",
    "    classifier.fit(X_train, y_train)\n",
    "    score = classifier.score(X_test, y_test)\n",
    "    accuracies = cross_val_score(classifier, X_train, y_train, cv=5)\n",
    "    \n",
    "    if tipus == '':\n",
    "        tipus = 'ALL'\n",
    "\n",
    "    print tipus,  np.std(accuracies)\n",
    "        \n",
    "    return  np.mean(accuracies), np.std(accuracies)\n",
    "        \n",
    "\n",
    "allfS,  allf_errS   = classifiers_types(X, y, features_most_pred, tipus = '',      randomize = False)    \n",
    "whenS,  when_errS   = classifiers_types(X, y, features_most_pred, tipus = 'WHEN',  randomize = False)\n",
    "whoS,   who_errS    = classifiers_types(X, y, features_most_pred, tipus = 'WHO',   randomize = False)\n",
    "whereS, where_errS  = classifiers_types(X, y, features_most_pred, tipus = 'WHERE', randomize = False)\n",
    "whatS,  what_errS   = classifiers_types(X, y, features_most_pred, tipus = 'WHAT',  randomize = False)\n",
    "\n",
    "\n",
    "resultsS = [allfS,     whenS,     whoS,     whereS,     whatS]\n",
    "errorsS  = [allf_errS, when_errS, who_errS, where_errS, what_errS]"
   ]
  },
  {
   "cell_type": "code",
   "execution_count": 90,
   "metadata": {},
   "outputs": [
    {
     "name": "stdout",
     "output_type": "stream",
     "text": [
      "11\n",
      "ALL 0.005337126600284527\n",
      "2\n",
      "WHEN 0.03440530273007723\n",
      "4\n",
      "WHO 0.027461104914585616\n",
      "3\n",
      "WHERE 0.06146491197664739\n",
      "2\n",
      "WHAT 0.04554632252850393\n"
     ]
    }
   ],
   "source": [
    "allfSc,  allf_errSc   = classifiers_types(X, y, features_most_pred_uncorr, tipus = '',      randomize = False)    \n",
    "whenSc,  when_errSc   = classifiers_types(X, y, features_most_pred_uncorr, tipus = 'WHEN',  randomize = False)\n",
    "whoSc,   who_errSc    = classifiers_types(X, y, features_most_pred_uncorr, tipus = 'WHO',   randomize = False)\n",
    "whereSc, where_errSc  = classifiers_types(X, y, features_most_pred_uncorr, tipus = 'WHERE', randomize = False)\n",
    "whatSc,  what_errSc   = classifiers_types(X, y, features_most_pred_uncorr, tipus = 'WHAT',  randomize = False)\n",
    "\n",
    "resultsSc = [allfSc,     whenSc,     whoSc,     whereSc,     whatSc]\n",
    "errorsSc  = [allf_errSc, when_errSc, who_errSc, where_errSc, what_errSc]"
   ]
  },
  {
   "cell_type": "code",
   "execution_count": 94,
   "metadata": {},
   "outputs": [
    {
     "name": "stdout",
     "output_type": "stream",
     "text": [
      "['all', 'where', 'who', 'when', 'what']\n"
     ]
    },
    {
     "data": {
      "image/png": "[encoded data removed]",
      "text/plain": [
       "<Figure size 1080x324 with 1 Axes>"
      ]
     },
     "metadata": {},
     "output_type": "display_data"
    }
   ],
   "source": [
    "f, ax = plt.subplots(1,1,figsize=(15,4.5))\n",
    "\n",
    "ax.bar(np.arange(len(names)),      results,   yerr = errors,   width = 0.2, label = 'all features')\n",
    "ax.bar(np.arange(len(names))+0.2,  resultsS,  yerr = errorsS,  width = 0.2, label = 'top predictive, correlated')\n",
    "ax.bar(np.arange(len(names))+0.4,  resultsSc, yerr = errorsSc, width = 0.2, label = 'top predictive, uncorrelated')\n",
    "ax.set_ylim([0.5,1.0])\n",
    "\n",
    "#ax.bar(namesSc+0.8, results2Sc, yerr = errors2Sc, width = 0.4)\n",
    "ax.set_xticklabels(np.arange(len(names))+0.2)\n",
    "ax.set_xticklabels([''] + list(names))\n",
    "plt.suptitle('Binary success prediction accuracies with different feature sets', fontsize = 17)\n",
    "plt.savefig('../../../../Dropbox/interns18_venues_success/paper/template-1col/figures/binarypred.png')\n",
    "print names"
   ]
  },
  {
   "cell_type": "markdown",
   "metadata": {},
   "source": [
    "# Save data"
   ]
  },
  {
   "cell_type": "code",
   "execution_count": 136,
   "metadata": {},
   "outputs": [
    {
     "data": {
      "text/html": [
       "<div>\n",
       "<style scoped>\n",
       "    .dataframe tbody tr th:only-of-type {\n",
       "        vertical-align: middle;\n",
       "    }\n",
       "\n",
       "    .dataframe tbody tr th {\n",
       "        vertical-align: top;\n",
       "    }\n",
       "\n",
       "    .dataframe thead th {\n",
       "        text-align: right;\n",
       "    }\n",
       "</style>\n",
       "<table border=\"1\" class=\"dataframe\">\n",
       "  <thead>\n",
       "    <tr style=\"text-align: right;\">\n",
       "      <th></th>\n",
       "      <th>lng</th>\n",
       "      <th>lat</th>\n",
       "      <th>ward</th>\n",
       "      <th>lng0</th>\n",
       "      <th>lat0</th>\n",
       "      <th>lng1</th>\n",
       "      <th>lat1</th>\n",
       "      <th>length</th>\n",
       "      <th>area</th>\n",
       "    </tr>\n",
       "    <tr>\n",
       "      <th>venue</th>\n",
       "      <th></th>\n",
       "      <th></th>\n",
       "      <th></th>\n",
       "      <th></th>\n",
       "      <th></th>\n",
       "      <th></th>\n",
       "      <th></th>\n",
       "      <th></th>\n",
       "      <th></th>\n",
       "    </tr>\n",
       "  </thead>\n",
       "  <tbody>\n",
       "    <tr>\n",
       "      <th>4ed012c26c2510ace08f6196</th>\n",
       "      <td>-0.148227</td>\n",
       "      <td>51.506406</td>\n",
       "      <td>E05000649</td>\n",
       "      <td>-0.158366</td>\n",
       "      <td>51.501861</td>\n",
       "      <td>-0.128997</td>\n",
       "      <td>51.520817</td>\n",
       "      <td>0.085100</td>\n",
       "      <td>0.000259</td>\n",
       "    </tr>\n",
       "    <tr>\n",
       "      <th>5131bfc3e4b021182eb750c3</th>\n",
       "      <td>-0.116914</td>\n",
       "      <td>51.540017</td>\n",
       "      <td>E05000368</td>\n",
       "      <td>-0.126362</td>\n",
       "      <td>51.530726</td>\n",
       "      <td>-0.110892</td>\n",
       "      <td>51.548216</td>\n",
       "      <td>0.057344</td>\n",
       "      <td>0.000147</td>\n",
       "    </tr>\n",
       "    <tr>\n",
       "      <th>54075d1f498e92eeef450c56</th>\n",
       "      <td>-0.134685</td>\n",
       "      <td>51.513940</td>\n",
       "      <td>E05000649</td>\n",
       "      <td>-0.158366</td>\n",
       "      <td>51.501861</td>\n",
       "      <td>-0.128997</td>\n",
       "      <td>51.520817</td>\n",
       "      <td>0.085100</td>\n",
       "      <td>0.000259</td>\n",
       "    </tr>\n",
       "    <tr>\n",
       "      <th>5214b8fb11d2f8576bfde883</th>\n",
       "      <td>-0.097689</td>\n",
       "      <td>51.373167</td>\n",
       "      <td>E05000153</td>\n",
       "      <td>-0.107011</td>\n",
       "      <td>51.362173</td>\n",
       "      <td>-0.063469</td>\n",
       "      <td>51.382757</td>\n",
       "      <td>0.130389</td>\n",
       "      <td>0.000487</td>\n",
       "    </tr>\n",
       "    <tr>\n",
       "      <th>5260ef75498eda1e8cbc86b2</th>\n",
       "      <td>-0.117076</td>\n",
       "      <td>51.518833</td>\n",
       "      <td>E05000138</td>\n",
       "      <td>-0.130472</td>\n",
       "      <td>51.512652</td>\n",
       "      <td>-0.105350</td>\n",
       "      <td>51.525517</td>\n",
       "      <td>0.073794</td>\n",
       "      <td>0.000155</td>\n",
       "    </tr>\n",
       "  </tbody>\n",
       "</table>\n",
       "</div>"
      ],
      "text/plain": [
       "                               lng        lat       ward      lng0       lat0  \\\n",
       "venue                                                                           \n",
       "4ed012c26c2510ace08f6196 -0.148227  51.506406  E05000649 -0.158366  51.501861   \n",
       "5131bfc3e4b021182eb750c3 -0.116914  51.540017  E05000368 -0.126362  51.530726   \n",
       "54075d1f498e92eeef450c56 -0.134685  51.513940  E05000649 -0.158366  51.501861   \n",
       "5214b8fb11d2f8576bfde883 -0.097689  51.373167  E05000153 -0.107011  51.362173   \n",
       "5260ef75498eda1e8cbc86b2 -0.117076  51.518833  E05000138 -0.130472  51.512652   \n",
       "\n",
       "                              lng1       lat1    length      area  \n",
       "venue                                                              \n",
       "4ed012c26c2510ace08f6196 -0.128997  51.520817  0.085100  0.000259  \n",
       "5131bfc3e4b021182eb750c3 -0.110892  51.548216  0.057344  0.000147  \n",
       "54075d1f498e92eeef450c56 -0.128997  51.520817  0.085100  0.000259  \n",
       "5214b8fb11d2f8576bfde883 -0.063469  51.382757  0.130389  0.000487  \n",
       "5260ef75498eda1e8cbc86b2 -0.105350  51.525517  0.073794  0.000155  "
      ]
     },
     "execution_count": 136,
     "metadata": {},
     "output_type": "execute_result"
    }
   ],
   "source": [
    "venues_locations = pd.read_csv('../../ProcessedData/london/venues_info/venues_ward_full.dat', sep = '\\t', index_col = 0)\n",
    "\n",
    "venues_locations.head()\n",
    "\n"
   ]
  },
  {
   "cell_type": "code",
   "execution_count": 179,
   "metadata": {},
   "outputs": [],
   "source": [
    "features_save = features2.drop(columns = [c for c in features2.head().keys() if c not in features_most_pred_uncorr + ['LABEL_category']])\n",
    "features_save.LABEL_category = features_save.LABEL_category.map(clustersids)\n",
    "features_save = features_save.merge(venues_locations, right_index = True, left_index = True)\n",
    "features_save = features_save.drop(columns = [\"lng0\", 'lng1', 'lat0', 'lat1', 'length', 'area', 'WHAT_venue_cat'])\n",
    "\n",
    "\n"
   ]
  },
  {
   "cell_type": "code",
   "execution_count": null,
   "metadata": {},
   "outputs": [],
   "source": []
  },
  {
   "cell_type": "code",
   "execution_count": 19,
   "metadata": {},
   "outputs": [],
   "source": [
    "venues_cats = {}\n",
    "venues_subcats = {}\n",
    "\n",
    "for ind, line in enumerate(open('../../ProcessedData/london/venues_info/venues_all_categories_times.dat')):\n",
    "    \n",
    "    field  = line.strip().split('\\t')\n",
    "    venue  = field[1]\n",
    "    cat    = field[2]\n",
    "    subcat = field[3]\n",
    "    \n",
    "    venues_cats[venue]    = cat\n",
    "    venues_subcats[venue] = subcat\n",
    "\n",
    "df_cat = pd.DataFrame(venues_cats.items())  \n",
    "df_cat = df_cat.rename(columns = {0 : 'venue', 1 : 'WHAT_category'})\n",
    "df_cat.index = df_cat['venue']\n",
    "df_cat = df_cat.drop(columns = ['venue'])\n",
    "\n",
    "\n",
    "\n",
    "df_subcat = pd.DataFrame(venues_subcats.items())  \n",
    "df_subcat = df_subcat.rename(columns = {0 : 'venue', 1 : 'subcategory'})\n",
    "df_subcat.index = df_subcat['venue']\n",
    "df_subcat = df_subcat.drop(columns = ['venue'])\n",
    "\n",
    "df_cats = df_cat.merge(df_subcat, right_index = True, left_index = True)"
   ]
  },
  {
   "cell_type": "code",
   "execution_count": 191,
   "metadata": {},
   "outputs": [],
   "source": [
    "features_save = features_save.merge(df_cats, right_index = True, left_index = True).drop_duplicates()"
   ]
  },
  {
   "cell_type": "code",
   "execution_count": null,
   "metadata": {},
   "outputs": [],
   "source": []
  },
  {
   "cell_type": "code",
   "execution_count": 177,
   "metadata": {},
   "outputs": [
    {
     "data": {
      "text/plain": [
       "8183"
      ]
     },
     "execution_count": 177,
     "metadata": {},
     "output_type": "execute_result"
    }
   ],
   "source": [
    "venues_dist = {}\n",
    "for cluster in clusters:\n",
    "    clusters_venues[cluster] = []\n",
    "    for ind, line in enumerate(open(outfolder + '/sorted_dist/sorted_dist_venues_in_' + cluster + '.dat')):\n",
    "        venue, dist = line.strip().split('\\t')\n",
    "        venues_dist[venue] = dist\n",
    "        \n",
    "df_dist = pd.DataFrame(venues_dist.items())\n",
    "df_dist = df_dist.rename(columns = {0 : 'venue', 1 : 'DTW_distance'})\n",
    "df_dist.index = df_dist['venue']\n",
    "df_dist = df_dist.drop(columns = ['venue'])\n",
    "df_dist.head()"
   ]
  },
  {
   "cell_type": "code",
   "execution_count": 198,
   "metadata": {},
   "outputs": [
    {
     "data": {
      "text/plain": [
       "(7951, 18)"
      ]
     },
     "execution_count": 198,
     "metadata": {},
     "output_type": "execute_result"
    }
   ],
   "source": [
    "features_save = features_save.merge(df_dist, right_index = True, left_index = True) \n",
    "features_save = features_save.drop(columns = ['WHAT_category_y', 'subcategory_y', 'DTW_distance_y'])\n",
    "features_save = features_save.rename(columns = {'DTW_distance_x' : 'DTW_distance', 'WHAT_category_x' : 'WHAT_category',  'subcategory_x' : 'subcategory'})\n",
    "features_save = features_save.dropna()\n",
    "\n",
    "features_save.head()\n",
    "\n",
    "len(features_save), len(features_save.keys())\n"
   ]
  },
  {
   "cell_type": "code",
   "execution_count": 200,
   "metadata": {},
   "outputs": [],
   "source": [
    "features_save.to_csv('../../../../Dropbox/interns18_venues_success/data/sixshapes/feature_data.csv', sep = '\\t')"
   ]
  },
  {
   "cell_type": "code",
   "execution_count": null,
   "metadata": {},
   "outputs": [],
   "source": []
  }
 ],
 "metadata": {
  "kernelspec": {
   "display_name": "Python 2",
   "language": "python",
   "name": "python2"
  },
  "language_info": {
   "codemirror_mode": {
    "name": "ipython",
    "version": 2
   },
   "file_extension": ".py",
   "mimetype": "text/x-python",
   "name": "python",
   "nbconvert_exporter": "python",
   "pygments_lexer": "ipython2",
   "version": "2.7.12"
  }
 },
 "nbformat": 4,
 "nbformat_minor": 2
}
