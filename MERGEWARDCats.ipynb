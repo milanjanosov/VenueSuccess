city      = 'london'
outfolder = '../ProcessedData/' + city + '/'
from collections import Counter
import math
import pandas as pd



