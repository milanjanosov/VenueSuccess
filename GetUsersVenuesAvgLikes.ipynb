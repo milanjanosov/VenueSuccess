{
 "cells": [
  {
   "cell_type": "code",
   "execution_count": 48,
   "metadata": {},
   "outputs": [],
   "source": [
    "import os\n",
    "import numpy as np\n",
    "import pandas as pd\n",
    "import scipy.stats as stat\n",
    "\n",
    "city        = 'london'\n",
    "outfolder   = '../ProcessedData/' + city + '/'"
   ]
  },
  {
   "cell_type": "code",
   "execution_count": 3,
   "metadata": {},
   "outputs": [],
   "source": [
    "venues_users = {}\n",
    "for ind, line in enumerate(open(outfolder + '/venues_info/london_venues_users.dat')):\n",
    "    #if ind == 100: break\n",
    "    fields = line.strip().split('\\t')\n",
    "    venue = fields[0]\n",
    "    users = fields[1:] \n",
    "    venues_users[venue] = users"
   ]
  },
  {
   "cell_type": "code",
   "execution_count": 5,
   "metadata": {},
   "outputs": [
    {
     "name": "stdout",
     "output_type": "stream",
     "text": [
      "101771\n"
     ]
    }
   ],
   "source": [
    "users_venues = {}\n",
    "\n",
    "for ind, line in enumerate(open(outfolder + 'user_info/london_user_venues_full_locals_filtered.dat')):\n",
    "    #if ind == 100: break\n",
    "    fields = line.strip().split('\\t')\n",
    "    user   = fields[0]\n",
    "    venues = [fff.split(',')[0] for fff in fields[1:]]\n",
    "    users_venues[user] = venues\n",
    "    \n",
    "print len(users_venues)"
   ]
  },
  {
   "cell_type": "code",
   "execution_count": 10,
   "metadata": {},
   "outputs": [
    {
     "name": "stdout",
     "output_type": "stream",
     "text": [
      "101771\n",
      "1074517\n"
     ]
    }
   ],
   "source": [
    "print len(users_venues)\n",
    "print len(venues_users)"
   ]
  },
  {
   "cell_type": "code",
   "execution_count": 35,
   "metadata": {},
   "outputs": [],
   "source": [
    "city          = 'london'\n",
    "outfolder     = '../ProcessedData/' + city + '/'\n",
    "successdata   = outfolder + 'venues_info/' + city + '_venues_success_measures.csv'\n",
    "successdata_L = outfolder + 'venues_info/' + city + '_venues_success_measures_local_like.csv'\n",
    "\n",
    "#successmeasures     = {}\n",
    "for line in open(successdata):\n",
    "    if 'checkinsCount' not in line:\n",
    "        fields = line.strip().split('\\t')\n",
    "        successmeasures[fields[0]] = [float(fff) for fff in fields[1:]]\n",
    "\n",
    "for line in open(successdata_L):\n",
    "    if 'Llike' not in line:\n",
    "        fields = line.strip().split('\\t')\n",
    "        successmeasures[fields[0]].append(float(fields[1]))\n",
    "        \n",
    "for k, v in successmeasures.items():\n",
    "    if len(v) == 3:\n",
    "        successmeasures[k].append(0.0)"
   ]
  },
  {
   "cell_type": "code",
   "execution_count": 36,
   "metadata": {},
   "outputs": [
    {
     "name": "stdout",
     "output_type": "stream",
     "text": [
      "0 4fb2d653e4b0886effe1aa86 [1.0, 6.0, 1.0, 0.0]\n",
      "1 51e72fb78bbd22a2ac38a4d5 [0.0, 3.0, 3.0, 1.44316673930647]\n",
      "2 4dde1ba7227106a58b839c56 [0.0, 40.0, 13.0, 0.0]\n",
      "3 4cbadba60180721e6d5e9c61 [1.0, 418.0, 59.0, 0.8824184397531647]\n",
      "4 4cf4079088de3704cb80822b [1.0, 44.0, 11.0, 0.0]\n",
      "5 4beec861e24d20a121587314 [1.0, 45.0, 37.0, 0.8696102805667949]\n",
      "6 52e77b7e498e93f4116873b7 [0.0, 23.0, 2.0, 0.0]\n",
      "7 4fb14b50e4b0c546fb6cd55e [0.0, 12.0, 10.0, 0.0]\n",
      "8 4ac518daf964a520c9a820e3 [26.0, 2357.0, 1942.0, 25.01860489138895]\n",
      "9 4bbb8c3f51b89c743a5a862a [2.0, 618.0, 105.0, 1.0602742878345426]\n"
     ]
    }
   ],
   "source": [
    "for ind, (k, v) in enumerate(successmeasures.items()):\n",
    "    if ind == 10: break\n",
    "        \n",
    "    print ind, k, v"
   ]
  },
  {
   "cell_type": "code",
   "execution_count": 28,
   "metadata": {},
   "outputs": [
    {
     "data": {
      "text/plain": [
       "101178"
      ]
     },
     "execution_count": 28,
     "metadata": {},
     "output_type": "execute_result"
    }
   ],
   "source": [
    "len(successmeasures)"
   ]
  },
  {
   "cell_type": "code",
   "execution_count": 68,
   "metadata": {},
   "outputs": [],
   "source": [
    "users_successmeasures = {}\n",
    "\n",
    "for ind, (user, venues) in enumerate(users_venues.items()):\n",
    "    #if ind == 10: break\n",
    "    for v in venues:\n",
    "        if v in successmeasures:            \n",
    "            if user not in users_successmeasures:\n",
    "                users_successmeasures[user] = {}\n",
    "                users_successmeasures[user]['tipCount']      = [successmeasures[v][0]]\n",
    "                users_successmeasures[user]['checkinsCount'] = [successmeasures[v][1]]\n",
    "                users_successmeasures[user]['usersCount']    = [successmeasures[v][2]]\n",
    "                users_successmeasures[user]['lLondonLike']   = [successmeasures[v][3]]\n",
    "            else:\n",
    "                users_successmeasures[user]['tipCount'].append(successmeasures[v][0])\n",
    "                users_successmeasures[user]['checkinsCount'].append(successmeasures[v][1])\n",
    "                users_successmeasures[user]['usersCount'].append(successmeasures[v][2])\n",
    "                users_successmeasures[user]['lLondonLike'].append(successmeasures[v][3])"
   ]
  },
  {
   "cell_type": "code",
   "execution_count": null,
   "metadata": {},
   "outputs": [],
   "source": []
  },
  {
   "cell_type": "code",
   "execution_count": 69,
   "metadata": {},
   "outputs": [],
   "source": [
    "users_success_stats = {}\n",
    "\n",
    "for user, measures in users_successmeasures.items():\n",
    "    \n",
    "    users_success_stats[user] = {}\n",
    "    \n",
    "    for measure, values in measures.items():   \n",
    "        users_success_stats[user][measure + '_avg']     = np.mean(values)\n",
    "        users_success_stats[user][measure + '_std']     = np.std(values)\n",
    "        users_success_stats[user][measure + '_entropy'] = stat.entropy(np.asarray(values), base = len(values))\n",
    "\n",
    "     "
   ]
  },
  {
   "cell_type": "code",
   "execution_count": 71,
   "metadata": {},
   "outputs": [
    {
     "data": {
      "text/html": [
       "<div>\n",
       "<style scoped>\n",
       "    .dataframe tbody tr th:only-of-type {\n",
       "        vertical-align: middle;\n",
       "    }\n",
       "\n",
       "    .dataframe tbody tr th {\n",
       "        vertical-align: top;\n",
       "    }\n",
       "\n",
       "    .dataframe thead th {\n",
       "        text-align: right;\n",
       "    }\n",
       "</style>\n",
       "<table border=\"1\" class=\"dataframe\">\n",
       "  <thead>\n",
       "    <tr style=\"text-align: right;\">\n",
       "      <th></th>\n",
       "      <th>tipCount_avg</th>\n",
       "      <th>tipCount_std</th>\n",
       "      <th>lLondonLike_std</th>\n",
       "      <th>usersCount_avg</th>\n",
       "      <th>lLondonLike_entropy</th>\n",
       "      <th>checkinsCount_avg</th>\n",
       "      <th>usersCount_std</th>\n",
       "      <th>usersCount_entropy</th>\n",
       "      <th>checkinsCount_entropy</th>\n",
       "      <th>checkinsCount_std</th>\n",
       "      <th>tipCount_entropy</th>\n",
       "      <th>lLondonLike_avg</th>\n",
       "    </tr>\n",
       "  </thead>\n",
       "  <tbody>\n",
       "    <tr>\n",
       "      <th>100001187</th>\n",
       "      <td>185.833333</td>\n",
       "      <td>202.383231</td>\n",
       "      <td>254.951143</td>\n",
       "      <td>22614.083333</td>\n",
       "      <td>0.768071</td>\n",
       "      <td>28607.750000</td>\n",
       "      <td>25429.369252</td>\n",
       "      <td>0.741642</td>\n",
       "      <td>0.763361</td>\n",
       "      <td>30362.940515</td>\n",
       "      <td>0.756986</td>\n",
       "      <td>245.626948</td>\n",
       "    </tr>\n",
       "    <tr>\n",
       "      <th>100002121</th>\n",
       "      <td>62.000000</td>\n",
       "      <td>0.000000</td>\n",
       "      <td>0.000000</td>\n",
       "      <td>2429.000000</td>\n",
       "      <td>0.000000</td>\n",
       "      <td>4883.000000</td>\n",
       "      <td>0.000000</td>\n",
       "      <td>0.000000</td>\n",
       "      <td>0.000000</td>\n",
       "      <td>0.000000</td>\n",
       "      <td>0.000000</td>\n",
       "      <td>55.962459</td>\n",
       "    </tr>\n",
       "    <tr>\n",
       "      <th>10000216</th>\n",
       "      <td>350.000000</td>\n",
       "      <td>366.432349</td>\n",
       "      <td>195.147069</td>\n",
       "      <td>37367.666667</td>\n",
       "      <td>0.662945</td>\n",
       "      <td>52601.333333</td>\n",
       "      <td>35383.966278</td>\n",
       "      <td>0.613079</td>\n",
       "      <td>0.771035</td>\n",
       "      <td>38791.882917</td>\n",
       "      <td>0.497830</td>\n",
       "      <td>245.713340</td>\n",
       "    </tr>\n",
       "    <tr>\n",
       "      <th>10000221</th>\n",
       "      <td>26.000000</td>\n",
       "      <td>0.000000</td>\n",
       "      <td>0.000000</td>\n",
       "      <td>1435.000000</td>\n",
       "      <td>0.000000</td>\n",
       "      <td>2896.000000</td>\n",
       "      <td>0.000000</td>\n",
       "      <td>0.000000</td>\n",
       "      <td>0.000000</td>\n",
       "      <td>0.000000</td>\n",
       "      <td>0.000000</td>\n",
       "      <td>8.786776</td>\n",
       "    </tr>\n",
       "    <tr>\n",
       "      <th>100006753</th>\n",
       "      <td>30.000000</td>\n",
       "      <td>0.000000</td>\n",
       "      <td>0.000000</td>\n",
       "      <td>1788.000000</td>\n",
       "      <td>0.000000</td>\n",
       "      <td>2403.000000</td>\n",
       "      <td>0.000000</td>\n",
       "      <td>0.000000</td>\n",
       "      <td>0.000000</td>\n",
       "      <td>0.000000</td>\n",
       "      <td>0.000000</td>\n",
       "      <td>22.498092</td>\n",
       "    </tr>\n",
       "  </tbody>\n",
       "</table>\n",
       "</div>"
      ],
      "text/plain": [
       "           tipCount_avg  tipCount_std  lLondonLike_std  usersCount_avg  \\\n",
       "100001187    185.833333    202.383231       254.951143    22614.083333   \n",
       "100002121     62.000000      0.000000         0.000000     2429.000000   \n",
       "10000216     350.000000    366.432349       195.147069    37367.666667   \n",
       "10000221      26.000000      0.000000         0.000000     1435.000000   \n",
       "100006753     30.000000      0.000000         0.000000     1788.000000   \n",
       "\n",
       "           lLondonLike_entropy  checkinsCount_avg  usersCount_std  \\\n",
       "100001187             0.768071       28607.750000    25429.369252   \n",
       "100002121             0.000000        4883.000000        0.000000   \n",
       "10000216              0.662945       52601.333333    35383.966278   \n",
       "10000221              0.000000        2896.000000        0.000000   \n",
       "100006753             0.000000        2403.000000        0.000000   \n",
       "\n",
       "           usersCount_entropy  checkinsCount_entropy  checkinsCount_std  \\\n",
       "100001187            0.741642               0.763361       30362.940515   \n",
       "100002121            0.000000               0.000000           0.000000   \n",
       "10000216             0.613079               0.771035       38791.882917   \n",
       "10000221             0.000000               0.000000           0.000000   \n",
       "100006753            0.000000               0.000000           0.000000   \n",
       "\n",
       "           tipCount_entropy  lLondonLike_avg  \n",
       "100001187          0.756986       245.626948  \n",
       "100002121          0.000000        55.962459  \n",
       "10000216           0.497830       245.713340  \n",
       "10000221           0.000000         8.786776  \n",
       "100006753          0.000000        22.498092  "
      ]
     },
     "execution_count": 71,
     "metadata": {},
     "output_type": "execute_result"
    }
   ],
   "source": [
    "\n",
    "df = pd.DataFrame.from_dict(users_success_stats, orient = 'index') \n",
    "df = df.fillna(0)\n",
    "df.to_csv(outfolder + '/venues_info/USERS_likes_successmeas.dat', na_rep='nan')\n",
    "df.head()"
   ]
  },
  {
   "cell_type": "code",
   "execution_count": 72,
   "metadata": {},
   "outputs": [
    {
     "data": {
      "text/plain": [
       "(98634, 12)"
      ]
     },
     "execution_count": 72,
     "metadata": {},
     "output_type": "execute_result"
    }
   ],
   "source": [
    "len(df), len(df.keys())"
   ]
  },
  {
   "cell_type": "code",
   "execution_count": null,
   "metadata": {},
   "outputs": [],
   "source": []
  }
 ],
 "metadata": {
  "kernelspec": {
   "display_name": "Python 2",
   "language": "python",
   "name": "python2"
  },
  "language_info": {
   "codemirror_mode": {
    "name": "ipython",
    "version": 2
   },
   "file_extension": ".py",
   "mimetype": "text/x-python",
   "name": "python",
   "nbconvert_exporter": "python",
   "pygments_lexer": "ipython2",
   "version": "2.7.12"
  }
 },
 "nbformat": 4,
 "nbformat_minor": 2
}
