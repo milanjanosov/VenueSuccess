{
 "cells": [
  {
   "cell_type": "code",
   "execution_count": 1,
   "metadata": {},
   "outputs": [],
   "source": [
    "import pandas as pd\n",
    "import geopandas as gpd\n",
    "import numpy as np\n",
    "import time \n",
    "import os\n",
    "import math\n",
    "from ParseJsons import check_box\n",
    "from multiprocessing import Process\n",
    "from sklearn import preprocessing\n",
    "from sklearn.preprocessing import StandardScaler\n",
    "from geopandas.geoseries import Point\n",
    "import warnings\n",
    "warnings.filterwarnings(action=\"ignore\", module=\"scipy\", message=\"^internal gelsd\")\n",
    "import matplotlib.pyplot as plt\n",
    "import numpy as np\n",
    "plt.rcParams['figure.dpi'] = 100\n",
    "% matplotlib inline\n"
   ]
  },
  {
   "cell_type": "markdown",
   "metadata": {},
   "source": [
    "# PARSING DATA FOR REGRESSION"
   ]
  },
  {
   "cell_type": "markdown",
   "metadata": {},
   "source": [
    "### Get success targets"
   ]
  },
  {
   "cell_type": "code",
   "execution_count": 2,
   "metadata": {},
   "outputs": [
    {
     "data": {
      "text/html": [
       "<div>\n",
       "<style scoped>\n",
       "    .dataframe tbody tr th:only-of-type {\n",
       "        vertical-align: middle;\n",
       "    }\n",
       "\n",
       "    .dataframe tbody tr th {\n",
       "        vertical-align: top;\n",
       "    }\n",
       "\n",
       "    .dataframe thead th {\n",
       "        text-align: right;\n",
       "    }\n",
       "</style>\n",
       "<table border=\"1\" class=\"dataframe\">\n",
       "  <thead>\n",
       "    <tr style=\"text-align: right;\">\n",
       "      <th></th>\n",
       "      <th>checkinsCount</th>\n",
       "      <th>tipCount</th>\n",
       "      <th>usersCount</th>\n",
       "    </tr>\n",
       "  </thead>\n",
       "  <tbody>\n",
       "    <tr>\n",
       "      <th>4a5f9446f964a520e0bf1fe3</th>\n",
       "      <td>2500.0</td>\n",
       "      <td>75.0</td>\n",
       "      <td>1831.0</td>\n",
       "    </tr>\n",
       "    <tr>\n",
       "      <th>4abcec53f964a520b98720e3</th>\n",
       "      <td>1550.0</td>\n",
       "      <td>17.0</td>\n",
       "      <td>913.0</td>\n",
       "    </tr>\n",
       "    <tr>\n",
       "      <th>4abdc1c7f964a5206d8b20e3</th>\n",
       "      <td>5573.0</td>\n",
       "      <td>47.0</td>\n",
       "      <td>2777.0</td>\n",
       "    </tr>\n",
       "    <tr>\n",
       "      <th>4abe4502f964a520558c20e3</th>\n",
       "      <td>97190.0</td>\n",
       "      <td>575.0</td>\n",
       "      <td>80793.0</td>\n",
       "    </tr>\n",
       "    <tr>\n",
       "      <th>4abe5714f964a520d68c20e3</th>\n",
       "      <td>1507.0</td>\n",
       "      <td>54.0</td>\n",
       "      <td>1256.0</td>\n",
       "    </tr>\n",
       "  </tbody>\n",
       "</table>\n",
       "</div>"
      ],
      "text/plain": [
       "                          checkinsCount  tipCount  usersCount\n",
       "4a5f9446f964a520e0bf1fe3         2500.0      75.0      1831.0\n",
       "4abcec53f964a520b98720e3         1550.0      17.0       913.0\n",
       "4abdc1c7f964a5206d8b20e3         5573.0      47.0      2777.0\n",
       "4abe4502f964a520558c20e3        97190.0     575.0     80793.0\n",
       "4abe5714f964a520d68c20e3         1507.0      54.0      1256.0"
      ]
     },
     "execution_count": 2,
     "metadata": {},
     "output_type": "execute_result"
    }
   ],
   "source": [
    "city        = 'london'\n",
    "outfolder   = '../ProcessedData/' + city + '/'\n",
    "successdata = outfolder + 'venues_info/' + city + '_venues_success_measures.csv'\n",
    "success     = pd.read_csv(successdata, sep = '\\t', index_col = 0)\n",
    "\n",
    "success.head()"
   ]
  },
  {
   "cell_type": "markdown",
   "metadata": {},
   "source": [
    "### Get success features"
   ]
  },
  {
   "cell_type": "code",
   "execution_count": 3,
   "metadata": {},
   "outputs": [
    {
     "data": {
      "text/html": [
       "<div>\n",
       "<style scoped>\n",
       "    .dataframe tbody tr th:only-of-type {\n",
       "        vertical-align: middle;\n",
       "    }\n",
       "\n",
       "    .dataframe tbody tr th {\n",
       "        vertical-align: top;\n",
       "    }\n",
       "\n",
       "    .dataframe thead th {\n",
       "        text-align: right;\n",
       "    }\n",
       "</style>\n",
       "<table border=\"1\" class=\"dataframe\">\n",
       "  <thead>\n",
       "    <tr style=\"text-align: right;\">\n",
       "      <th></th>\n",
       "      <th>lng</th>\n",
       "      <th>lat</th>\n",
       "      <th>lng0</th>\n",
       "      <th>lat0</th>\n",
       "      <th>lng1</th>\n",
       "      <th>lat1</th>\n",
       "      <th>length</th>\n",
       "      <th>area</th>\n",
       "    </tr>\n",
       "    <tr>\n",
       "      <th>venue</th>\n",
       "      <th></th>\n",
       "      <th></th>\n",
       "      <th></th>\n",
       "      <th></th>\n",
       "      <th></th>\n",
       "      <th></th>\n",
       "      <th></th>\n",
       "      <th></th>\n",
       "    </tr>\n",
       "  </thead>\n",
       "  <tbody>\n",
       "    <tr>\n",
       "      <th>4e4cee5f52b1075a63909062</th>\n",
       "      <td>-0.083360</td>\n",
       "      <td>51.527020</td>\n",
       "      <td>-0.089691</td>\n",
       "      <td>51.519814</td>\n",
       "      <td>-0.075719</td>\n",
       "      <td>51.537491</td>\n",
       "      <td>0.066680</td>\n",
       "      <td>0.000133</td>\n",
       "    </tr>\n",
       "    <tr>\n",
       "      <th>4c0be1a86071a59370e5e132</th>\n",
       "      <td>-0.140126</td>\n",
       "      <td>51.516108</td>\n",
       "      <td>-0.158366</td>\n",
       "      <td>51.501861</td>\n",
       "      <td>-0.128997</td>\n",
       "      <td>51.520817</td>\n",
       "      <td>0.085100</td>\n",
       "      <td>0.000259</td>\n",
       "    </tr>\n",
       "    <tr>\n",
       "      <th>4c150c047f7f2d7f55c3e168</th>\n",
       "      <td>0.080118</td>\n",
       "      <td>51.527104</td>\n",
       "      <td>0.040798</td>\n",
       "      <td>51.504768</td>\n",
       "      <td>0.099798</td>\n",
       "      <td>51.527633</td>\n",
       "      <td>0.148061</td>\n",
       "      <td>0.000810</td>\n",
       "    </tr>\n",
       "    <tr>\n",
       "      <th>4e5ccf5eb99390f45c01d2be</th>\n",
       "      <td>0.016753</td>\n",
       "      <td>51.404104</td>\n",
       "      <td>-0.007692</td>\n",
       "      <td>51.391861</td>\n",
       "      <td>0.038852</td>\n",
       "      <td>51.418558</td>\n",
       "      <td>0.164132</td>\n",
       "      <td>0.000480</td>\n",
       "    </tr>\n",
       "    <tr>\n",
       "      <th>4ea94f3bbe7b84804c354799</th>\n",
       "      <td>-0.105192</td>\n",
       "      <td>51.514147</td>\n",
       "      <td>-0.109653</td>\n",
       "      <td>51.508409</td>\n",
       "      <td>-0.097070</td>\n",
       "      <td>51.517778</td>\n",
       "      <td>0.047694</td>\n",
       "      <td>0.000046</td>\n",
       "    </tr>\n",
       "  </tbody>\n",
       "</table>\n",
       "</div>"
      ],
      "text/plain": [
       "                               lng        lat      lng0       lat0      lng1  \\\n",
       "venue                                                                          \n",
       "4e4cee5f52b1075a63909062 -0.083360  51.527020 -0.089691  51.519814 -0.075719   \n",
       "4c0be1a86071a59370e5e132 -0.140126  51.516108 -0.158366  51.501861 -0.128997   \n",
       "4c150c047f7f2d7f55c3e168  0.080118  51.527104  0.040798  51.504768  0.099798   \n",
       "4e5ccf5eb99390f45c01d2be  0.016753  51.404104 -0.007692  51.391861  0.038852   \n",
       "4ea94f3bbe7b84804c354799 -0.105192  51.514147 -0.109653  51.508409 -0.097070   \n",
       "\n",
       "                               lat1    length      area  \n",
       "venue                                                    \n",
       "4e4cee5f52b1075a63909062  51.537491  0.066680  0.000133  \n",
       "4c0be1a86071a59370e5e132  51.520817  0.085100  0.000259  \n",
       "4c150c047f7f2d7f55c3e168  51.527633  0.148061  0.000810  \n",
       "4e5ccf5eb99390f45c01d2be  51.418558  0.164132  0.000480  \n",
       "4ea94f3bbe7b84804c354799  51.517778  0.047694  0.000046  "
      ]
     },
     "execution_count": 3,
     "metadata": {},
     "output_type": "execute_result"
    }
   ],
   "source": [
    "# basic stats of wards: bbox, length, area\n",
    "\n",
    "outfolder    = '../ProcessedData/' + city + '/'\n",
    "ward_stats_f = outfolder + 'venues_info/venues_ward_full.dat'\n",
    "ward_stats   = pd.read_csv(ward_stats_f, sep = '\\t', index_col = 0).drop(['ward'], axis=1)\n",
    "ward_stats.head()"
   ]
  },
  {
   "cell_type": "code",
   "execution_count": 4,
   "metadata": {},
   "outputs": [
    {
     "data": {
      "text/html": [
       "<div>\n",
       "<style scoped>\n",
       "    .dataframe tbody tr th:only-of-type {\n",
       "        vertical-align: middle;\n",
       "    }\n",
       "\n",
       "    .dataframe tbody tr th {\n",
       "        vertical-align: top;\n",
       "    }\n",
       "\n",
       "    .dataframe thead th {\n",
       "        text-align: right;\n",
       "    }\n",
       "</style>\n",
       "<table border=\"1\" class=\"dataframe\">\n",
       "  <thead>\n",
       "    <tr style=\"text-align: right;\">\n",
       "      <th></th>\n",
       "      <th>building</th>\n",
       "      <th>food</th>\n",
       "      <th>na</th>\n",
       "      <th>travel</th>\n",
       "      <th>Venues_num</th>\n",
       "      <th>parks_outdoors</th>\n",
       "      <th>Entropy</th>\n",
       "      <th>nightlife</th>\n",
       "      <th>shops</th>\n",
       "      <th>education</th>\n",
       "      <th>event</th>\n",
       "      <th>arts_entertainment</th>\n",
       "    </tr>\n",
       "  </thead>\n",
       "  <tbody>\n",
       "    <tr>\n",
       "      <th>4a5f9446f964a520e0bf1fe3</th>\n",
       "      <td>0.171141</td>\n",
       "      <td>0.285235</td>\n",
       "      <td>0.010067</td>\n",
       "      <td>0.187919</td>\n",
       "      <td>298</td>\n",
       "      <td>0.043624</td>\n",
       "      <td>0.809398</td>\n",
       "      <td>0.053691</td>\n",
       "      <td>0.171141</td>\n",
       "      <td>0.050336</td>\n",
       "      <td>0.000000</td>\n",
       "      <td>0.026846</td>\n",
       "    </tr>\n",
       "    <tr>\n",
       "      <th>4abcec53f964a520b98720e3</th>\n",
       "      <td>0.202808</td>\n",
       "      <td>0.304086</td>\n",
       "      <td>0.009276</td>\n",
       "      <td>0.072700</td>\n",
       "      <td>3989</td>\n",
       "      <td>0.044372</td>\n",
       "      <td>0.827671</td>\n",
       "      <td>0.082477</td>\n",
       "      <td>0.166458</td>\n",
       "      <td>0.018551</td>\n",
       "      <td>0.014039</td>\n",
       "      <td>0.085234</td>\n",
       "    </tr>\n",
       "    <tr>\n",
       "      <th>4abdc1c7f964a5206d8b20e3</th>\n",
       "      <td>0.314685</td>\n",
       "      <td>0.255245</td>\n",
       "      <td>0.016317</td>\n",
       "      <td>0.038462</td>\n",
       "      <td>858</td>\n",
       "      <td>0.031469</td>\n",
       "      <td>0.781751</td>\n",
       "      <td>0.079254</td>\n",
       "      <td>0.181818</td>\n",
       "      <td>0.037296</td>\n",
       "      <td>0.003497</td>\n",
       "      <td>0.041958</td>\n",
       "    </tr>\n",
       "    <tr>\n",
       "      <th>4abe4502f964a520558c20e3</th>\n",
       "      <td>0.202808</td>\n",
       "      <td>0.304086</td>\n",
       "      <td>0.009276</td>\n",
       "      <td>0.072700</td>\n",
       "      <td>3989</td>\n",
       "      <td>0.044372</td>\n",
       "      <td>0.827671</td>\n",
       "      <td>0.082477</td>\n",
       "      <td>0.166458</td>\n",
       "      <td>0.018551</td>\n",
       "      <td>0.014039</td>\n",
       "      <td>0.085234</td>\n",
       "    </tr>\n",
       "    <tr>\n",
       "      <th>4abe5714f964a520d68c20e3</th>\n",
       "      <td>0.198785</td>\n",
       "      <td>0.275632</td>\n",
       "      <td>0.016271</td>\n",
       "      <td>0.053127</td>\n",
       "      <td>5101</td>\n",
       "      <td>0.012743</td>\n",
       "      <td>0.770674</td>\n",
       "      <td>0.086062</td>\n",
       "      <td>0.273868</td>\n",
       "      <td>0.008234</td>\n",
       "      <td>0.005489</td>\n",
       "      <td>0.069790</td>\n",
       "    </tr>\n",
       "  </tbody>\n",
       "</table>\n",
       "</div>"
      ],
      "text/plain": [
       "                          building      food        na    travel  Venues_num  \\\n",
       "4a5f9446f964a520e0bf1fe3  0.171141  0.285235  0.010067  0.187919         298   \n",
       "4abcec53f964a520b98720e3  0.202808  0.304086  0.009276  0.072700        3989   \n",
       "4abdc1c7f964a5206d8b20e3  0.314685  0.255245  0.016317  0.038462         858   \n",
       "4abe4502f964a520558c20e3  0.202808  0.304086  0.009276  0.072700        3989   \n",
       "4abe5714f964a520d68c20e3  0.198785  0.275632  0.016271  0.053127        5101   \n",
       "\n",
       "                          parks_outdoors   Entropy  nightlife     shops  \\\n",
       "4a5f9446f964a520e0bf1fe3        0.043624  0.809398   0.053691  0.171141   \n",
       "4abcec53f964a520b98720e3        0.044372  0.827671   0.082477  0.166458   \n",
       "4abdc1c7f964a5206d8b20e3        0.031469  0.781751   0.079254  0.181818   \n",
       "4abe4502f964a520558c20e3        0.044372  0.827671   0.082477  0.166458   \n",
       "4abe5714f964a520d68c20e3        0.012743  0.770674   0.086062  0.273868   \n",
       "\n",
       "                          education     event  arts_entertainment  \n",
       "4a5f9446f964a520e0bf1fe3   0.050336  0.000000            0.026846  \n",
       "4abcec53f964a520b98720e3   0.018551  0.014039            0.085234  \n",
       "4abdc1c7f964a5206d8b20e3   0.037296  0.003497            0.041958  \n",
       "4abe4502f964a520558c20e3   0.018551  0.014039            0.085234  \n",
       "4abe5714f964a520d68c20e3   0.008234  0.005489            0.069790  "
      ]
     },
     "execution_count": 4,
     "metadata": {},
     "output_type": "execute_result"
    }
   ],
   "source": [
    "# category stats of wards: number of venues, fraction of food, nightlife..., entropy\n",
    "\n",
    "ward_cats_f  = outfolder + 'venues_info/' + city + '_WARD_category_stats.csv'\n",
    "ward_cats    = pd.read_csv(ward_cats_f, sep = '\\t', index_col = 0).drop(['ward'], axis=1)\n",
    "ward_cats.head()"
   ]
  },
  {
   "cell_type": "code",
   "execution_count": 5,
   "metadata": {},
   "outputs": [
    {
     "data": {
      "text/html": [
       "<div>\n",
       "<style scoped>\n",
       "    .dataframe tbody tr th:only-of-type {\n",
       "        vertical-align: middle;\n",
       "    }\n",
       "\n",
       "    .dataframe tbody tr th {\n",
       "        vertical-align: top;\n",
       "    }\n",
       "\n",
       "    .dataframe thead th {\n",
       "        text-align: right;\n",
       "    }\n",
       "</style>\n",
       "<table border=\"1\" class=\"dataframe\">\n",
       "  <thead>\n",
       "    <tr style=\"text-align: right;\">\n",
       "      <th></th>\n",
       "      <th>degree_entropy</th>\n",
       "      <th>egosize_std</th>\n",
       "      <th>eigenvector_geo_entropy</th>\n",
       "      <th>betweenness_avg</th>\n",
       "      <th>constraint_geo_avg</th>\n",
       "      <th>egosize_entropy</th>\n",
       "      <th>eigenvector_std</th>\n",
       "      <th>strength_geo_entropy</th>\n",
       "      <th>constraint_avg</th>\n",
       "      <th>eigenvector_entropy</th>\n",
       "      <th>...</th>\n",
       "      <th>degree_avg</th>\n",
       "      <th>geo_size_of_ego_std</th>\n",
       "      <th>egosize_avg</th>\n",
       "      <th>geo_stdev_of_ego_entropy</th>\n",
       "      <th>geo_size_of_ego_entropy</th>\n",
       "      <th>clustering_avg</th>\n",
       "      <th>constraint_geo_std</th>\n",
       "      <th>strength_geo_avg</th>\n",
       "      <th>eigenvector_geo_avg</th>\n",
       "      <th>clustering_geo_avg</th>\n",
       "    </tr>\n",
       "  </thead>\n",
       "  <tbody>\n",
       "    <tr>\n",
       "      <th>4a5f9446f964a520e0bf1fe3</th>\n",
       "      <td>2.870691</td>\n",
       "      <td>17.817247</td>\n",
       "      <td>1.959647</td>\n",
       "      <td>86121.899119</td>\n",
       "      <td>0.390994</td>\n",
       "      <td>3.031483</td>\n",
       "      <td>0.034951</td>\n",
       "      <td>2.911981</td>\n",
       "      <td>0.352640</td>\n",
       "      <td>1.657756</td>\n",
       "      <td>...</td>\n",
       "      <td>20.894737</td>\n",
       "      <td>0.000015</td>\n",
       "      <td>13.578947</td>\n",
       "      <td>3.050401</td>\n",
       "      <td>3.637586</td>\n",
       "      <td>0.042713</td>\n",
       "      <td>0.313148</td>\n",
       "      <td>50.770749</td>\n",
       "      <td>0.003763</td>\n",
       "      <td>0.115633</td>\n",
       "    </tr>\n",
       "    <tr>\n",
       "      <th>4abcec53f964a520b98720e3</th>\n",
       "      <td>2.505504</td>\n",
       "      <td>23.880344</td>\n",
       "      <td>2.156664</td>\n",
       "      <td>265011.029647</td>\n",
       "      <td>0.309632</td>\n",
       "      <td>2.629491</td>\n",
       "      <td>0.066467</td>\n",
       "      <td>2.588504</td>\n",
       "      <td>0.258660</td>\n",
       "      <td>1.983019</td>\n",
       "      <td>...</td>\n",
       "      <td>32.875000</td>\n",
       "      <td>0.000015</td>\n",
       "      <td>19.750000</td>\n",
       "      <td>2.752310</td>\n",
       "      <td>3.178054</td>\n",
       "      <td>0.030472</td>\n",
       "      <td>0.293163</td>\n",
       "      <td>77.153843</td>\n",
       "      <td>0.007905</td>\n",
       "      <td>0.085077</td>\n",
       "    </tr>\n",
       "    <tr>\n",
       "      <th>4abdc1c7f964a5206d8b20e3</th>\n",
       "      <td>4.136376</td>\n",
       "      <td>28.479270</td>\n",
       "      <td>3.165466</td>\n",
       "      <td>201303.831079</td>\n",
       "      <td>0.320990</td>\n",
       "      <td>4.219250</td>\n",
       "      <td>0.107743</td>\n",
       "      <td>4.054566</td>\n",
       "      <td>0.273741</td>\n",
       "      <td>3.199299</td>\n",
       "      <td>...</td>\n",
       "      <td>31.472868</td>\n",
       "      <td>0.000015</td>\n",
       "      <td>19.031008</td>\n",
       "      <td>4.387062</td>\n",
       "      <td>4.859812</td>\n",
       "      <td>0.045808</td>\n",
       "      <td>0.296599</td>\n",
       "      <td>76.963997</td>\n",
       "      <td>0.010914</td>\n",
       "      <td>0.139903</td>\n",
       "    </tr>\n",
       "    <tr>\n",
       "      <th>4abe4502f964a520558c20e3</th>\n",
       "      <td>5.726454</td>\n",
       "      <td>20.679810</td>\n",
       "      <td>4.097569</td>\n",
       "      <td>111172.447600</td>\n",
       "      <td>0.461307</td>\n",
       "      <td>5.924366</td>\n",
       "      <td>0.063458</td>\n",
       "      <td>5.541236</td>\n",
       "      <td>0.412853</td>\n",
       "      <td>4.551911</td>\n",
       "      <td>...</td>\n",
       "      <td>17.767263</td>\n",
       "      <td>0.000015</td>\n",
       "      <td>11.453964</td>\n",
       "      <td>6.110001</td>\n",
       "      <td>6.661855</td>\n",
       "      <td>0.052769</td>\n",
       "      <td>0.333665</td>\n",
       "      <td>45.465823</td>\n",
       "      <td>0.008797</td>\n",
       "      <td>0.138118</td>\n",
       "    </tr>\n",
       "    <tr>\n",
       "      <th>4abe5714f964a520d68c20e3</th>\n",
       "      <td>3.437373</td>\n",
       "      <td>13.980069</td>\n",
       "      <td>2.077558</td>\n",
       "      <td>125308.749720</td>\n",
       "      <td>0.431582</td>\n",
       "      <td>3.563904</td>\n",
       "      <td>0.040449</td>\n",
       "      <td>3.381245</td>\n",
       "      <td>0.384001</td>\n",
       "      <td>2.540300</td>\n",
       "      <td>...</td>\n",
       "      <td>20.344828</td>\n",
       "      <td>0.000031</td>\n",
       "      <td>12.379310</td>\n",
       "      <td>3.581728</td>\n",
       "      <td>4.060443</td>\n",
       "      <td>0.065533</td>\n",
       "      <td>0.340734</td>\n",
       "      <td>45.807375</td>\n",
       "      <td>0.010647</td>\n",
       "      <td>0.179408</td>\n",
       "    </tr>\n",
       "  </tbody>\n",
       "</table>\n",
       "<p>5 rows × 54 columns</p>\n",
       "</div>"
      ],
      "text/plain": [
       "                          degree_entropy  egosize_std  \\\n",
       "4a5f9446f964a520e0bf1fe3        2.870691    17.817247   \n",
       "4abcec53f964a520b98720e3        2.505504    23.880344   \n",
       "4abdc1c7f964a5206d8b20e3        4.136376    28.479270   \n",
       "4abe4502f964a520558c20e3        5.726454    20.679810   \n",
       "4abe5714f964a520d68c20e3        3.437373    13.980069   \n",
       "\n",
       "                          eigenvector_geo_entropy  betweenness_avg  \\\n",
       "4a5f9446f964a520e0bf1fe3                 1.959647     86121.899119   \n",
       "4abcec53f964a520b98720e3                 2.156664    265011.029647   \n",
       "4abdc1c7f964a5206d8b20e3                 3.165466    201303.831079   \n",
       "4abe4502f964a520558c20e3                 4.097569    111172.447600   \n",
       "4abe5714f964a520d68c20e3                 2.077558    125308.749720   \n",
       "\n",
       "                          constraint_geo_avg  egosize_entropy  \\\n",
       "4a5f9446f964a520e0bf1fe3            0.390994         3.031483   \n",
       "4abcec53f964a520b98720e3            0.309632         2.629491   \n",
       "4abdc1c7f964a5206d8b20e3            0.320990         4.219250   \n",
       "4abe4502f964a520558c20e3            0.461307         5.924366   \n",
       "4abe5714f964a520d68c20e3            0.431582         3.563904   \n",
       "\n",
       "                          eigenvector_std  strength_geo_entropy  \\\n",
       "4a5f9446f964a520e0bf1fe3         0.034951              2.911981   \n",
       "4abcec53f964a520b98720e3         0.066467              2.588504   \n",
       "4abdc1c7f964a5206d8b20e3         0.107743              4.054566   \n",
       "4abe4502f964a520558c20e3         0.063458              5.541236   \n",
       "4abe5714f964a520d68c20e3         0.040449              3.381245   \n",
       "\n",
       "                          constraint_avg  eigenvector_entropy  \\\n",
       "4a5f9446f964a520e0bf1fe3        0.352640             1.657756   \n",
       "4abcec53f964a520b98720e3        0.258660             1.983019   \n",
       "4abdc1c7f964a5206d8b20e3        0.273741             3.199299   \n",
       "4abe4502f964a520558c20e3        0.412853             4.551911   \n",
       "4abe5714f964a520d68c20e3        0.384001             2.540300   \n",
       "\n",
       "                                 ...          degree_avg  geo_size_of_ego_std  \\\n",
       "4a5f9446f964a520e0bf1fe3         ...           20.894737             0.000015   \n",
       "4abcec53f964a520b98720e3         ...           32.875000             0.000015   \n",
       "4abdc1c7f964a5206d8b20e3         ...           31.472868             0.000015   \n",
       "4abe4502f964a520558c20e3         ...           17.767263             0.000015   \n",
       "4abe5714f964a520d68c20e3         ...           20.344828             0.000031   \n",
       "\n",
       "                          egosize_avg  geo_stdev_of_ego_entropy  \\\n",
       "4a5f9446f964a520e0bf1fe3    13.578947                  3.050401   \n",
       "4abcec53f964a520b98720e3    19.750000                  2.752310   \n",
       "4abdc1c7f964a5206d8b20e3    19.031008                  4.387062   \n",
       "4abe4502f964a520558c20e3    11.453964                  6.110001   \n",
       "4abe5714f964a520d68c20e3    12.379310                  3.581728   \n",
       "\n",
       "                          geo_size_of_ego_entropy  clustering_avg  \\\n",
       "4a5f9446f964a520e0bf1fe3                 3.637586        0.042713   \n",
       "4abcec53f964a520b98720e3                 3.178054        0.030472   \n",
       "4abdc1c7f964a5206d8b20e3                 4.859812        0.045808   \n",
       "4abe4502f964a520558c20e3                 6.661855        0.052769   \n",
       "4abe5714f964a520d68c20e3                 4.060443        0.065533   \n",
       "\n",
       "                          constraint_geo_std  strength_geo_avg  \\\n",
       "4a5f9446f964a520e0bf1fe3            0.313148         50.770749   \n",
       "4abcec53f964a520b98720e3            0.293163         77.153843   \n",
       "4abdc1c7f964a5206d8b20e3            0.296599         76.963997   \n",
       "4abe4502f964a520558c20e3            0.333665         45.465823   \n",
       "4abe5714f964a520d68c20e3            0.340734         45.807375   \n",
       "\n",
       "                          eigenvector_geo_avg  clustering_geo_avg  \n",
       "4a5f9446f964a520e0bf1fe3             0.003763            0.115633  \n",
       "4abcec53f964a520b98720e3             0.007905            0.085077  \n",
       "4abdc1c7f964a5206d8b20e3             0.010914            0.139903  \n",
       "4abe4502f964a520558c20e3             0.008797            0.138118  \n",
       "4abe5714f964a520d68c20e3             0.010647            0.179408  \n",
       "\n",
       "[5 rows x 54 columns]"
      ]
     },
     "execution_count": 5,
     "metadata": {},
     "output_type": "execute_result"
    }
   ],
   "source": [
    "# venue similarity network stuff with threshold (1000 for now) \n",
    "# and\n",
    "# user friendship network measures aggregated on the venue level\n",
    "\n",
    "network_meas_f  = outfolder + '/networks/' + city + '_COMBINED_networkmeasures.csv'\n",
    "network_meas    = pd.read_csv(network_meas_f, sep = ',', index_col = 0).replace([np.inf, -np.inf], np.nan).fillna(0.0)\n",
    "network_meas.head()"
   ]
  },
  {
   "cell_type": "code",
   "execution_count": 6,
   "metadata": {},
   "outputs": [
    {
     "data": {
      "text/html": [
       "<div>\n",
       "<style scoped>\n",
       "    .dataframe tbody tr th:only-of-type {\n",
       "        vertical-align: middle;\n",
       "    }\n",
       "\n",
       "    .dataframe tbody tr th {\n",
       "        vertical-align: top;\n",
       "    }\n",
       "\n",
       "    .dataframe thead th {\n",
       "        text-align: right;\n",
       "    }\n",
       "</style>\n",
       "<table border=\"1\" class=\"dataframe\">\n",
       "  <thead>\n",
       "    <tr style=\"text-align: right;\">\n",
       "      <th></th>\n",
       "      <th>degree_entropy</th>\n",
       "      <th>egosize_std</th>\n",
       "      <th>eigenvector_geo_entropy</th>\n",
       "      <th>betweenness_avg</th>\n",
       "      <th>constraint_geo_avg</th>\n",
       "      <th>egosize_entropy</th>\n",
       "      <th>eigenvector_std</th>\n",
       "      <th>strength_geo_entropy</th>\n",
       "      <th>constraint_avg</th>\n",
       "      <th>eigenvector_entropy</th>\n",
       "      <th>...</th>\n",
       "      <th>event</th>\n",
       "      <th>arts_entertainment</th>\n",
       "      <th>lng</th>\n",
       "      <th>lat</th>\n",
       "      <th>lng0</th>\n",
       "      <th>lat0</th>\n",
       "      <th>lng1</th>\n",
       "      <th>lat1</th>\n",
       "      <th>length</th>\n",
       "      <th>area</th>\n",
       "    </tr>\n",
       "  </thead>\n",
       "  <tbody>\n",
       "    <tr>\n",
       "      <th>4a5f9446f964a520e0bf1fe3</th>\n",
       "      <td>2.870691</td>\n",
       "      <td>17.817247</td>\n",
       "      <td>1.959647</td>\n",
       "      <td>86121.899119</td>\n",
       "      <td>0.390994</td>\n",
       "      <td>3.031483</td>\n",
       "      <td>0.034951</td>\n",
       "      <td>2.911981</td>\n",
       "      <td>0.352640</td>\n",
       "      <td>1.657756</td>\n",
       "      <td>...</td>\n",
       "      <td>0.000000</td>\n",
       "      <td>0.026846</td>\n",
       "      <td>-0.182761</td>\n",
       "      <td>51.494744</td>\n",
       "      <td>-0.191170</td>\n",
       "      <td>51.487101</td>\n",
       "      <td>-0.171678</td>\n",
       "      <td>51.495433</td>\n",
       "      <td>0.046983</td>\n",
       "      <td>0.000080</td>\n",
       "    </tr>\n",
       "    <tr>\n",
       "      <th>4abcec53f964a520b98720e3</th>\n",
       "      <td>2.505504</td>\n",
       "      <td>23.880344</td>\n",
       "      <td>2.156664</td>\n",
       "      <td>265011.029647</td>\n",
       "      <td>0.309632</td>\n",
       "      <td>2.629491</td>\n",
       "      <td>0.066467</td>\n",
       "      <td>2.588504</td>\n",
       "      <td>0.258660</td>\n",
       "      <td>1.983019</td>\n",
       "      <td>...</td>\n",
       "      <td>0.014039</td>\n",
       "      <td>0.085234</td>\n",
       "      <td>-0.131414</td>\n",
       "      <td>51.508207</td>\n",
       "      <td>-0.151685</td>\n",
       "      <td>51.493703</td>\n",
       "      <td>-0.111102</td>\n",
       "      <td>51.516040</td>\n",
       "      <td>0.111045</td>\n",
       "      <td>0.000449</td>\n",
       "    </tr>\n",
       "    <tr>\n",
       "      <th>4abdc1c7f964a5206d8b20e3</th>\n",
       "      <td>4.136376</td>\n",
       "      <td>28.479270</td>\n",
       "      <td>3.165466</td>\n",
       "      <td>201303.831079</td>\n",
       "      <td>0.320990</td>\n",
       "      <td>4.219250</td>\n",
       "      <td>0.107743</td>\n",
       "      <td>4.054566</td>\n",
       "      <td>0.273741</td>\n",
       "      <td>3.199299</td>\n",
       "      <td>...</td>\n",
       "      <td>0.003497</td>\n",
       "      <td>0.041958</td>\n",
       "      <td>-0.105242</td>\n",
       "      <td>51.523150</td>\n",
       "      <td>-0.119896</td>\n",
       "      <td>51.518541</td>\n",
       "      <td>-0.100129</td>\n",
       "      <td>51.531899</td>\n",
       "      <td>0.062448</td>\n",
       "      <td>0.000121</td>\n",
       "    </tr>\n",
       "    <tr>\n",
       "      <th>4abe4502f964a520558c20e3</th>\n",
       "      <td>5.726454</td>\n",
       "      <td>20.679810</td>\n",
       "      <td>4.097569</td>\n",
       "      <td>111172.447600</td>\n",
       "      <td>0.461307</td>\n",
       "      <td>5.924366</td>\n",
       "      <td>0.063458</td>\n",
       "      <td>5.541236</td>\n",
       "      <td>0.412853</td>\n",
       "      <td>4.551911</td>\n",
       "      <td>...</td>\n",
       "      <td>0.014039</td>\n",
       "      <td>0.085234</td>\n",
       "      <td>-0.141144</td>\n",
       "      <td>51.501838</td>\n",
       "      <td>-0.151685</td>\n",
       "      <td>51.493703</td>\n",
       "      <td>-0.111102</td>\n",
       "      <td>51.516040</td>\n",
       "      <td>0.111045</td>\n",
       "      <td>0.000449</td>\n",
       "    </tr>\n",
       "    <tr>\n",
       "      <th>4abe5714f964a520d68c20e3</th>\n",
       "      <td>3.437373</td>\n",
       "      <td>13.980069</td>\n",
       "      <td>2.077558</td>\n",
       "      <td>125308.749720</td>\n",
       "      <td>0.431582</td>\n",
       "      <td>3.563904</td>\n",
       "      <td>0.040449</td>\n",
       "      <td>3.381245</td>\n",
       "      <td>0.384001</td>\n",
       "      <td>2.540300</td>\n",
       "      <td>...</td>\n",
       "      <td>0.005489</td>\n",
       "      <td>0.069790</td>\n",
       "      <td>-0.130879</td>\n",
       "      <td>51.514157</td>\n",
       "      <td>-0.158366</td>\n",
       "      <td>51.501861</td>\n",
       "      <td>-0.128997</td>\n",
       "      <td>51.520817</td>\n",
       "      <td>0.085100</td>\n",
       "      <td>0.000259</td>\n",
       "    </tr>\n",
       "  </tbody>\n",
       "</table>\n",
       "<p>5 rows × 74 columns</p>\n",
       "</div>"
      ],
      "text/plain": [
       "                          degree_entropy  egosize_std  \\\n",
       "4a5f9446f964a520e0bf1fe3        2.870691    17.817247   \n",
       "4abcec53f964a520b98720e3        2.505504    23.880344   \n",
       "4abdc1c7f964a5206d8b20e3        4.136376    28.479270   \n",
       "4abe4502f964a520558c20e3        5.726454    20.679810   \n",
       "4abe5714f964a520d68c20e3        3.437373    13.980069   \n",
       "\n",
       "                          eigenvector_geo_entropy  betweenness_avg  \\\n",
       "4a5f9446f964a520e0bf1fe3                 1.959647     86121.899119   \n",
       "4abcec53f964a520b98720e3                 2.156664    265011.029647   \n",
       "4abdc1c7f964a5206d8b20e3                 3.165466    201303.831079   \n",
       "4abe4502f964a520558c20e3                 4.097569    111172.447600   \n",
       "4abe5714f964a520d68c20e3                 2.077558    125308.749720   \n",
       "\n",
       "                          constraint_geo_avg  egosize_entropy  \\\n",
       "4a5f9446f964a520e0bf1fe3            0.390994         3.031483   \n",
       "4abcec53f964a520b98720e3            0.309632         2.629491   \n",
       "4abdc1c7f964a5206d8b20e3            0.320990         4.219250   \n",
       "4abe4502f964a520558c20e3            0.461307         5.924366   \n",
       "4abe5714f964a520d68c20e3            0.431582         3.563904   \n",
       "\n",
       "                          eigenvector_std  strength_geo_entropy  \\\n",
       "4a5f9446f964a520e0bf1fe3         0.034951              2.911981   \n",
       "4abcec53f964a520b98720e3         0.066467              2.588504   \n",
       "4abdc1c7f964a5206d8b20e3         0.107743              4.054566   \n",
       "4abe4502f964a520558c20e3         0.063458              5.541236   \n",
       "4abe5714f964a520d68c20e3         0.040449              3.381245   \n",
       "\n",
       "                          constraint_avg  eigenvector_entropy    ...     \\\n",
       "4a5f9446f964a520e0bf1fe3        0.352640             1.657756    ...      \n",
       "4abcec53f964a520b98720e3        0.258660             1.983019    ...      \n",
       "4abdc1c7f964a5206d8b20e3        0.273741             3.199299    ...      \n",
       "4abe4502f964a520558c20e3        0.412853             4.551911    ...      \n",
       "4abe5714f964a520d68c20e3        0.384001             2.540300    ...      \n",
       "\n",
       "                             event  arts_entertainment       lng        lat  \\\n",
       "4a5f9446f964a520e0bf1fe3  0.000000            0.026846 -0.182761  51.494744   \n",
       "4abcec53f964a520b98720e3  0.014039            0.085234 -0.131414  51.508207   \n",
       "4abdc1c7f964a5206d8b20e3  0.003497            0.041958 -0.105242  51.523150   \n",
       "4abe4502f964a520558c20e3  0.014039            0.085234 -0.141144  51.501838   \n",
       "4abe5714f964a520d68c20e3  0.005489            0.069790 -0.130879  51.514157   \n",
       "\n",
       "                              lng0       lat0      lng1       lat1    length  \\\n",
       "4a5f9446f964a520e0bf1fe3 -0.191170  51.487101 -0.171678  51.495433  0.046983   \n",
       "4abcec53f964a520b98720e3 -0.151685  51.493703 -0.111102  51.516040  0.111045   \n",
       "4abdc1c7f964a5206d8b20e3 -0.119896  51.518541 -0.100129  51.531899  0.062448   \n",
       "4abe4502f964a520558c20e3 -0.151685  51.493703 -0.111102  51.516040  0.111045   \n",
       "4abe5714f964a520d68c20e3 -0.158366  51.501861 -0.128997  51.520817  0.085100   \n",
       "\n",
       "                              area  \n",
       "4a5f9446f964a520e0bf1fe3  0.000080  \n",
       "4abcec53f964a520b98720e3  0.000449  \n",
       "4abdc1c7f964a5206d8b20e3  0.000121  \n",
       "4abe4502f964a520558c20e3  0.000449  \n",
       "4abe5714f964a520d68c20e3  0.000259  \n",
       "\n",
       "[5 rows x 74 columns]"
      ]
     },
     "execution_count": 6,
     "metadata": {},
     "output_type": "execute_result"
    }
   ],
   "source": [
    "### full feature set\n",
    "\n",
    "#print network_meas.head()\n",
    "#print ward_cats.head()\n",
    "#print ward_stats.head()\n",
    "\n",
    "temp = network_meas.join(ward_cats)\n",
    "venue_features = temp.join(ward_stats)\n",
    "\n",
    "venue_features.head()"
   ]
  },
  {
   "cell_type": "markdown",
   "metadata": {},
   "source": [
    "### Drop shitty features"
   ]
  },
  {
   "cell_type": "code",
   "execution_count": 7,
   "metadata": {},
   "outputs": [
    {
     "name": "stdout",
     "output_type": "stream",
     "text": [
      "13\n",
      "64508\n",
      "30512\n"
     ]
    }
   ],
   "source": [
    "# dropping weak features keeping good ones\n",
    "ok_feats = ['closeness_entropy', 'social_stretch_entropy', 'egosize_entropy', 'geo_size_of_ego_entropy', 'pagerank_geo_entropy', 'closeness_geo_entropy', 'lng', 'lat', 'constraint_std', 'constraint_geo_entropy', 'constraint_entropy', 'degree_entropy', 'constraint_geo_std']\n",
    "\n",
    "filtered_features = pd.DataFrame()\n",
    "for feat in ok_feats:\n",
    "    filtered_features[feat] = venue_features[feat]\n",
    "    \n",
    "print len(filtered_features.keys())\n",
    "\n",
    "\n",
    "# dropping zeros\n",
    "filtered_features.head()\n",
    "\n",
    "print len(filtered_features['closeness_entropy'])\n",
    "\n",
    "\n",
    "for feat in ok_feats:\n",
    "    filtered_features = filtered_features[filtered_features[feat] != 0.0]    \n",
    "\n",
    "\n",
    "print len(filtered_features['closeness_entropy'])\n"
   ]
  },
  {
   "cell_type": "markdown",
   "metadata": {},
   "source": [
    "# REGRESSION CODE"
   ]
  },
  {
   "cell_type": "code",
   "execution_count": 21,
   "metadata": {},
   "outputs": [],
   "source": [
    "# preproc the features\n",
    "\n",
    "X_head = filtered_features.keys()\n",
    "X      = filtered_features.values\n",
    "X      = StandardScaler().fit_transform(X)\n",
    "X      = preprocessing.quantile_transform(X, output_distribution = 'normal')"
   ]
  },
  {
   "cell_type": "code",
   "execution_count": 18,
   "metadata": {},
   "outputs": [
    {
     "data": {
      "text/plain": [
       "(array([2.000e+00, 0.000e+00, 0.000e+00, 0.000e+00, 0.000e+00, 0.000e+00,\n",
       "        5.000e+00, 2.300e+01, 5.500e+01, 6.400e+01, 1.690e+02, 2.880e+02,\n",
       "        4.510e+02, 7.900e+02, 1.148e+03, 1.570e+03, 2.119e+03, 2.489e+03,\n",
       "        2.977e+03, 3.103e+03, 3.123e+03, 2.941e+03, 2.552e+03, 2.086e+03,\n",
       "        1.604e+03, 1.143e+03, 7.580e+02, 4.790e+02, 2.780e+02, 1.510e+02,\n",
       "        8.000e+01, 3.800e+01, 2.000e+01, 3.000e+00, 2.000e+00, 0.000e+00,\n",
       "        0.000e+00, 0.000e+00, 0.000e+00, 1.000e+00]),\n",
       " array([-5.19933758e+00, -4.93937070e+00, -4.67940382e+00, -4.41943695e+00,\n",
       "        -4.15947007e+00, -3.89950319e+00, -3.63953631e+00, -3.37956943e+00,\n",
       "        -3.11960255e+00, -2.85963567e+00, -2.59966879e+00, -2.33970191e+00,\n",
       "        -2.07973503e+00, -1.81976815e+00, -1.55980127e+00, -1.29983440e+00,\n",
       "        -1.03986752e+00, -7.79900637e-01, -5.19933758e-01, -2.59966879e-01,\n",
       "         4.89217555e-11,  2.59966879e-01,  5.19933758e-01,  7.79900637e-01,\n",
       "         1.03986752e+00,  1.29983440e+00,  1.55980127e+00,  1.81976815e+00,\n",
       "         2.07973503e+00,  2.33970191e+00,  2.59966879e+00,  2.85963567e+00,\n",
       "         3.11960255e+00,  3.37956943e+00,  3.63953631e+00,  3.89950319e+00,\n",
       "         4.15947007e+00,  4.41943695e+00,  4.67940382e+00,  4.93937070e+00,\n",
       "         5.19933758e+00]),\n",
       " <a list of 40 Patch objects>)"
      ]
     },
     "execution_count": 18,
     "metadata": {},
     "output_type": "execute_result"
    },
    {
     "data": {
      "image/png": "[encoded data removed]",
      "text/plain": [
       "<Figure size 432x288 with 1 Axes>"
      ]
     },
     "metadata": {},
     "output_type": "display_data"
    }
   ],
   "source": [
    "# preproc the target\n",
    "success_t = success.reset_index()\n",
    "success_t = success_t[success_t['index'].isin(list(filtered_features.index)) ]\n",
    "\n",
    "y = np.asarray(success_t['checkinsCount'])\n",
    "y = StandardScaler().fit_transform(y.reshape(-1, 1) )\n",
    "y = preprocessing.quantile_transform(y, output_distribution = 'normal')\n",
    "\n",
    "plt.hist(y, bins = 40)"
   ]
  },
  {
   "cell_type": "code",
   "execution_count": 22,
   "metadata": {},
   "outputs": [
    {
     "data": {
      "image/png": "[encoded data removed]",
      "text/plain": [
       "<Figure size 1080x864 with 12 Axes>"
      ]
     },
     "metadata": {},
     "output_type": "display_data"
    }
   ],
   "source": [
    "\n",
    "fig, axes = plt.subplots(4, 3, figsize=(15, 12))\n",
    "for i, ax in enumerate(axes.ravel()):\n",
    "    if i > 75:\n",
    "        ax.set_visible(False)\n",
    "        continue\n",
    "    ax.hist(X[:,i], bins = 40)\n",
    "    #ax.plot(X_sc[:, i], y, 'o', alpha=.05)\n",
    "    ax.set_title(X_head[i])"
   ]
  },
  {
   "cell_type": "markdown",
   "metadata": {},
   "source": [
    "## Linear Regression\n"
   ]
  },
  {
   "cell_type": "markdown",
   "metadata": {},
   "source": [
    "*** https://www.analyticsvidhya.com/blog/2016/01/complete-tutorial-ridge-lasso-regression-python/ ***"
   ]
  },
  {
   "cell_type": "code",
   "execution_count": 27,
   "metadata": {},
   "outputs": [
    {
     "name": "stdout",
     "output_type": "stream",
     "text": [
      "\n"
     ]
    }
   ],
   "source": [
    "from sklearn import linear_model\n",
    "from scipy import stats\n",
    "\n",
    "class LinearRegression(linear_model.LinearRegression):\n",
    "    \"\"\"\n",
    "    LinearRegression class after sklearn's, but calculate t-statistics and p-values for model coefficients (betas).\n",
    "    Additional attributes available after .fit() are `t` and `p` which are of the shape (y.shape[1], X.shape[1])\n",
    "    which is (n_features, n_coefs) This class sets the intercept to 0 by default, since usually we include it  in X.\n",
    "    \"\"\"\n",
    "    def __init__(self, fit_intercept=True, normalize=False, copy_X=True,\n",
    "                 n_jobs=1):\n",
    "        self.fit_intercept = fit_intercept\n",
    "        self.normalize = normalize\n",
    "        self.copy_X = copy_X\n",
    "        self.n_jobs = n_jobs\n",
    "\n",
    "    def fit(self, X, y, n_jobs=1):\n",
    "        self = super(LinearRegression, self).fit(X, y, n_jobs)\n",
    "        \n",
    "        sse = np.sum((self.predict(X) - y) ** 2, axis=0) / float(X.shape[0] - X.shape[1])\n",
    "        \n",
    "        #print sse\n",
    "        se = np.array([np.sqrt(np.diagonal(sse * np.linalg.inv(np.dot(X.T, X))))])\n",
    "        #se  = np.array([np.sqrt(np.diagonal(sse[i] * np.linalg.inv(np.dot(X.T, X)))) for i in range(sse.shape[0])])\n",
    "\n",
    "        self.t = self.coef_ / se\n",
    "        self.p = 2 * (1 - stats.t.cdf(np.abs(self.t), y.shape[0] - X.shape[1]))\n",
    "        return self"
   ]
  },
  {
   "cell_type": "code",
   "execution_count": 24,
   "metadata": {},
   "outputs": [],
   "source": [
    "from sklearn.linear_model import LinearRegression, Ridge, Lasso\n",
    "from sklearn.model_selection import cross_val_score\n",
    "from sklearn.metrics import mean_squared_error, r2_score"
   ]
  },
  {
   "cell_type": "code",
   "execution_count": 25,
   "metadata": {},
   "outputs": [],
   "source": [
    "from sklearn.model_selection import train_test_split, cross_val_predict, cross_val_score\n",
    "X_train, X_test, y_train, y_test = train_test_split(X, y, random_state=10)"
   ]
  },
  {
   "cell_type": "code",
   "execution_count": 28,
   "metadata": {},
   "outputs": [
    {
     "name": "stdout",
     "output_type": "stream",
     "text": [
      "Mean squared error: 0.44\n",
      "R^2 (training): 0.570687\n",
      "R^2 (testing):  0.566138 \n",
      "\n",
      "closeness_entropy \t\tcoeff =  [ 0.08510403  0.25673004 -0.14053789 -0.08909095  0.08455705  0.18783735\n",
      " -0.06391812 -0.01383046  0.1154563   0.15202023  0.2529351   0.03922358\n",
      "  0.03090231] \t p =  0.00027629366349368745\n"
     ]
    }
   ],
   "source": [
    "# Create linear regression object\n",
    "linear_regressor = LinearRegression()\n",
    "\n",
    "# Train the model using the training sets\n",
    "res = linear_regressor.fit(X_train, y_train)\n",
    "\n",
    "# The coefficients\n",
    "\n",
    "#print('Coefficients: \\n', linear_regressor.coef_)\n",
    "# The mean squared error\n",
    "print(\"Mean squared error: %.2f\" % mean_squared_error(y_test, linear_regressor.predict(X_test)))\n",
    "# Explained variance score: 1 is perfect prediction\n",
    "print('R^2 (training): %f' % r2_score(y_train, linear_regressor.predict(X_train)))\n",
    "print('R^2 (testing):  %f' % r2_score(y_test, linear_regressor.predict(X_test))), '\\n'\n",
    "\n",
    "#for i in range(len(linear_regressor.p)):\n",
    "    #print(linear_regressor.coef_[0][i], linear_regressor.p[i] , '\\n')\n",
    "    \n",
    "for i in range(len(linear_regressor.coef_)):\n",
    "    print X_head[i], '\\t\\tcoeff = ', linear_regressor.coef_[i], '\\t p = ',linear_regressor.p[0][i]"
   ]
  },
  {
   "cell_type": "markdown",
   "metadata": {},
   "source": [
    "### Plotting Cross-Validated Predictions"
   ]
  },
  {
   "cell_type": "code",
   "execution_count": 47,
   "metadata": {},
   "outputs": [
    {
     "data": {
      "image/png": "[encoded data removed]",
      "text/plain": [
       "<Figure size 432x288 with 1 Axes>"
      ]
     },
     "metadata": {},
     "output_type": "display_data"
    }
   ],
   "source": [
    "# cross_val_predict returns an array of the same size as `y` where each entry\n",
    "# is a prediction obtained by cross validation:\n",
    "predicted = cross_val_predict(linear_regressor, X, y, cv=5)\n",
    "\n",
    "fig, ax   = plt.subplots()\n",
    "ax.scatter(y, predicted, edgecolors=(0, 0, 0), alpha = 0.8)\n",
    "ax.plot([y.min(), y.max()], [y.min(), y.max()], 'k--', lw=2)\n",
    "ax.set_xlabel('Measured')\n",
    "ax.set_ylabel('Predicted')\n",
    "#ax.set_yscale('log')\n",
    "#ax.set_xscale('log')                                                                                                \n",
    "#ax.set_ylim([1, 200000])\n",
    "#ax.set_xlim([1, 200000])\n",
    "plt.show()\n"
   ]
  },
  {
   "cell_type": "code",
   "execution_count": 35,
   "metadata": {},
   "outputs": [
    {
     "name": "stdout",
     "output_type": "stream",
     "text": [
      "[0.55785084 0.57059437 0.56658185 0.58570192 0.5766387  0.57675566\n",
      " 0.5835272  0.55263155 0.57027339 0.55450342]\n",
      "('mean: ', 0.569505889640727)\n"
     ]
    }
   ],
   "source": [
    "results = cross_val_score(linear_regressor, X_train, y_train, cv=10)\n",
    "print(results)\n",
    "print(\"mean: \", np.mean(results))\n"
   ]
  },
  {
   "cell_type": "markdown",
   "metadata": {},
   "source": [
    "### Learning curve"
   ]
  },
  {
   "cell_type": "code",
   "execution_count": 36,
   "metadata": {},
   "outputs": [
    {
     "data": {
      "image/png": "[encoded data removed]",
      "text/plain": [
       "<Figure size 432x288 with 1 Axes>"
      ]
     },
     "metadata": {},
     "output_type": "display_data"
    }
   ],
   "source": [
    "from sklearn.model_selection import learning_curve\n",
    "\n",
    "def plot_learning_curve(est, X, y):\n",
    "    training_set_size, train_scores, test_scores = learning_curve(est, X, y, train_sizes=np.linspace(.1, 1, 20))\n",
    "    estimator_name = est.__class__.__name__\n",
    "    line = plt.plot(training_set_size, train_scores.mean(axis=1), '--', label=\"training scores \" + estimator_name)\n",
    "    plt.plot(training_set_size, test_scores.mean(axis=1), '-', label=\"test scores \" + estimator_name, c=line[0].get_color())\n",
    "    plt.xlabel('Training set size')\n",
    "    plt.legend(loc='best')\n",
    "    plt.ylim(-0.1, 1.1)\n",
    "\n",
    "plt.figure()   \n",
    "plot_learning_curve(LinearRegression(), X_train, y_train)\n"
   ]
  },
  {
   "cell_type": "markdown",
   "metadata": {},
   "source": [
    "# Ridge Regression (L2 penalty)\n"
   ]
  },
  {
   "cell_type": "code",
   "execution_count": 37,
   "metadata": {},
   "outputs": [
    {
     "name": "stdout",
     "output_type": "stream",
     "text": [
      "('Coefficients: \\n', array([[ 0.08522612,  0.25671468, -0.13942566, -0.08908068,  0.08448738,\n",
      "         0.18782752, -0.06391445, -0.01383224,  0.1151615 ,  0.15298775,\n",
      "         0.25155397,  0.03848493,  0.0311131 ]]))\n",
      "Mean squared error: 0.44\n",
      "R^2 (training): 0.570687\n",
      "R^2 (testing): 0.566136\n"
     ]
    }
   ],
   "source": [
    "# Create linear regression object\n",
    "ridge_regressor = Ridge()\n",
    "\n",
    "# Train the model using the training sets\n",
    "ridge_regressor.fit(X_train, y_train)\n",
    "\n",
    "# The coefficients\n",
    "print('Coefficients: \\n', ridge_regressor.coef_)\n",
    "# The mean squared error\n",
    "print(\"Mean squared error: %.2f\" % mean_squared_error(y_test, ridge_regressor.predict(X_test)))\n",
    "# Explained variance score: 1 is perfect prediction\n",
    "print('R^2 (training): %f' % r2_score(y_train, ridge_regressor.predict(X_train)))\n",
    "print('R^2 (testing): %f' % r2_score(y_test, ridge_regressor.predict(X_test)))"
   ]
  },
  {
   "cell_type": "markdown",
   "metadata": {},
   "source": [
    "### Tuning the hyperparameter alpha"
   ]
  },
  {
   "cell_type": "code",
   "execution_count": 38,
   "metadata": {},
   "outputs": [
    {
     "data": {
      "text/plain": [
       "<matplotlib.legend.Legend at 0x7f5164e42d50>"
      ]
     },
     "execution_count": 38,
     "metadata": {},
     "output_type": "execute_result"
    },
    {
     "data": {
      "image/png": "[encoded data removed]",
      "text/plain": [
       "<Figure size 432x288 with 1 Axes>"
      ]
     },
     "metadata": {},
     "output_type": "display_data"
    }
   ],
   "source": [
    "ridge_models = {}\n",
    "training_scores = []\n",
    "test_scores = []\n",
    "\n",
    "for alpha in [100, 10, 1, .01]:\n",
    "    ridge = Ridge(alpha=alpha).fit(X_train, y_train)\n",
    "    training_scores.append(ridge.score(X_train, y_train))\n",
    "    test_scores.append(ridge.score(X_test, y_test))\n",
    "    ridge_models[alpha] = ridge\n",
    "\n",
    "plt.figure()\n",
    "plt.plot(training_scores, label=\"training scores\")\n",
    "plt.plot(test_scores, label=\"test scores\")\n",
    "plt.xticks(range(4), [100, 10, 1, .01])\n",
    "plt.ylim([0,1])\n",
    "plt.legend(loc=\"best\")"
   ]
  },
  {
   "cell_type": "code",
   "execution_count": 42,
   "metadata": {},
   "outputs": [
    {
     "data": {
      "image/png": "[encoded data removed]",
      "text/plain": [
       "<Figure size 432x288 with 1 Axes>"
      ]
     },
     "metadata": {},
     "output_type": "display_data"
    }
   ],
   "source": [
    "plt.figure()\n",
    "plot_learning_curve(LinearRegression(), X, y)\n",
    "plot_learning_curve(Ridge(alpha=10), X, y)"
   ]
  },
  {
   "cell_type": "markdown",
   "metadata": {},
   "source": [
    "### Using GridSearchCV to set the best alpha "
   ]
  },
  {
   "cell_type": "code",
   "execution_count": 40,
   "metadata": {},
   "outputs": [
    {
     "name": "stdout",
     "output_type": "stream",
     "text": [
      "{'alpha': array([1.00000000e-03, 2.89426612e-03, 8.37677640e-03, 2.42446202e-02,\n",
      "       7.01703829e-02, 2.03091762e-01, 5.87801607e-01, 1.70125428e+00,\n",
      "       4.92388263e+00, 1.42510267e+01, 4.12462638e+01, 1.19377664e+02,\n",
      "       3.45510729e+02, 1.00000000e+03])}\n",
      "Test set score: 0.57\n",
      "Best parameters: {'alpha': 41.246263829013564}\n",
      "Best cross-validation score: 0.57\n",
      "Best estimator:\n",
      "Ridge(alpha=41.246263829013564, copy_X=True, fit_intercept=True,\n",
      "   max_iter=None, normalize=False, random_state=None, solver='auto',\n",
      "   tol=0.001)\n",
      "Accuracy on the testing set: 0.5661\n"
     ]
    }
   ],
   "source": [
    "from sklearn.model_selection import GridSearchCV\n",
    "param_grid = {'alpha': np.logspace(-3, 3, 14)}\n",
    "print(param_grid)\n",
    "\n",
    "grid_search = GridSearchCV(Ridge(), param_grid, cv=10, return_train_score=True)\n",
    "grid_search.fit(X_train, y_train)\n",
    "\n",
    "print(\"Test set score: {:.2f}\".format(grid_search.score(X_test, y_test)))\n",
    "\n",
    "print(\"Best parameters: {}\".format(grid_search.best_params_))\n",
    "print(\"Best cross-validation score: {:.2f}\".format(grid_search.best_score_))\n",
    "print(\"Best estimator:\\n{}\".format(grid_search.best_estimator_))\n",
    "print('Accuracy on the testing set: {:.4f}'.format(grid_search.best_estimator_.score(X_test, y_test)))"
   ]
  },
  {
   "cell_type": "code",
   "execution_count": 509,
   "metadata": {},
   "outputs": [
    {
     "data": {
      "image/png": "[encoded data removed]",
      "text/plain": [
       "<Figure size 432x288 with 1 Axes>"
      ]
     },
     "metadata": {},
     "output_type": "display_data"
    }
   ],
   "source": [
    "import pandas as pd\n",
    "results = pd.DataFrame(grid_search.cv_results_)\n",
    "results.plot('param_alpha', 'mean_train_score', ax=plt.gca())\n",
    "results.plot('param_alpha', 'mean_test_score', ax=plt.gca())\n",
    "\n",
    "plt.ylim([0,1])\n",
    "plt.legend()\n",
    "plt.xscale(\"log\")"
   ]
  },
  {
   "cell_type": "markdown",
   "metadata": {},
   "source": [
    "## Lasso (L1 penalty)"
   ]
  },
  {
   "cell_type": "code",
   "execution_count": 510,
   "metadata": {},
   "outputs": [
    {
     "name": "stdout",
     "output_type": "stream",
     "text": [
      "{'alpha': array([0.03162278, 0.04124626, 0.05379838, 0.07017038, 0.09152473,\n",
      "       0.11937766, 0.15570684, 0.20309176, 0.26489693, 0.34551073,\n",
      "       0.45065703, 0.58780161, 0.76668221, 1.        ])}\n"
     ]
    },
    {
     "name": "stderr",
     "output_type": "stream",
     "text": [
      "/home/milan/.local/lib/python2.7/site-packages/sklearn/linear_model/coordinate_descent.py:491: ConvergenceWarning: Objective did not converge. You might want to increase the number of iterations. Fitting data with very small alpha may cause precision problems.\n",
      "  ConvergenceWarning)\n"
     ]
    },
    {
     "name": "stdout",
     "output_type": "stream",
     "text": [
      "Test set score: 0.15\n",
      "Best parameters: {'alpha': 0.1557068404753731}\n",
      "Best cross-validation score: 0.21\n",
      "Best estimator:\n",
      "Lasso(alpha=0.1557068404753731, copy_X=True, fit_intercept=True,\n",
      "   max_iter=1000, normalize=False, positive=False, precompute=False,\n",
      "   random_state=None, selection='cyclic', tol=0.0001, warm_start=False)\n",
      "Accuracy on the testing set: 0.1534\n"
     ]
    }
   ],
   "source": [
    "param_grid = {'alpha': np.logspace(-1.5, 0, 14)}\n",
    "\n",
    "print(param_grid)\n",
    "\n",
    "grid_search = GridSearchCV(Lasso(), param_grid, cv=10, return_train_score=True)\n",
    "grid_search.fit(X_train, y_train)\n",
    "\n",
    "print(\"Test set score: {:.2f}\".format(grid_search.score(X_test, y_test)))\n",
    "\n",
    "print(\"Best parameters: {}\".format(grid_search.best_params_))\n",
    "print(\"Best cross-validation score: {:.2f}\".format(grid_search.best_score_))\n",
    "print(\"Best estimator:\\n{}\".format(grid_search.best_estimator_))\n",
    "print('Accuracy on the testing set: {:.4f}'.format(grid_search.best_estimator_.score(X_test, y_test)))"
   ]
  },
  {
   "cell_type": "markdown",
   "metadata": {},
   "source": [
    "# Robust models"
   ]
  },
  {
   "cell_type": "code",
   "execution_count": 286,
   "metadata": {},
   "outputs": [
    {
     "data": {
      "text/plain": [
       "(sklearn.linear_model.huber.HuberRegressor,\n",
       " sklearn.linear_model.ransac.RANSACRegressor)"
      ]
     },
     "execution_count": 286,
     "metadata": {},
     "output_type": "execute_result"
    }
   ],
   "source": [
    " HuberRegressor, RANSACRegressor\n",
    "\n"
   ]
  },
  {
   "cell_type": "code",
   "execution_count": null,
   "metadata": {},
   "outputs": [],
   "source": []
  },
  {
   "cell_type": "code",
   "execution_count": null,
   "metadata": {},
   "outputs": [],
   "source": []
  }
 ],
 "metadata": {
  "kernelspec": {
   "display_name": "Python 2",
   "language": "python",
   "name": "python2"
  },
  "language_info": {
   "codemirror_mode": {
    "name": "ipython",
    "version": 2
   },
   "file_extension": ".py",
   "mimetype": "text/x-python",
   "name": "python",
   "nbconvert_exporter": "python",
   "pygments_lexer": "ipython2",
   "version": "2.7.12"
  }
 },
 "nbformat": 4,
 "nbformat_minor": 2
}
