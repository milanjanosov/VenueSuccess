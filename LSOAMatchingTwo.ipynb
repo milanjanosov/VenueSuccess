{
 "cells": [
  {
   "cell_type": "code",
   "execution_count": 5,
   "metadata": {},
   "outputs": [],
   "source": [
    "import pandas as pd\n",
    "import geopandas as gpd\n",
    "import numpy as np\n",
    "import time \n",
    "import os\n",
    "from ParseJsons import check_box\n",
    "from multiprocessing import Process\n",
    "from geopandas.geoseries import Point\n",
    "\n",
    "\n",
    "\n",
    "\n",
    "def read_venues_lsoa(outfolder, city):\n",
    "\n",
    "    lsoa_venues = {}\n",
    "    infile      = outfolder + '/venues_info/venues_lsoa_full.dat'\n",
    "\n",
    "    for line in open(infile):\n",
    "        if 'lsoa' not in line:\n",
    "            fields = line.strip().split('\\t')\n",
    "            venue, lsoa = fields[0],fields[3]\n",
    "\n",
    "            if lsoa not in lsoa_venues:\n",
    "                lsoa_venues[lsoa] = [venue]\n",
    "            else:\n",
    "                lsoa_venues[lsoa].append(venue)\n",
    "\n",
    "    return lsoa_venues\n",
    "\n",
    "\n",
    "\n",
    "def read_users_lsoa(outfolder, city):\n",
    "\n",
    "    lsoa_users = {}\n",
    "    infile     = outfolder + '/user_info/user_lsoas.dat'\n",
    "\n",
    "    for line in open(infile):\n",
    "        if 'lsoa' not in line:\n",
    "            user, lsoa = line.strip().split('\\t')\n",
    "          \n",
    "            if lsoa not in lsoa_users:\n",
    "                lsoa_users[lsoa] = [user]\n",
    "            else:\n",
    "                lsoa_users[lsoa].append(user)\n",
    "\n",
    "    return lsoa_users\n",
    "\n",
    "\n",
    "def get_venues_users(outfolder, city):\n",
    "    \n",
    "    t1 = time.time()\n",
    "    print ('Getting venues user list...')\n",
    "    venues_users = {}\n",
    "    \n",
    "    for ind, line in enumerate(open(outfolder + '/venues_info/' + city + '_venues_users.dat')):\n",
    "        \n",
    "        #if ind == 10: break\n",
    "        fields = line.strip().split('\\t')\n",
    "        venue  = fields[0]\n",
    "        users  = fields[1:]\n",
    "        \n",
    "        venues_users[venue] = users\n",
    "        \n",
    "\n",
    "    print ('Venues user lists parsed\\t', time.time() - t1)\n",
    "    return venues_users\n",
    " \n",
    "    \n",
    "    \n",
    "def get_edge_weights2(city, outfolder, venues_users, lsoa_venues):\n",
    "    \n",
    "\n",
    "    t1 = time.time()\n",
    "    edges_weights2 = {}\n",
    "    print ('Parsing venue similarity network edge list...')\n",
    "    \n",
    "    nnn = len(lsoa_venues)    \n",
    "\n",
    "    for ind, (lsoa, venues) in enumerate(lsoa_venues.items()):        \n",
    "        for v1 in venues:\n",
    "            for v2 in venues:\n",
    "                if v1 != v2:\n",
    "                    edge   = '_'.join(sorted([v1, v2]))\n",
    "                    w = len(set(venues_users[v1]).intersection(set(venues_users[v2])))\n",
    "                    if w > 0:\n",
    "                        edges_weights2[edge] = w             \n",
    "\n",
    "    print ('Venues similarity network edges parsed\\t', time.time() - t1)\n",
    "    return edges_weights2   \n",
    "    "
   ]
  },
  {
   "cell_type": "code",
   "execution_count": 6,
   "metadata": {},
   "outputs": [
    {
     "name": "stdout",
     "output_type": "stream",
     "text": [
      "Getting venues user list...\n",
      "('Venues user lists parsed\\t', 2.586289167404175)\n"
     ]
    }
   ],
   "source": [
    "eps       = 0.01\n",
    "mins      = 3\n",
    "LIMIT_num = 0\n",
    "city      = 'london'\n",
    "outfolder = '../ProcessedData/' + city + '/'\n",
    "infile    = outroot + '/user_homes/centroids_filtered/' + city + '_user_homes_dbscan_' + str(eps) + '_' + str(mins) + '_' + str(LIMIT_num) + '_filtered.dat'\n",
    "\n",
    "\n",
    "\n",
    "lsoa_venues   = read_venues_lsoa(outfolder, city)\n",
    "lsoa_users    = read_users_lsoa(outfolder, city)\n",
    "venues_users  = get_venues_users(outfolder, city)\n",
    "edges_weights = get_edge_weights2(city, outfolder, venues_users, lsoa_venues) "
   ]
  },
  {
   "cell_type": "code",
   "execution_count": 8,
   "metadata": {},
   "outputs": [
    {
     "name": "stdout",
     "output_type": "stream",
     "text": [
      "Parsing venue similarity network edge list...\n",
      "('Venues similarity network edges parsed\\t', 111.57537603378296)\n"
     ]
    }
   ],
   "source": [
    "\n",
    "\n",
    "\n"
   ]
  },
  {
   "cell_type": "code",
   "execution_count": 9,
   "metadata": {},
   "outputs": [
    {
     "data": {
      "text/plain": [
       "559481"
      ]
     },
     "execution_count": 9,
     "metadata": {},
     "output_type": "execute_result"
    }
   ],
   "source": [
    "def get_node_edge_list(edges_weights):\n",
    "\n",
    "    t1 = time.time()\n",
    "    print ('Listing each nodes neighbours and those edge weights...')\n",
    "\n",
    "\n",
    "    # for each node list the edges (weights) in which they are present\n",
    "    nodes_edge_weights = {}\n",
    "    nnn = len(edges_weights)    \n",
    "\n",
    "    for ind, (e, w) in enumerate(edges_weights.items()):\n",
    "    \n",
    "#        if ind == 100: break\n",
    " #       print (ind, '/', nnn)           \n",
    " \n",
    "        e1, e2 = e.split('_')\n",
    "        \n",
    "        if e1 not in nodes_edge_weights:\n",
    "            nodes_edge_weights[e1] = [(e2, w)]\n",
    "        else:\n",
    "            nodes_edge_weights[e1].append((e2, w))\n",
    "\n",
    "                    \n",
    "        if e2 not in nodes_edge_weights:\n",
    "            nodes_edge_weights[e2] = [(e1, w)]\n",
    "        else:\n",
    "            nodes_edge_weights[e2].append((e1, w))\n",
    "        \n",
    "    print ('Neighbour list created\\t', time.time() - t1)\n",
    "    return nodes_edge_weights\n",
    "    \n",
    "\n",
    "\n"
   ]
  },
  {
   "cell_type": "code",
   "execution_count": null,
   "metadata": {},
   "outputs": [],
   "source": []
  }
 ],
 "metadata": {
  "kernelspec": {
   "display_name": "py36-test",
   "language": "python",
   "name": "py36-test"
  },
  "language_info": {
   "codemirror_mode": {
    "name": "ipython",
    "version": 2
   },
   "file_extension": ".py",
   "mimetype": "text/x-python",
   "name": "python",
   "nbconvert_exporter": "python",
   "pygments_lexer": "ipython2",
   "version": "2.7.12"
  }
 },
 "nbformat": 4,
 "nbformat_minor": 2
}
